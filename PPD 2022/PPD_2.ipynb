{
 "cells": [
  {
   "cell_type": "markdown",
   "metadata": {
    "colab_type": "text",
    "id": "view-in-github"
   },
   "source": [
    "<a href=\"https://colab.research.google.com/github/Erifai/NLP_TEXT_MINING_COVID_SEVERITY_FACTORS/blob/main/PPD_Fouille_de_texte_pour_lexploration_des_facteurs_de_s%C3%A9v%C3%A9rit%C3%A9_du_COVID19.ipynb\" target=\"_parent\"><img src=\"https://colab.research.google.com/assets/colab-badge.svg\" alt=\"Open In Colab\"/></a>"
   ]
  },
  {
   "cell_type": "markdown",
   "metadata": {
    "id": "wJ5Rg27yGdWd"
   },
   "source": [
    "# COVID-19 Literature Clustering"
   ]
  },
  {
   "cell_type": "markdown",
   "metadata": {
    "id": "ogpQOKxMeIzn"
   },
   "source": [
    "# Préparation de l'environnement"
   ]
  },
  {
   "cell_type": "code",
   "execution_count": 1,
   "metadata": {
    "colab": {
     "base_uri": "https://localhost:8080/"
    },
    "id": "4M_HY5CFGdWl",
    "outputId": "ab1477aa-26b2-4bf5-cdc1-cb8932d170df"
   },
   "outputs": [
    {
     "name": "stdout",
     "output_type": "stream",
     "text": [
      "\u001b[38;5;2m✔ Download and installation successful\u001b[0m\n",
      "You can now load the package via spacy.load('en_core_web_lg')\n"
     ]
    }
   ],
   "source": [
    "import numpy as np # linear algebra\n",
    "import pandas as pd # data processing, CSV file I/O (e.g. pd.read_csv)\n",
    "import glob\n",
    "import json\n",
    "#!pip install Bio\n",
    "#import Bio\n",
    "#from Bio import Entrez\n",
    "#from Bio import Medline\n",
    "#!pip install matplotlib==3.2.0\n",
    "import matplotlib.pyplot as plt\n",
    "plt.style.use('ggplot')\n",
    "#----------------------------------------------\n",
    "#Download the spacy bio parser\n",
    "from IPython.utils import io\n",
    "#with io.capture_output() as captured:\n",
    "#  !pip install https://s3-us-west-2.amazonaws.com/ai2-s2-scispacy/releases/v0.4.0/en_core_sci_lg-0.4.0.tar.gz\n",
    "#----------------------------\n",
    "import spacy.cli\n",
    "spacy.cli.download(\"en_core_web_lg\")\n",
    "import en_core_web_lg\n",
    "nlp = en_core_web_lg.load()\n",
    "#----------------------------\n",
    "#NLP \n",
    "import spacy\n",
    "from spacy.lang.en.stop_words import STOP_WORDS\n",
    "import en_core_sci_lg  # model downloaded in previous step\n",
    "#--------------------------------------------------\n",
    "\n",
    "#import nltk\n",
    "#nltk.download('wordnet')\n",
    "#nltk.download('averaged_perceptron_tagger')\n",
    "from nltk.corpus import wordnet\n",
    "from nltk.stem import WordNetLemmatizer"
   ]
  },
  {
   "cell_type": "code",
   "execution_count": 2,
   "metadata": {
    "id": "F8K_cxaskMUF",
    "scrolled": false
   },
   "outputs": [],
   "source": [
    "#%matplotlib inline\n",
    "#!pip install coclust\n",
    "from scipy.io import loadmat\n",
    "from sklearn.metrics import (adjusted_rand_score as ari,\n",
    "                             normalized_mutual_info_score as nmi)\n",
    "\n",
    "from coclust.coclustering import (CoclustMod, CoclustSpecMod, CoclustInfo)\n",
    "from coclust.io.data_loading import load_doc_term_data\n",
    "from coclust.evaluation.internal import best_modularity_partition\n",
    "#from coclust.evaluation.external import accuracy\n",
    "from coclust.io.notebook import(input_with_default_int, input_with_default_str)\n",
    "from coclust.visualization import (plot_max_modularities, \n",
    "                                   plot_intermediate_modularities,\n",
    "                                   plot_cluster_top_terms, \n",
    "                                   get_term_graph, \n",
    "                                   plot_cluster_sizes)\n",
    "\n",
    "\n",
    "#!pip install coclust\n",
    "from coclust.coclustering import CoclustMod\n",
    "from coclust.io.data_loading import load_doc_term_data\n",
    "from coclust.visualization import (plot_reorganized_matrix,\n",
    "                                  plot_cluster_top_terms,\n",
    "                                  plot_max_modularities,\n",
    "                                  get_term_graph,\n",
    "                                  plot_convergence)\n",
    "from coclust.evaluation.internal import best_modularity_partition\n",
    "from coclust.coclustering import CoclustMod\n",
    "import matplotlib.pyplot as plt\n",
    "import numpy as np"
   ]
  },
  {
   "cell_type": "code",
   "execution_count": 3,
   "metadata": {
    "id": "3gFH3Z-uGdWm"
   },
   "outputs": [],
   "source": [
    "def get_breaks(content, length):\n",
    "    data = \"\"\n",
    "    words = content.split(' ')\n",
    "    total_chars = 0\n",
    "\n",
    "    # add break every length characters\n",
    "    for i in range(len(words)):\n",
    "        total_chars += len(words[i])\n",
    "        if total_chars > length:\n",
    "            data = data + \"<br>\" + words[i]\n",
    "            total_chars = 0\n",
    "        else:\n",
    "            data = data + \" \" + words[i]\n",
    "    return data"
   ]
  },
  {
   "cell_type": "markdown",
   "metadata": {
    "id": "h5poRtkuGdWn"
   },
   "source": [
    "#### specification du nombre de fichiers a lire : "
   ]
  },
  {
   "cell_type": "code",
   "execution_count": 4,
   "metadata": {},
   "outputs": [],
   "source": [
    "import Bio\n",
    "from Bio import Entrez\n",
    "from Bio import Medline"
   ]
  },
  {
   "cell_type": "code",
   "execution_count": 5,
   "metadata": {
    "id": "B7dg7LQ8GdWo"
   },
   "outputs": [],
   "source": [
    "max_searchs = 5000\n",
    "terms = \"coronavirus covid covid19 severity obesity\"\n"
   ]
  },
  {
   "cell_type": "code",
   "execution_count": 36,
   "metadata": {
    "colab": {
     "base_uri": "https://localhost:8080/"
    },
    "id": "FYVl_5GdGdWp",
    "outputId": "b4ecd334-9024-4f1a-d1a1-848c8f4ed8b1"
   },
   "outputs": [
    {
     "name": "stdout",
     "output_type": "stream",
     "text": [
      "max_searchs :  5000\n",
      "0  100  200  300  400  500  600  700  800  900  1000  1100  1200  1300  1400  1500  1600  1700  1800  1900  2000  2100  2200  2300  2400  2500  2600  2700  2800  2900  3000  3100  3200  3300  3400  3500  3600  3700  3800  3900  4000  4100  4200  4300  4400  4500  4600  4700  4800  4900  "
     ]
    }
   ],
   "source": [
    "Entrez.email = 'A.N.Other@example.com'\n",
    "ids=[[]]\n",
    "print(\"max_searchs : \",max_searchs)\n",
    "for i in range(0,max_searchs,100):\n",
    "  print(i,\" \", end='')\n",
    "  h = Entrez.esearch(db='pubmed', retmax=100,retstart=i, term=terms)\n",
    "  result = Entrez.read(h)\n",
    "  ids.append(result['IdList'])\n",
    "h = Entrez.efetch(db='pubmed', id=ids, rettype='medline', retmode='json')\n",
    "records = Medline.parse(h)"
   ]
  },
  {
   "cell_type": "code",
   "execution_count": 7,
   "metadata": {
    "id": "l4ZLlyHTLPMu"
   },
   "outputs": [],
   "source": [
    "# dict_ = {'paper_id': [], 'abstract': [], 'body_text': [], 'authors': [], 'title': [], 'journal': [], 'abstract_summary': []}\n",
    "\n",
    "def append_records(records):\n",
    "    dict_ = {'paper_id': [], 'abstract': [], 'body_text': [], 'authors': [], 'title': [], 'journal': [], 'abstract_summary': []}\n",
    "    for idx, entry in enumerate(records):\n",
    "\n",
    "        if idx >max_searchs:\n",
    "            break\n",
    "        #--------------------------------------------------\n",
    "        try:\n",
    "            dict_['paper_id'].append(entry[\"PMID\"])\n",
    "        except Exception as e:\n",
    "            dict_['paper_id'].append(\"\")\n",
    "        #--------------------------------------------------      \n",
    "        try:\n",
    "            dict_['abstract'].append(entry[\"AB\"])\n",
    "            # also create a column for the summary of abstract to be used in a plot\n",
    "            if len(entry[\"AB\"]) == 0: \n",
    "                # no abstract provided\n",
    "                dict_['abstract_summary'].append(\"Not provided.\")\n",
    "            elif len(entry[\"AB\"].split(' ')) > 100:\n",
    "                # abstract provided is too long for plot, take first 100 words append with ...\n",
    "                info = entry[\"AB\"].split(' ')[:100]\n",
    "                summary = get_breaks(' '.join(info), 40)\n",
    "                dict_['abstract_summary'].append(summary + \"...\")\n",
    "            else:\n",
    "                # abstract is short enough\n",
    "                summary = get_breaks(entry[\"AB\"], 40)\n",
    "                dict_['abstract_summary'].append(summary)\n",
    "        except Exception as e:\n",
    "            dict_['abstract'].append(\"\")  \n",
    "            dict_['abstract_summary'].append(\"Not provided.\")\n",
    "\n",
    "        #--------------------------------------------------      \n",
    "        try:\n",
    "            dict_['body_text'].append(entry[\"AB\"])\n",
    "        except Exception as e:\n",
    "            dict_['body_text'].append(\"\") \n",
    "        #--------------------------------------------------\n",
    "        try:\n",
    "            # if more than one author\n",
    "            authors = entry['AU'][0].split(',')\n",
    "            if len(authors) > 2:\n",
    "                # if more than 2 authors, take them all with html tag breaks in between\n",
    "                dict_['authors'].append(get_breaks('. '.join(authors), 40))\n",
    "            else:\n",
    "                # authors will fit in plot\n",
    "                dict_['authors'].append(\". \".join(authors))\n",
    "        except Exception as e:\n",
    "            # if only one author - or Null valie\n",
    "            try : \n",
    "                dict_['authors'].append(entry['AU'][0])\n",
    "            except Exception as e:\n",
    "                dict_['authors'].append(\"\")\n",
    "\n",
    "\n",
    "        #-------------------------------------------------- \n",
    "        # add the title information, add breaks when needed\n",
    "        try:\n",
    "            title = get_breaks(entry['TI'][0], 40)\n",
    "            dict_['title'].append(title)\n",
    "        # if title was not provided\n",
    "        except Exception as e:\n",
    "            try:\n",
    "                dict_['title'].append(entry['TI'][0])\n",
    "            except Exception as e:\n",
    "                dict_['title'].append(\"\")\n",
    "        #-------------------------------------------------- \n",
    "        # add the journal information\n",
    "        try:\n",
    "            dict_['journal'].append(entry['PT'][0])\n",
    "        except Exception as e:\n",
    "            dict_['journal'].append(\"\")\n",
    "\n",
    "\n",
    "    return dict_"
   ]
  },
  {
   "cell_type": "code",
   "execution_count": 8,
   "metadata": {
    "colab": {
     "base_uri": "https://localhost:8080/"
    },
    "id": "s8peedbYLaus",
    "outputId": "6a15c7ab-6866-40b7-816e-6f06d2c994e0",
    "scrolled": true
   },
   "outputs": [
    {
     "name": "stdout",
     "output_type": "stream",
     "text": [
      "max iterations :  51\n",
      "1\n",
      "2\n",
      "3\n",
      "4\n",
      "5\n",
      "6\n",
      "7\n",
      "8\n",
      "9\n",
      "10\n",
      "11\n",
      "12\n",
      "13\n",
      "14\n",
      "15\n",
      "16\n",
      "17\n",
      "18\n",
      "19\n",
      "20\n",
      "21\n",
      "22\n",
      "23\n",
      "24\n",
      "25\n",
      "26\n",
      "27\n",
      "28\n",
      "29\n",
      "30\n",
      "31\n",
      "32\n",
      "33\n",
      "34\n",
      "35\n",
      "36\n",
      "37\n",
      "38\n",
      "39\n",
      "40\n",
      "41\n",
      "42\n",
      "43\n",
      "44\n",
      "45\n",
      "46\n",
      "47\n",
      "48\n",
      "49\n",
      "50\n"
     ]
    }
   ],
   "source": [
    "dict_1 = {'paper_id': [], 'abstract': [], 'body_text': [], 'authors': [], 'title': [], 'journal': [], 'abstract_summary': []}\n",
    "print(\"max iterations : \",len(ids))\n",
    "for i in range(1,len(ids)):\n",
    "    print(i)\n",
    "    h = Entrez.efetch(db='pubmed', id=ids[i], rettype='medline', retmode='json')\n",
    "    records = Medline.parse(h)\n",
    "\n",
    "    token = append_records(records)\n",
    "    dict_1[\"paper_id\"] = dict_1[\"paper_id\"]+token[\"paper_id\"]\n",
    "    dict_1[\"abstract\"] = dict_1[\"abstract\"] + token[\"abstract\"]\n",
    "    dict_1[\"body_text\"] =  dict_1[\"body_text\"] +token[\"body_text\"]\n",
    "    dict_1[\"authors\"] = dict_1[\"authors\"] + token[\"authors\"]\n",
    "    dict_1[\"title\"] =dict_1[\"title\"] + token[\"title\"]\n",
    "    dict_1[\"journal\"] =dict_1[\"journal\"] +token[\"journal\"]\n",
    "    dict_1[\"abstract_summary\"]=dict_1[\"abstract_summary\"]+token[\"abstract_summary\"]"
   ]
  },
  {
   "cell_type": "code",
   "execution_count": 9,
   "metadata": {},
   "outputs": [
    {
     "data": {
      "text/plain": [
       "(758, 758, 758, 758, 758, 758, 758)"
      ]
     },
     "execution_count": 9,
     "metadata": {},
     "output_type": "execute_result"
    }
   ],
   "source": [
    "len(dict_1[\"paper_id\"]),len(dict_1[\"abstract\"]),len(dict_1[\"body_text\"])  ,len(dict_1[\"authors\"]) ,len(dict_1[\"title\"]) ,len(dict_1[\"journal\"]),len(dict_1[\"abstract_summary\"])"
   ]
  },
  {
   "cell_type": "code",
   "execution_count": 10,
   "metadata": {
    "id": "uX3e5AC_Ldkk"
   },
   "outputs": [],
   "source": [
    "df_covid = pd.DataFrame(dict_1, columns=['paper_id', 'abstract', 'body_text', 'authors', 'title', 'journal', 'abstract_summary'])"
   ]
  },
  {
   "cell_type": "code",
   "execution_count": 11,
   "metadata": {
    "colab": {
     "base_uri": "https://localhost:8080/"
    },
    "id": "PMa3rqKRyd6J",
    "outputId": "d263fd24-70cb-4572-b098-d8b513e191a9"
   },
   "outputs": [
    {
     "name": "stdout",
     "output_type": "stream",
     "text": [
      "<class 'pandas.core.frame.DataFrame'>\n",
      "RangeIndex: 758 entries, 0 to 757\n",
      "Data columns (total 7 columns):\n",
      " #   Column            Non-Null Count  Dtype \n",
      "---  ------            --------------  ----- \n",
      " 0   paper_id          758 non-null    object\n",
      " 1   abstract          758 non-null    object\n",
      " 2   body_text         758 non-null    object\n",
      " 3   authors           758 non-null    object\n",
      " 4   title             758 non-null    object\n",
      " 5   journal           758 non-null    object\n",
      " 6   abstract_summary  758 non-null    object\n",
      "dtypes: object(7)\n",
      "memory usage: 41.6+ KB\n"
     ]
    }
   ],
   "source": [
    "df_covid.info()"
   ]
  },
  {
   "cell_type": "markdown",
   "metadata": {
    "id": "wyhzey_1GdWq"
   },
   "source": [
    "## Some feature engineering\n",
    "Adding word count columns for both abstract and body_text can be useful parameters later:"
   ]
  },
  {
   "cell_type": "code",
   "execution_count": 12,
   "metadata": {
    "colab": {
     "base_uri": "https://localhost:8080/",
     "height": 496
    },
    "id": "xqMfwG5pGdWr",
    "outputId": "5431a515-2925-4a9e-c745-c984429c3c14"
   },
   "outputs": [
    {
     "data": {
      "text/html": [
       "<div>\n",
       "<style scoped>\n",
       "    .dataframe tbody tr th:only-of-type {\n",
       "        vertical-align: middle;\n",
       "    }\n",
       "\n",
       "    .dataframe tbody tr th {\n",
       "        vertical-align: top;\n",
       "    }\n",
       "\n",
       "    .dataframe thead th {\n",
       "        text-align: right;\n",
       "    }\n",
       "</style>\n",
       "<table border=\"1\" class=\"dataframe\">\n",
       "  <thead>\n",
       "    <tr style=\"text-align: right;\">\n",
       "      <th></th>\n",
       "      <th>paper_id</th>\n",
       "      <th>abstract</th>\n",
       "      <th>body_text</th>\n",
       "      <th>authors</th>\n",
       "      <th>title</th>\n",
       "      <th>journal</th>\n",
       "      <th>abstract_summary</th>\n",
       "      <th>abstract_word_count</th>\n",
       "      <th>body_word_count</th>\n",
       "      <th>body_unique_words</th>\n",
       "    </tr>\n",
       "  </thead>\n",
       "  <tbody>\n",
       "    <tr>\n",
       "      <th>0</th>\n",
       "      <td>35419453</td>\n",
       "      <td>Background: The coronavirus disease 2019 (COVI...</td>\n",
       "      <td>Background: The coronavirus disease 2019 (COVI...</td>\n",
       "      <td>Claassen N</td>\n",
       "      <td>E</td>\n",
       "      <td>Journal Article</td>\n",
       "      <td>Background: The coronavirus disease 2019&lt;br&gt;(...</td>\n",
       "      <td>260</td>\n",
       "      <td>260</td>\n",
       "      <td>160</td>\n",
       "    </tr>\n",
       "    <tr>\n",
       "      <th>1</th>\n",
       "      <td>35416834</td>\n",
       "      <td>OBJECTIVE: To describe cerebrovascular manifes...</td>\n",
       "      <td>OBJECTIVE: To describe cerebrovascular manifes...</td>\n",
       "      <td>Reinaux JCF</td>\n",
       "      <td>N</td>\n",
       "      <td>Journal Article</td>\n",
       "      <td>OBJECTIVE: To describe cerebrovascular&lt;br&gt;man...</td>\n",
       "      <td>188</td>\n",
       "      <td>188</td>\n",
       "      <td>138</td>\n",
       "    </tr>\n",
       "    <tr>\n",
       "      <th>2</th>\n",
       "      <td>35416467</td>\n",
       "      <td>BACKGROUND: Although older adults aret ahigh r...</td>\n",
       "      <td>BACKGROUND: Although older adults aret ahigh r...</td>\n",
       "      <td>Kokkoris S</td>\n",
       "      <td>O</td>\n",
       "      <td>Journal Article</td>\n",
       "      <td>BACKGROUND: Although older adults aret ahigh&lt;...</td>\n",
       "      <td>252</td>\n",
       "      <td>252</td>\n",
       "      <td>178</td>\n",
       "    </tr>\n",
       "    <tr>\n",
       "      <th>3</th>\n",
       "      <td>35396748</td>\n",
       "      <td>INTRODUCTION: Interest revolving around corona...</td>\n",
       "      <td>INTRODUCTION: Interest revolving around corona...</td>\n",
       "      <td>Koupaei M</td>\n",
       "      <td>C</td>\n",
       "      <td>Journal Article</td>\n",
       "      <td>INTRODUCTION: Interest revolving around&lt;br&gt;co...</td>\n",
       "      <td>295</td>\n",
       "      <td>295</td>\n",
       "      <td>196</td>\n",
       "    </tr>\n",
       "    <tr>\n",
       "      <th>4</th>\n",
       "      <td>35393674</td>\n",
       "      <td>The interim results of the large, multinationa...</td>\n",
       "      <td>The interim results of the large, multinationa...</td>\n",
       "      <td>Pawar A</td>\n",
       "      <td>A</td>\n",
       "      <td>Journal Article</td>\n",
       "      <td>The interim results of the large,&lt;br&gt;multinat...</td>\n",
       "      <td>199</td>\n",
       "      <td>199</td>\n",
       "      <td>142</td>\n",
       "    </tr>\n",
       "  </tbody>\n",
       "</table>\n",
       "</div>"
      ],
      "text/plain": [
       "   paper_id                                           abstract  \\\n",
       "0  35419453  Background: The coronavirus disease 2019 (COVI...   \n",
       "1  35416834  OBJECTIVE: To describe cerebrovascular manifes...   \n",
       "2  35416467  BACKGROUND: Although older adults aret ahigh r...   \n",
       "3  35396748  INTRODUCTION: Interest revolving around corona...   \n",
       "4  35393674  The interim results of the large, multinationa...   \n",
       "\n",
       "                                           body_text      authors title  \\\n",
       "0  Background: The coronavirus disease 2019 (COVI...   Claassen N     E   \n",
       "1  OBJECTIVE: To describe cerebrovascular manifes...  Reinaux JCF     N   \n",
       "2  BACKGROUND: Although older adults aret ahigh r...   Kokkoris S     O   \n",
       "3  INTRODUCTION: Interest revolving around corona...    Koupaei M     C   \n",
       "4  The interim results of the large, multinationa...      Pawar A     A   \n",
       "\n",
       "           journal                                   abstract_summary  \\\n",
       "0  Journal Article   Background: The coronavirus disease 2019<br>(...   \n",
       "1  Journal Article   OBJECTIVE: To describe cerebrovascular<br>man...   \n",
       "2  Journal Article   BACKGROUND: Although older adults aret ahigh<...   \n",
       "3  Journal Article   INTRODUCTION: Interest revolving around<br>co...   \n",
       "4  Journal Article   The interim results of the large,<br>multinat...   \n",
       "\n",
       "   abstract_word_count  body_word_count  body_unique_words  \n",
       "0                  260              260                160  \n",
       "1                  188              188                138  \n",
       "2                  252              252                178  \n",
       "3                  295              295                196  \n",
       "4                  199              199                142  "
      ]
     },
     "execution_count": 12,
     "metadata": {},
     "output_type": "execute_result"
    }
   ],
   "source": [
    "df_covid['abstract_word_count'] = df_covid['abstract'].apply(lambda x: len(x.strip().split()))  # word count in abstract\n",
    "df_covid['body_word_count'] = df_covid['body_text'].apply(lambda x: len(x.strip().split()))  # word count in body\n",
    "df_covid['body_unique_words']=df_covid['body_text'].apply(lambda x:len(set(str(x).split())))  # number of unique words in body\n",
    "df_covid.head()"
   ]
  },
  {
   "cell_type": "code",
   "execution_count": 13,
   "metadata": {},
   "outputs": [
    {
     "data": {
      "text/plain": [
       "'Background: The coronavirus disease 2019 (COVID-19) pandemic in tertiary hospitals from South Africa and world wide have been well described, but limited data are published on the findings. This article aimed to describe patients admitted to a large district hospital in Cape Town, South Africa, during the first wave of severe acute respiratory syndrome coronavirus 2 (SARS-CoV-2) Infections. To compare the clinical features and further investigate survivors and deceased COVID-19 patients. Methods: A single centre retrospective review of clinical records and laboratory data of patients admitted with a positive SARS-CoV-2 polymerase chain reaction (PCR) from April 2020 to August 2020. Results: A total of 568 patients with a positive SARS-CoV-2 PCR were admitted to the study centre for one night or longer and of these patients 154 (27%) died of COVID-19. The median age of patients who died of COVID-19 was 66 years and 53 years for survivors. Hypertension, diabetes mellitus and obesity were the commonest comorbidities in patients who survived and died of COVID-19. There were no major differences when comparing the severity of infiltrates on chest X-rays (CXR) of COVID-19 survivors with deceased patients. More than half (58%) of deceased patients died within 3 days following admission to hospital. A substantial number of patients who died of COVID-19 had associated acute kidney injury (n = 79, 51%). Conclusion: Acute kidney injury had a high prevalence amongst patients who died of COVID-19. Delays in transfer to intensive care unit (ICU), limited ICU capacity and disease severity contributed to a substantial number of patients dying within 3 days of admission.'"
      ]
     },
     "execution_count": 13,
     "metadata": {},
     "output_type": "execute_result"
    }
   ],
   "source": [
    "df_covid['abstract'][0]"
   ]
  },
  {
   "cell_type": "code",
   "execution_count": 14,
   "metadata": {
    "colab": {
     "base_uri": "https://localhost:8080/"
    },
    "id": "VTiWLFCgGdWs",
    "outputId": "1580c970-5bdc-40a5-9203-4027f3be71f0"
   },
   "outputs": [
    {
     "data": {
      "text/plain": [
       "count     758\n",
       "unique    681\n",
       "top          \n",
       "freq       78\n",
       "Name: abstract, dtype: object"
      ]
     },
     "execution_count": 14,
     "metadata": {},
     "output_type": "execute_result"
    }
   ],
   "source": [
    "df_covid['abstract'].describe(include='all')"
   ]
  },
  {
   "cell_type": "markdown",
   "metadata": {
    "id": "G4vZi8C1GdWs"
   },
   "source": [
    "## Handle Possible Duplicates"
   ]
  },
  {
   "cell_type": "markdown",
   "metadata": {
    "id": "d027A619GdWt"
   },
   "source": [
    "When we look at the unique values above, we can see that there are duplicates. It may have caused because of author submiting the article to multiple journals. Let's remove the duplicats from our dataset:"
   ]
  },
  {
   "cell_type": "code",
   "execution_count": 15,
   "metadata": {
    "colab": {
     "base_uri": "https://localhost:8080/"
    },
    "id": "aFhtgIDDGdWy",
    "outputId": "4c9418ff-9c45-4467-9cfe-00cf231d1f71"
   },
   "outputs": [
    {
     "data": {
      "text/plain": [
       "count                                                   681\n",
       "unique                                                  681\n",
       "top       Background: The coronavirus disease 2019 (COVI...\n",
       "freq                                                      1\n",
       "Name: abstract, dtype: object"
      ]
     },
     "execution_count": 15,
     "metadata": {},
     "output_type": "execute_result"
    }
   ],
   "source": [
    "df_covid.drop_duplicates(['abstract', 'body_text'], inplace=True)\n",
    "df_covid['abstract'].describe(include='all')"
   ]
  },
  {
   "cell_type": "code",
   "execution_count": 16,
   "metadata": {
    "colab": {
     "base_uri": "https://localhost:8080/"
    },
    "id": "Ec-Q6244GdWz",
    "outputId": "59da6615-42ee-49ce-edca-af71263d31b4"
   },
   "outputs": [
    {
     "data": {
      "text/plain": [
       "count                                                   681\n",
       "unique                                                  681\n",
       "top       Background: The coronavirus disease 2019 (COVI...\n",
       "freq                                                      1\n",
       "Name: body_text, dtype: object"
      ]
     },
     "execution_count": 16,
     "metadata": {},
     "output_type": "execute_result"
    }
   ],
   "source": [
    "df_covid['body_text'].describe(include='all')"
   ]
  },
  {
   "cell_type": "markdown",
   "metadata": {
    "id": "gQwDVNJUGdW0"
   },
   "source": [
    "It looks like we didn't have duplicates. Instead, it was articles without Abstracts."
   ]
  },
  {
   "cell_type": "markdown",
   "metadata": {
    "id": "ftrYJq7xGdW0"
   },
   "source": [
    "## Take a Look at the Data:"
   ]
  },
  {
   "cell_type": "code",
   "execution_count": 17,
   "metadata": {
    "colab": {
     "base_uri": "https://localhost:8080/",
     "height": 300
    },
    "id": "nrL1T8XrGdW2",
    "outputId": "67ab947f-17af-4a1d-f54e-987105ebdbb1"
   },
   "outputs": [
    {
     "data": {
      "text/html": [
       "<div>\n",
       "<style scoped>\n",
       "    .dataframe tbody tr th:only-of-type {\n",
       "        vertical-align: middle;\n",
       "    }\n",
       "\n",
       "    .dataframe tbody tr th {\n",
       "        vertical-align: top;\n",
       "    }\n",
       "\n",
       "    .dataframe thead th {\n",
       "        text-align: right;\n",
       "    }\n",
       "</style>\n",
       "<table border=\"1\" class=\"dataframe\">\n",
       "  <thead>\n",
       "    <tr style=\"text-align: right;\">\n",
       "      <th></th>\n",
       "      <th>abstract_word_count</th>\n",
       "      <th>body_word_count</th>\n",
       "      <th>body_unique_words</th>\n",
       "    </tr>\n",
       "  </thead>\n",
       "  <tbody>\n",
       "    <tr>\n",
       "      <th>count</th>\n",
       "      <td>681.000000</td>\n",
       "      <td>681.000000</td>\n",
       "      <td>681.000000</td>\n",
       "    </tr>\n",
       "    <tr>\n",
       "      <th>mean</th>\n",
       "      <td>241.688693</td>\n",
       "      <td>241.688693</td>\n",
       "      <td>153.232012</td>\n",
       "    </tr>\n",
       "    <tr>\n",
       "      <th>std</th>\n",
       "      <td>105.223907</td>\n",
       "      <td>105.223907</td>\n",
       "      <td>53.452059</td>\n",
       "    </tr>\n",
       "    <tr>\n",
       "      <th>min</th>\n",
       "      <td>0.000000</td>\n",
       "      <td>0.000000</td>\n",
       "      <td>0.000000</td>\n",
       "    </tr>\n",
       "    <tr>\n",
       "      <th>25%</th>\n",
       "      <td>187.000000</td>\n",
       "      <td>187.000000</td>\n",
       "      <td>123.000000</td>\n",
       "    </tr>\n",
       "    <tr>\n",
       "      <th>50%</th>\n",
       "      <td>236.000000</td>\n",
       "      <td>236.000000</td>\n",
       "      <td>149.000000</td>\n",
       "    </tr>\n",
       "    <tr>\n",
       "      <th>75%</th>\n",
       "      <td>274.000000</td>\n",
       "      <td>274.000000</td>\n",
       "      <td>175.000000</td>\n",
       "    </tr>\n",
       "    <tr>\n",
       "      <th>max</th>\n",
       "      <td>1112.000000</td>\n",
       "      <td>1112.000000</td>\n",
       "      <td>573.000000</td>\n",
       "    </tr>\n",
       "  </tbody>\n",
       "</table>\n",
       "</div>"
      ],
      "text/plain": [
       "       abstract_word_count  body_word_count  body_unique_words\n",
       "count           681.000000       681.000000         681.000000\n",
       "mean            241.688693       241.688693         153.232012\n",
       "std             105.223907       105.223907          53.452059\n",
       "min               0.000000         0.000000           0.000000\n",
       "25%             187.000000       187.000000         123.000000\n",
       "50%             236.000000       236.000000         149.000000\n",
       "75%             274.000000       274.000000         175.000000\n",
       "max            1112.000000      1112.000000         573.000000"
      ]
     },
     "execution_count": 17,
     "metadata": {},
     "output_type": "execute_result"
    }
   ],
   "source": [
    "df_covid.describe()"
   ]
  },
  {
   "cell_type": "markdown",
   "metadata": {
    "id": "uyanCizrGdW2"
   },
   "source": [
    "# Data Pre-processing"
   ]
  },
  {
   "cell_type": "markdown",
   "metadata": {
    "id": "eQlh6HQWGdW2"
   },
   "source": [
    "### dataset size reduction :"
   ]
  },
  {
   "cell_type": "markdown",
   "metadata": {
    "id": "iaZ2a5csuio7"
   },
   "source": [
    "we can use only a part of our dataset to speedup the execution"
   ]
  },
  {
   "cell_type": "code",
   "execution_count": 18,
   "metadata": {
    "id": "UsE-eeIFGdW3"
   },
   "outputs": [],
   "source": [
    "#df = df_covid.sample(4000, random_state=42)\n",
    "df = df_covid"
   ]
  },
  {
   "cell_type": "markdown",
   "metadata": {
    "id": "cXlRaj-3GdW3"
   },
   "source": [
    "### Delete Null values   :"
   ]
  },
  {
   "cell_type": "markdown",
   "metadata": {
    "id": "FPzUrJjrGdW3"
   },
   "source": [
    "Now that we have our dataset loaded, we need to clean-up the text to improve any clustering or classification efforts. First, let's drop Null vales:"
   ]
  },
  {
   "cell_type": "code",
   "execution_count": 19,
   "metadata": {
    "colab": {
     "base_uri": "https://localhost:8080/"
    },
    "id": "Cu-44fZZGdW3",
    "outputId": "e2defb25-d7f6-46a0-ca11-280dc3a5b6bf"
   },
   "outputs": [
    {
     "name": "stdout",
     "output_type": "stream",
     "text": [
      "<class 'pandas.core.frame.DataFrame'>\n",
      "Int64Index: 681 entries, 0 to 715\n",
      "Data columns (total 10 columns):\n",
      " #   Column               Non-Null Count  Dtype \n",
      "---  ------               --------------  ----- \n",
      " 0   paper_id             681 non-null    object\n",
      " 1   abstract             681 non-null    object\n",
      " 2   body_text            681 non-null    object\n",
      " 3   authors              681 non-null    object\n",
      " 4   title                681 non-null    object\n",
      " 5   journal              681 non-null    object\n",
      " 6   abstract_summary     681 non-null    object\n",
      " 7   abstract_word_count  681 non-null    int64 \n",
      " 8   body_word_count      681 non-null    int64 \n",
      " 9   body_unique_words    681 non-null    int64 \n",
      "dtypes: int64(3), object(7)\n",
      "memory usage: 58.5+ KB\n"
     ]
    }
   ],
   "source": [
    "df[\"body_text\"].dropna(inplace=True)\n",
    "df.info()"
   ]
  },
  {
   "cell_type": "markdown",
   "metadata": {
    "id": "MFMzbLH4GdW4"
   },
   "source": [
    "### Handling multiple languages\n",
    "Next we are going to determine the language of each paper in the dataframe. Not all of the sources are English and the language needs to be identified so that we know how handle these instances"
   ]
  },
  {
   "cell_type": "code",
   "execution_count": 20,
   "metadata": {
    "colab": {
     "base_uri": "https://localhost:8080/"
    },
    "id": "bcE7FbU9GdW4",
    "outputId": "d3c8daa0-00b0-46a9-85d7-17470b5bdef0"
   },
   "outputs": [
    {
     "name": "stdout",
     "output_type": "stream",
     "text": [
      "Requirement already satisfied: tqdm in /home/kamel/.local/lib/python3.8/site-packages (4.63.1)\n",
      "Requirement already satisfied: langdetect in /home/kamel/.local/lib/python3.8/site-packages (1.0.9)\n",
      "Requirement already satisfied: six in /usr/lib/python3/dist-packages (from langdetect) (1.14.0)\n"
     ]
    },
    {
     "name": "stderr",
     "output_type": "stream",
     "text": [
      "100%|██████████| 681/681 [00:01<00:00, 349.21it/s]\n"
     ]
    }
   ],
   "source": [
    "!pip install tqdm\n",
    "import tqdm\n",
    "!pip install langdetect\n",
    "import langdetect\n",
    "from tqdm import tqdm\n",
    "from langdetect import detect\n",
    "from langdetect import DetectorFactory\n",
    "\n",
    "# set seed\n",
    "DetectorFactory.seed = 0\n",
    "# hold label - language\n",
    "languages = []\n",
    "# go through each text\n",
    "for ii in tqdm(range(0,len(df))):\n",
    "    # split by space into list, take the first x intex, join with space\n",
    "    text = df.iloc[ii]['body_text'].split(\" \")\n",
    "    lang = \"en\"\n",
    "    try:\n",
    "        if len(text) > 50:\n",
    "            lang = detect(\" \".join(text[:50]))\n",
    "        elif len(text) > 0:\n",
    "            lang = detect(\" \".join(text[:len(text)]))\n",
    "    # ught... beginning of the document was not in a good format\n",
    "    except Exception as e:\n",
    "        all_words = set(text)\n",
    "        try:\n",
    "            lang = detect(\" \".join(all_words))\n",
    "        # what!! :( let's see if we can find any text in abstract...\n",
    "        except Exception as e: \n",
    "            try:\n",
    "                # let's try to label it through the abstract then\n",
    "                lang = detect(df.iloc[ii]['abstract_summary'])\n",
    "            except Exception as e:\n",
    "                lang = \"unknown\"\n",
    "                pass\n",
    "    # get the language    \n",
    "    languages.append(lang)"
   ]
  },
  {
   "cell_type": "code",
   "execution_count": 21,
   "metadata": {
    "colab": {
     "base_uri": "https://localhost:8080/"
    },
    "id": "NemBurd8GdW5",
    "outputId": "0e12e54b-cb0e-4f84-b2d0-6a1c4dece43e"
   },
   "outputs": [
    {
     "name": "stdout",
     "output_type": "stream",
     "text": [
      "Total: 681\n",
      "\n",
      "{'en': 680, 'hu': 1}\n"
     ]
    }
   ],
   "source": [
    "from pprint import pprint\n",
    "languages_dict = {}\n",
    "for lang in set(languages):\n",
    "    languages_dict[lang] = languages.count(lang) \n",
    "print(\"Total: {}\\n\".format(len(languages)))\n",
    "pprint(languages_dict)"
   ]
  },
  {
   "cell_type": "markdown",
   "metadata": {
    "id": "pU5nSAiPGdW5"
   },
   "source": [
    "Lets take a look at the language distribution in the dataset"
   ]
  },
  {
   "cell_type": "code",
   "execution_count": 22,
   "metadata": {
    "colab": {
     "base_uri": "https://localhost:8080/",
     "height": 282
    },
    "id": "0R5MVtGdGdW5",
    "outputId": "2540a649-8c3d-45e0-f324-0df5bff13e1b"
   },
   "outputs": [
    {
     "data": {
      "image/png": "[encoded data removed]",
      "text/plain": [
       "<Figure size 432x288 with 1 Axes>"
      ]
     },
     "metadata": {},
     "output_type": "display_data"
    }
   ],
   "source": [
    "df['language'] = languages\n",
    "plt.bar(range(len(languages_dict)), list(languages_dict.values()), align='center')\n",
    "plt.xticks(range(len(languages_dict)), list(languages_dict.keys()))\n",
    "plt.title(\"Distribution of Languages in Dataset\")\n",
    "plt.show()"
   ]
  },
  {
   "cell_type": "markdown",
   "metadata": {
    "id": "D1y8e4mXGdW6"
   },
   "source": [
    "\n",
    "We will be dropping any language that is not English. Attempting to translate foreign texts gave the following problems:\n",
    "\n",
    "1. API calls were limited\n",
    "\n",
    "2. Translating the language may not carry over the true semantic meaning of the text\n"
   ]
  },
  {
   "cell_type": "code",
   "execution_count": 23,
   "metadata": {
    "colab": {
     "base_uri": "https://localhost:8080/"
    },
    "id": "0VaqWVbFGdW6",
    "outputId": "871680d8-2f3c-4a81-ee45-ff77abb59654"
   },
   "outputs": [
    {
     "name": "stdout",
     "output_type": "stream",
     "text": [
      "<class 'pandas.core.frame.DataFrame'>\n",
      "Int64Index: 680 entries, 0 to 715\n",
      "Data columns (total 11 columns):\n",
      " #   Column               Non-Null Count  Dtype \n",
      "---  ------               --------------  ----- \n",
      " 0   paper_id             680 non-null    object\n",
      " 1   abstract             680 non-null    object\n",
      " 2   body_text            680 non-null    object\n",
      " 3   authors              680 non-null    object\n",
      " 4   title                680 non-null    object\n",
      " 5   journal              680 non-null    object\n",
      " 6   abstract_summary     680 non-null    object\n",
      " 7   abstract_word_count  680 non-null    int64 \n",
      " 8   body_word_count      680 non-null    int64 \n",
      " 9   body_unique_words    680 non-null    int64 \n",
      " 10  language             680 non-null    object\n",
      "dtypes: int64(3), object(8)\n",
      "memory usage: 63.8+ KB\n"
     ]
    }
   ],
   "source": [
    "df = df[df['language'] == 'en'] \n",
    "df.info()"
   ]
  },
  {
   "cell_type": "code",
   "execution_count": 24,
   "metadata": {
    "colab": {
     "base_uri": "https://localhost:8080/"
    },
    "id": "cnysIJgzGdW6",
    "outputId": "a346d027-f780-451b-f41e-f1e0ebb55599"
   },
   "outputs": [
    {
     "name": "stdout",
     "output_type": "stream",
     "text": [
      "\u001b[38;5;2m✔ Download and installation successful\u001b[0m\n",
      "You can now load the package via spacy.load('en_core_web_lg')\n"
     ]
    }
   ],
   "source": [
    "#Download the spacy bio parser\n",
    "from IPython.utils import io\n",
    "with io.capture_output() as captured:\n",
    "  !pip install https://s3-us-west-2.amazonaws.com/ai2-s2-scispacy/releases/v0.4.0/en_core_sci_lg-0.4.0.tar.gz\n",
    "#----------------------------\n",
    "import spacy.cli\n",
    "spacy.cli.download(\"en_core_web_lg\")\n",
    "import en_core_web_lg\n",
    "nlp = en_core_web_lg.load()\n",
    "#----------------------------\n",
    "#NLP \n",
    "import spacy\n",
    "from spacy.lang.en.stop_words import STOP_WORDS\n",
    "import en_core_sci_lg  # model downloaded in previous step"
   ]
  },
  {
   "cell_type": "markdown",
   "metadata": {
    "id": "0Z6kHFa5GdW7"
   },
   "source": [
    "### Stopwords\n",
    "\n",
    "Part of the preprocessing will be finding and removing stopwords (common words that will act as noise in the clustering step)."
   ]
  },
  {
   "cell_type": "code",
   "execution_count": 25,
   "metadata": {
    "colab": {
     "base_uri": "https://localhost:8080/"
    },
    "id": "Jr5l1GxpGdW7",
    "outputId": "9646d5ca-c5f7-4d72-a2fb-c1c587dab961"
   },
   "outputs": [
    {
     "name": "stdout",
     "output_type": "stream",
     "text": [
      "----------------------------------\n",
      "stopwords  :\n",
      "['whereafter', 'each', 'so', 'somewhere', 'nothing', 'because', 'see', 'except', 'please', 'someone', 'together', 'former', 'i', 'against', 'show', 'just', 'say', 'where', 'put', 'namely', 'an', 'from', 'throughout', '‘s', 'whole', 'this', 'than', 'now', 'beside', 'through', 'seem', 'used', 'around', 'did', 'rather', 'thereby', 'our', 'elsewhere', 'doing', 'onto', 'such', 'be', '’re', 'his', 'some', 'per', 'nor', 'to', 'yourself', 'n‘t', 'became', 'get', '’ll', 'may', 'yet', 'often', 'n’t', 'very', 'call', 'how', '’m', 'ten', \"'s\", 'at', 'go', 'afterwards', \"'d\", 'or', 'once', 'next', 'else', 'several', 'but', 'her', '‘ve', 'though', 'are', 'hundred', 'everything', 'whoever', \"n't\", 'what', 'about', 'thereafter', \"'ll\", 'under', 'we', 'few', 'serious', 'become', 'made', 'many', 'sometimes', 'whose', 'is', 'another', 'still', 'first', 'done', 'nine', 'thence', 'these', 'among', 'being', 're', 'sixty', 'while', 'were', 'none', 'indeed', 'you', 'when', '’d', 'nevertheless', 'give', 'really', 'in', 'him', 'themselves', 'fifty', 'regarding', 'its', 'two', 'them', 'somehow', 'enough', 'might', \"'m\", 'least', 'which', 'third', 'as', 'every', 'thru', \"'ve\", 'never', 'if', 'beforehand', 'over', 'does', \"'re\", 'am', 'seems', 'ourselves', 'hereby', 'who', 'perhaps', 'us', 'anyhow', 'me', 'whereas', 'along', 'although', '’ve', 'with', 'front', 'up', 'the', 'should', 'those', 'into', 'herself', 'across', 'top', 'both', 'do', 'five', 'itself', 'and', 'sometime', 'amount', 'towards', 'has', 'whereby', 'more', 'three', 'been', 'here', 'was', 'whence', 'upon', 'almost', 'becoming', 'during', 'everyone', 'using', 'latter', 'hereupon', 'again', 'empty', 'side', 'wherever', 'before', '‘m', 'anyone', 'much', 'nobody', 'same', 'why', 'quite', 'twenty', 'unless', 'then', 'via', '‘d', 'therein', 'thereupon', 'it', 'no', 'eleven', 'your', 'alone', 'any', 'other', 'forty', 'can', 'yourselves', 'there', 'she', 'within', 'too', 'therefore', 'back', 'besides', 'ever', 'herein', 'hereafter', 'everywhere', 'between', 'mostly', 'ours', 'mine', 'all', 'above', 'either', 'meanwhile', 'anywhere', 'even', 'bottom', 'my', 'whether', 'must', 'myself', 'something', 'that', 'also', 'most', 'whither', 'eight', 'by', 'will', 'seemed', 'himself', 'hers', 'amongst', 'beyond', 'until', 'below', 'always', 'fifteen', 'one', '‘re', 'various', 'anything', 'formerly', 'have', 'wherein', 'toward', '‘ll', 'down', 'take', 'without', 'anyway', 'less', 'a', 'others', 'keep', 'he', 'could', 'name', 'four', 'since', 'full', 'already', 'off', 'moreover', 'yours', 'nowhere', 'part', 'own', 'not', 'make', 'of', 'whereupon', 'their', 'thus', 'whatever', 'hence', 'last', 'had', 'move', 'whenever', 'only', 'after', 'for', 'otherwise', 'would', 'twelve', '’s', 'becomes', 'out', 'behind', 'latterly', 'cannot', 'however', 'noone', 'ca', 'six', 'well', 'further', 'neither', 'seeming', 'due', 'they', 'on', 'whom']\n",
      "----------------------------------\n",
      "punctuations  : \n",
      "!\"#$%&'()*+,-./:;<=>?@[\\]^_`{|}~\n"
     ]
    }
   ],
   "source": [
    "import string\n",
    "#punctuations\n",
    "punctuations = string.punctuation\n",
    "#stopwords\n",
    "stopwords = list(STOP_WORDS)\n",
    "print(\"----------------------------------\")\n",
    "print(\"stopwords  :\" )\n",
    "print(stopwords)\n",
    "print(\"----------------------------------\")\n",
    "print(\"punctuations  : \")\n",
    "print(punctuations)"
   ]
  },
  {
   "cell_type": "markdown",
   "metadata": {
    "id": "cGzgeg9dGdW8"
   },
   "source": [
    "Now the above stopwords are used in everyday english text. Research papers will often frequently use words that don't actually contribute to the meaning and are not considered everyday stopwords.\n"
   ]
  },
  {
   "cell_type": "code",
   "execution_count": 26,
   "metadata": {
    "id": "jIWi1cUBGdW8"
   },
   "outputs": [],
   "source": [
    "custom_stop_words = [\n",
    "    'doi', 'preprint', 'copyright', 'peer', 'reviewed', 'org', 'https', 'et', 'al', 'author', 'figure', \n",
    "    'rights', 'reserved', 'permission', 'used', 'using', 'biorxiv', 'medrxiv', 'license', 'fig', 'fig.', \n",
    "    'al.', 'Elsevier', 'PMC', 'CZI', 'www' , 'the' , 'THE' ,\"19\" ,\"-\"]\n",
    "\n",
    "for w in custom_stop_words:\n",
    "    if w not in stopwords:\n",
    "        stopwords.append(w)"
   ]
  },
  {
   "cell_type": "markdown",
   "metadata": {
    "id": "Vqksra4AGdW8"
   },
   "source": [
    "### Next lets create a function that will process the text data for us. \n",
    "For this purpose we will be using the spacy library. This function will convert text to lower case, remove punctuation, and find and remove stopwords. For the parser, we will use en_core_sci_lg. This is a model for processing biomedical, scientific or clinical text."
   ]
  },
  {
   "cell_type": "markdown",
   "metadata": {
    "id": "1_pK3UIauipA"
   },
   "source": [
    "### Stop words , Ponctuation and Lemmatizing"
   ]
  },
  {
   "cell_type": "code",
   "execution_count": 27,
   "metadata": {
    "colab": {
     "base_uri": "https://localhost:8080/"
    },
    "id": "VXz-7XXYGdW9",
    "outputId": "ae63e9e8-b7ca-4106-8a1d-7a8a6cf96333"
   },
   "outputs": [
    {
     "name": "stderr",
     "output_type": "stream",
     "text": [
      "<ipython-input-27-6ab7ca468df0>:17: SettingWithCopyWarning: \n",
      "A value is trying to be set on a copy of a slice from a DataFrame.\n",
      "Try using .loc[row_indexer,col_indexer] = value instead\n",
      "\n",
      "See the caveats in the documentation: https://pandas.pydata.org/pandas-docs/stable/user_guide/indexing.html#returning-a-view-versus-a-copy\n",
      "  df[\"processed_text\"] = df[\"body_text\"].apply(spacy_process)\n"
     ]
    }
   ],
   "source": [
    "import spacy\n",
    "import re\n",
    "nlp = en_core_web_lg.load()\n",
    "def spacy_process(texte):\n",
    "\n",
    "    #URLs\n",
    "    string = re.sub(r\"https?://\\S+|www.\\S+\",'',texte)\n",
    "    #html \n",
    "    string = re.sub(r'<.*?>','',string)\n",
    "    #Numbers\n",
    "    string = re.sub(r'[0-9]+','',string) \n",
    "\n",
    "    mytokens = nlp(string)\n",
    "    mytokens2 = [word.lemma_.lower().strip() for word in mytokens if word.pos_ != \"PUNCT\" and word.text.lower() not in stopwords and word.text.lower() not in punctuations]\n",
    "    mytokens2 = \" \".join([i for i in mytokens2])\n",
    "    return mytokens2\n",
    "df[\"processed_text\"] = df[\"body_text\"].apply(spacy_process)"
   ]
  },
  {
   "cell_type": "code",
   "execution_count": 28,
   "metadata": {
    "id": "RNCjwjtVZ2Mq"
   },
   "outputs": [],
   "source": [
    "#df[\"processed_text\"].to_csv(\"text_cleaned.csv\")\n"
   ]
  },
  {
   "cell_type": "code",
   "execution_count": 29,
   "metadata": {
    "id": "LYl0_UhObjt0"
   },
   "outputs": [],
   "source": [
    "df.to_csv(\"C:\\\\Users\\\\Seyf_GOUMEIDA\\\\Desktop\\\\PPD\\\\new_text_cleaned.csv\")\n"
   ]
  },
  {
   "cell_type": "markdown",
   "metadata": {
    "id": "MUa3hW_rGdW-"
   },
   "source": [
    "### Exemple for lemmatizing with Lemma"
   ]
  },
  {
   "cell_type": "markdown",
   "metadata": {
    "id": "zCXI53AOuipA"
   },
   "source": [
    "it doesn't detect the conjugaison of the verbs so we need to use an other lemmmatizer"
   ]
  },
  {
   "cell_type": "code",
   "execution_count": 30,
   "metadata": {
    "colab": {
     "base_uri": "https://localhost:8080/"
    },
    "id": "o4KDJ0KqGdW-",
    "outputId": "e0f32b08-3456-4cc1-eb1e-ac2efb942923"
   },
   "outputs": [
    {
     "name": "stdout",
     "output_type": "stream",
     "text": [
      "vaccinations  : vaccination\n",
      "vaccination  : vaccination\n",
      "vaccinating  : vaccinate\n",
      "vaccinated  : vaccinate\n"
     ]
    }
   ],
   "source": [
    "test1 = spacy_process(\"vaccinations\")\n",
    "test2 = spacy_process(\"vaccination\")\n",
    "test3 = spacy_process(\"vaccinating\")\n",
    "test4 = spacy_process(\"vaccinated\")\n",
    "print(\"vaccinations  :\" , test1)\n",
    "print(\"vaccination  :\" ,test2)\n",
    "print(\"vaccinating  :\" ,test3)\n",
    "print(\"vaccinated  :\" ,test4)"
   ]
  },
  {
   "cell_type": "code",
   "execution_count": 31,
   "metadata": {
    "id": "PZye4CoHGdXA"
   },
   "outputs": [],
   "source": [
    "# processed_text = df[\"processed_text\"]\n",
    "# body_text = df[\"body_text\"]\n",
    "\n",
    "# for i in range(0,10):\n",
    "#     print(\"body_text[i]\")\n",
    "#     print(body_text[i])\n",
    "#     print(\"\")\n",
    "#     print(\"processed_text[i]\")\n",
    "#     print(processed_text[i])\n",
    "#     print(\"\")\n",
    "#     print(\"----------------------------------------------------------\")\n",
    "\n"
   ]
  },
  {
   "cell_type": "markdown",
   "metadata": {
    "id": "ADe6yiQUGdXK"
   },
   "source": [
    "### Let's take a look at word count in the papers"
   ]
  },
  {
   "cell_type": "code",
   "execution_count": 32,
   "metadata": {
    "id": "QkCHs7YzGdXL"
   },
   "outputs": [],
   "source": [
    "import seaborn as sns"
   ]
  },
  {
   "cell_type": "code",
   "execution_count": 33,
   "metadata": {
    "colab": {
     "base_uri": "https://localhost:8080/",
     "height": 497
    },
    "id": "CEkqhYSoGdXL",
    "outputId": "6e1f3add-937f-463d-b1aa-1bd2153b7319"
   },
   "outputs": [
    {
     "name": "stderr",
     "output_type": "stream",
     "text": [
      "/home/kamel/.local/lib/python3.8/site-packages/seaborn/distributions.py:2619: FutureWarning: `distplot` is a deprecated function and will be removed in a future version. Please adapt your code to use either `displot` (a figure-level function with similar flexibility) or `histplot` (an axes-level function for histograms).\n",
      "  warnings.warn(msg, FutureWarning)\n"
     ]
    },
    {
     "data": {
      "text/plain": [
       "count     680.000000\n",
       "mean      242.042647\n",
       "std       104.894868\n",
       "min         0.000000\n",
       "25%       187.000000\n",
       "50%       236.500000\n",
       "75%       274.250000\n",
       "max      1112.000000\n",
       "Name: body_word_count, dtype: float64"
      ]
     },
     "execution_count": 33,
     "metadata": {},
     "output_type": "execute_result"
    },
    {
     "data": {
      "image/png": "[encoded data removed]",
      "text/plain": [
       "<Figure size 432x288 with 1 Axes>"
      ]
     },
     "metadata": {},
     "output_type": "display_data"
    }
   ],
   "source": [
    "sns.distplot(df['body_word_count'])\n",
    "df['body_word_count'].describe()"
   ]
  },
  {
   "cell_type": "code",
   "execution_count": 34,
   "metadata": {
    "colab": {
     "base_uri": "https://localhost:8080/",
     "height": 493
    },
    "id": "UJl1yVcGGdXL",
    "outputId": "972d012a-93be-41d1-daae-23c68170bca7"
   },
   "outputs": [
    {
     "name": "stderr",
     "output_type": "stream",
     "text": [
      "/home/kamel/.local/lib/python3.8/site-packages/seaborn/distributions.py:2619: FutureWarning: `distplot` is a deprecated function and will be removed in a future version. Please adapt your code to use either `displot` (a figure-level function with similar flexibility) or `histplot` (an axes-level function for histograms).\n",
      "  warnings.warn(msg, FutureWarning)\n"
     ]
    },
    {
     "data": {
      "text/plain": [
       "count    680.000000\n",
       "mean     153.455882\n",
       "std       53.170948\n",
       "min        0.000000\n",
       "25%      123.000000\n",
       "50%      149.000000\n",
       "75%      175.000000\n",
       "max      573.000000\n",
       "Name: body_unique_words, dtype: float64"
      ]
     },
     "execution_count": 34,
     "metadata": {},
     "output_type": "execute_result"
    },
    {
     "data": {
      "image/png": "[encoded data removed]",
      "text/plain": [
       "<Figure size 432x288 with 1 Axes>"
      ]
     },
     "metadata": {},
     "output_type": "display_data"
    }
   ],
   "source": [
    "sns.distplot(df['body_unique_words'])\n",
    "df['body_unique_words'].describe()"
   ]
  },
  {
   "cell_type": "markdown",
   "metadata": {
    "id": "alMrEpYlvnwn"
   },
   "source": []
  },
  {
   "cell_type": "markdown",
   "metadata": {
    "id": "U-brgMCWewo-"
   },
   "source": [
    "# Vectorisation"
   ]
  },
  {
   "cell_type": "code",
   "execution_count": 35,
   "metadata": {
    "id": "4YGzci-ikDEr"
   },
   "outputs": [
    {
     "ename": "FileNotFoundError",
     "evalue": "[Errno 2] No such file or directory: './new_text_cleaned.csv'",
     "output_type": "error",
     "traceback": [
      "\u001b[0;31m---------------------------------------------------------------------------\u001b[0m",
      "\u001b[0;31mFileNotFoundError\u001b[0m                         Traceback (most recent call last)",
      "\u001b[0;32m<ipython-input-35-a35c935a2e43>\u001b[0m in \u001b[0;36m<module>\u001b[0;34m\u001b[0m\n\u001b[1;32m      1\u001b[0m \u001b[0;32mimport\u001b[0m \u001b[0mpandas\u001b[0m \u001b[0;32mas\u001b[0m \u001b[0mpd\u001b[0m\u001b[0;34m\u001b[0m\u001b[0;34m\u001b[0m\u001b[0m\n\u001b[0;32m----> 2\u001b[0;31m \u001b[0mdf\u001b[0m \u001b[0;34m=\u001b[0m \u001b[0mpd\u001b[0m\u001b[0;34m.\u001b[0m\u001b[0mread_csv\u001b[0m\u001b[0;34m(\u001b[0m\u001b[0;34m'./new_text_cleaned.csv'\u001b[0m\u001b[0;34m)\u001b[0m\u001b[0;34m\u001b[0m\u001b[0;34m\u001b[0m\u001b[0m\n\u001b[0m\u001b[1;32m      3\u001b[0m \u001b[0;31m#df = pd.read_csv(\"/content/text_cleaned.csv\")\u001b[0m\u001b[0;34m\u001b[0m\u001b[0;34m\u001b[0m\u001b[0;34m\u001b[0m\u001b[0m\n\u001b[1;32m      4\u001b[0m \u001b[0mdf\u001b[0m\u001b[0;34m.\u001b[0m\u001b[0mdrop\u001b[0m\u001b[0;34m(\u001b[0m\u001b[0mcolumns\u001b[0m\u001b[0;34m=\u001b[0m\u001b[0;34m\"Unnamed: 0\"\u001b[0m\u001b[0;34m,\u001b[0m\u001b[0minplace\u001b[0m\u001b[0;34m=\u001b[0m\u001b[0;32mTrue\u001b[0m\u001b[0;34m)\u001b[0m\u001b[0;34m\u001b[0m\u001b[0;34m\u001b[0m\u001b[0m\n\u001b[1;32m      5\u001b[0m \u001b[0mdf\u001b[0m\u001b[0;34m.\u001b[0m\u001b[0mdropna\u001b[0m\u001b[0;34m(\u001b[0m\u001b[0minplace\u001b[0m\u001b[0;34m=\u001b[0m\u001b[0;32mTrue\u001b[0m\u001b[0;34m)\u001b[0m\u001b[0;34m\u001b[0m\u001b[0;34m\u001b[0m\u001b[0m\n",
      "\u001b[0;32m~/.local/lib/python3.8/site-packages/pandas/util/_decorators.py\u001b[0m in \u001b[0;36mwrapper\u001b[0;34m(*args, **kwargs)\u001b[0m\n\u001b[1;32m    309\u001b[0m                     \u001b[0mstacklevel\u001b[0m\u001b[0;34m=\u001b[0m\u001b[0mstacklevel\u001b[0m\u001b[0;34m,\u001b[0m\u001b[0;34m\u001b[0m\u001b[0;34m\u001b[0m\u001b[0m\n\u001b[1;32m    310\u001b[0m                 )\n\u001b[0;32m--> 311\u001b[0;31m             \u001b[0;32mreturn\u001b[0m \u001b[0mfunc\u001b[0m\u001b[0;34m(\u001b[0m\u001b[0;34m*\u001b[0m\u001b[0margs\u001b[0m\u001b[0;34m,\u001b[0m \u001b[0;34m**\u001b[0m\u001b[0mkwargs\u001b[0m\u001b[0;34m)\u001b[0m\u001b[0;34m\u001b[0m\u001b[0;34m\u001b[0m\u001b[0m\n\u001b[0m\u001b[1;32m    312\u001b[0m \u001b[0;34m\u001b[0m\u001b[0m\n\u001b[1;32m    313\u001b[0m         \u001b[0;32mreturn\u001b[0m \u001b[0mwrapper\u001b[0m\u001b[0;34m\u001b[0m\u001b[0;34m\u001b[0m\u001b[0m\n",
      "\u001b[0;32m~/.local/lib/python3.8/site-packages/pandas/io/parsers/readers.py\u001b[0m in \u001b[0;36mread_csv\u001b[0;34m(filepath_or_buffer, sep, delimiter, header, names, index_col, usecols, squeeze, prefix, mangle_dupe_cols, dtype, engine, converters, true_values, false_values, skipinitialspace, skiprows, skipfooter, nrows, na_values, keep_default_na, na_filter, verbose, skip_blank_lines, parse_dates, infer_datetime_format, keep_date_col, date_parser, dayfirst, cache_dates, iterator, chunksize, compression, thousands, decimal, lineterminator, quotechar, quoting, doublequote, escapechar, comment, encoding, encoding_errors, dialect, error_bad_lines, warn_bad_lines, on_bad_lines, delim_whitespace, low_memory, memory_map, float_precision, storage_options)\u001b[0m\n\u001b[1;32m    678\u001b[0m     \u001b[0mkwds\u001b[0m\u001b[0;34m.\u001b[0m\u001b[0mupdate\u001b[0m\u001b[0;34m(\u001b[0m\u001b[0mkwds_defaults\u001b[0m\u001b[0;34m)\u001b[0m\u001b[0;34m\u001b[0m\u001b[0;34m\u001b[0m\u001b[0m\n\u001b[1;32m    679\u001b[0m \u001b[0;34m\u001b[0m\u001b[0m\n\u001b[0;32m--> 680\u001b[0;31m     \u001b[0;32mreturn\u001b[0m \u001b[0m_read\u001b[0m\u001b[0;34m(\u001b[0m\u001b[0mfilepath_or_buffer\u001b[0m\u001b[0;34m,\u001b[0m \u001b[0mkwds\u001b[0m\u001b[0;34m)\u001b[0m\u001b[0;34m\u001b[0m\u001b[0;34m\u001b[0m\u001b[0m\n\u001b[0m\u001b[1;32m    681\u001b[0m \u001b[0;34m\u001b[0m\u001b[0m\n\u001b[1;32m    682\u001b[0m \u001b[0;34m\u001b[0m\u001b[0m\n",
      "\u001b[0;32m~/.local/lib/python3.8/site-packages/pandas/io/parsers/readers.py\u001b[0m in \u001b[0;36m_read\u001b[0;34m(filepath_or_buffer, kwds)\u001b[0m\n\u001b[1;32m    573\u001b[0m \u001b[0;34m\u001b[0m\u001b[0m\n\u001b[1;32m    574\u001b[0m     \u001b[0;31m# Create the parser.\u001b[0m\u001b[0;34m\u001b[0m\u001b[0;34m\u001b[0m\u001b[0;34m\u001b[0m\u001b[0m\n\u001b[0;32m--> 575\u001b[0;31m     \u001b[0mparser\u001b[0m \u001b[0;34m=\u001b[0m \u001b[0mTextFileReader\u001b[0m\u001b[0;34m(\u001b[0m\u001b[0mfilepath_or_buffer\u001b[0m\u001b[0;34m,\u001b[0m \u001b[0;34m**\u001b[0m\u001b[0mkwds\u001b[0m\u001b[0;34m)\u001b[0m\u001b[0;34m\u001b[0m\u001b[0;34m\u001b[0m\u001b[0m\n\u001b[0m\u001b[1;32m    576\u001b[0m \u001b[0;34m\u001b[0m\u001b[0m\n\u001b[1;32m    577\u001b[0m     \u001b[0;32mif\u001b[0m \u001b[0mchunksize\u001b[0m \u001b[0;32mor\u001b[0m \u001b[0miterator\u001b[0m\u001b[0;34m:\u001b[0m\u001b[0;34m\u001b[0m\u001b[0;34m\u001b[0m\u001b[0m\n",
      "\u001b[0;32m~/.local/lib/python3.8/site-packages/pandas/io/parsers/readers.py\u001b[0m in \u001b[0;36m__init__\u001b[0;34m(self, f, engine, **kwds)\u001b[0m\n\u001b[1;32m    931\u001b[0m \u001b[0;34m\u001b[0m\u001b[0m\n\u001b[1;32m    932\u001b[0m         \u001b[0mself\u001b[0m\u001b[0;34m.\u001b[0m\u001b[0mhandles\u001b[0m\u001b[0;34m:\u001b[0m \u001b[0mIOHandles\u001b[0m \u001b[0;34m|\u001b[0m \u001b[0;32mNone\u001b[0m \u001b[0;34m=\u001b[0m \u001b[0;32mNone\u001b[0m\u001b[0;34m\u001b[0m\u001b[0;34m\u001b[0m\u001b[0m\n\u001b[0;32m--> 933\u001b[0;31m         \u001b[0mself\u001b[0m\u001b[0;34m.\u001b[0m\u001b[0m_engine\u001b[0m \u001b[0;34m=\u001b[0m \u001b[0mself\u001b[0m\u001b[0;34m.\u001b[0m\u001b[0m_make_engine\u001b[0m\u001b[0;34m(\u001b[0m\u001b[0mf\u001b[0m\u001b[0;34m,\u001b[0m \u001b[0mself\u001b[0m\u001b[0;34m.\u001b[0m\u001b[0mengine\u001b[0m\u001b[0;34m)\u001b[0m\u001b[0;34m\u001b[0m\u001b[0;34m\u001b[0m\u001b[0m\n\u001b[0m\u001b[1;32m    934\u001b[0m \u001b[0;34m\u001b[0m\u001b[0m\n\u001b[1;32m    935\u001b[0m     \u001b[0;32mdef\u001b[0m \u001b[0mclose\u001b[0m\u001b[0;34m(\u001b[0m\u001b[0mself\u001b[0m\u001b[0;34m)\u001b[0m\u001b[0;34m:\u001b[0m\u001b[0;34m\u001b[0m\u001b[0;34m\u001b[0m\u001b[0m\n",
      "\u001b[0;32m~/.local/lib/python3.8/site-packages/pandas/io/parsers/readers.py\u001b[0m in \u001b[0;36m_make_engine\u001b[0;34m(self, f, engine)\u001b[0m\n\u001b[1;32m   1215\u001b[0m             \u001b[0;31m# \"Union[str, PathLike[str], ReadCsvBuffer[bytes], ReadCsvBuffer[str]]\"\u001b[0m\u001b[0;34m\u001b[0m\u001b[0;34m\u001b[0m\u001b[0;34m\u001b[0m\u001b[0m\n\u001b[1;32m   1216\u001b[0m             \u001b[0;31m# , \"str\", \"bool\", \"Any\", \"Any\", \"Any\", \"Any\", \"Any\"\u001b[0m\u001b[0;34m\u001b[0m\u001b[0;34m\u001b[0m\u001b[0;34m\u001b[0m\u001b[0m\n\u001b[0;32m-> 1217\u001b[0;31m             self.handles = get_handle(  # type: ignore[call-overload]\n\u001b[0m\u001b[1;32m   1218\u001b[0m                 \u001b[0mf\u001b[0m\u001b[0;34m,\u001b[0m\u001b[0;34m\u001b[0m\u001b[0;34m\u001b[0m\u001b[0m\n\u001b[1;32m   1219\u001b[0m                 \u001b[0mmode\u001b[0m\u001b[0;34m,\u001b[0m\u001b[0;34m\u001b[0m\u001b[0;34m\u001b[0m\u001b[0m\n",
      "\u001b[0;32m~/.local/lib/python3.8/site-packages/pandas/io/common.py\u001b[0m in \u001b[0;36mget_handle\u001b[0;34m(path_or_buf, mode, encoding, compression, memory_map, is_text, errors, storage_options)\u001b[0m\n\u001b[1;32m    787\u001b[0m         \u001b[0;32mif\u001b[0m \u001b[0mioargs\u001b[0m\u001b[0;34m.\u001b[0m\u001b[0mencoding\u001b[0m \u001b[0;32mand\u001b[0m \u001b[0;34m\"b\"\u001b[0m \u001b[0;32mnot\u001b[0m \u001b[0;32min\u001b[0m \u001b[0mioargs\u001b[0m\u001b[0;34m.\u001b[0m\u001b[0mmode\u001b[0m\u001b[0;34m:\u001b[0m\u001b[0;34m\u001b[0m\u001b[0;34m\u001b[0m\u001b[0m\n\u001b[1;32m    788\u001b[0m             \u001b[0;31m# Encoding\u001b[0m\u001b[0;34m\u001b[0m\u001b[0;34m\u001b[0m\u001b[0;34m\u001b[0m\u001b[0m\n\u001b[0;32m--> 789\u001b[0;31m             handle = open(\n\u001b[0m\u001b[1;32m    790\u001b[0m                 \u001b[0mhandle\u001b[0m\u001b[0;34m,\u001b[0m\u001b[0;34m\u001b[0m\u001b[0;34m\u001b[0m\u001b[0m\n\u001b[1;32m    791\u001b[0m                 \u001b[0mioargs\u001b[0m\u001b[0;34m.\u001b[0m\u001b[0mmode\u001b[0m\u001b[0;34m,\u001b[0m\u001b[0;34m\u001b[0m\u001b[0;34m\u001b[0m\u001b[0m\n",
      "\u001b[0;31mFileNotFoundError\u001b[0m: [Errno 2] No such file or directory: './new_text_cleaned.csv'"
     ]
    }
   ],
   "source": [
    "import pandas as pd\n",
    "df = pd.read_csv('./new_text_cleaned.csv')\n",
    "#df = pd.read_csv(\"/content/text_cleaned.csv\")\n",
    "df.drop(columns=\"Unnamed: 0\",inplace=True)\n",
    "df.dropna(inplace=True)"
   ]
  },
  {
   "cell_type": "code",
   "execution_count": null,
   "metadata": {
    "colab": {
     "base_uri": "https://localhost:8080/"
    },
    "id": "HGd1qp_QfQ53",
    "outputId": "e54a10a3-6747-4e31-c6a5-96ce882869ae"
   },
   "outputs": [],
   "source": [
    "from sklearn.feature_extraction.text import TfidfVectorizer\n",
    "def vectorize(text):\n",
    "    \n",
    "    global vectorizer \n",
    "    X = vectorizer.fit_transform(text)\n",
    "    return X\n",
    "#-----------------------------------------------------------\n",
    "text = df['processed_text'].values\n",
    "vectorizer = TfidfVectorizer(max_features= 2 ** 12)\n",
    "X = vectorize(text)\n",
    "X.shape"
   ]
  },
  {
   "cell_type": "code",
   "execution_count": null,
   "metadata": {
    "colab": {
     "base_uri": "https://localhost:8080/"
    },
    "id": "QfEYbfXV0y7U",
    "outputId": "cb100e22-5332-45f3-85b6-dadc136e5dd6"
   },
   "outputs": [],
   "source": [
    "# on doit vérifier si le vectorizer prend 2**12 premiers mots ou bien par nombre d'occurences \n",
    "all_terms_tfidf = vectorizer.get_feature_names()"
   ]
  },
  {
   "cell_type": "markdown",
   "metadata": {
    "id": "HDDmnO7CsN0-"
   },
   "source": [
    "# Coclust"
   ]
  },
  {
   "cell_type": "code",
   "execution_count": null,
   "metadata": {
    "colab": {
     "base_uri": "https://localhost:8080/"
    },
    "id": "R5l645atkX7d",
    "outputId": "0b5d2a3b-f42e-4935-8d93-b21ce548ae12"
   },
   "outputs": [],
   "source": [
    "# ** Compute the final coClust modularity on a range of number of clusters **\n",
    "\n",
    "# -- range of number of clusters\n",
    "# ---- get min\n",
    "min_cluster_nbr = 2\n",
    "max_cluster_nbr = 9\n",
    "range_n_clusters = range(min_cluster_nbr, (max_cluster_nbr+1))\n",
    "\n",
    "# -- Number of random initialization per cluster number\n",
    "n_rand_init = 1\n",
    "\n",
    "# --  max modularity for all models\n",
    "model, all_max_modularities = best_modularity_partition(X,range_n_clusters, n_rand_init)"
   ]
  },
  {
   "cell_type": "code",
   "execution_count": null,
   "metadata": {
    "colab": {
     "base_uri": "https://localhost:8080/",
     "height": 325
    },
    "id": "y9NFtKPmmGsq",
    "outputId": "aadcca86-50dc-419a-db87-61af74053edb"
   },
   "outputs": [],
   "source": [
    "# ** Plot all final modularities **\n",
    "plot_max_modularities(all_max_modularities, range_n_clusters)"
   ]
  },
  {
   "cell_type": "code",
   "execution_count": null,
   "metadata": {
    "colab": {
     "base_uri": "https://localhost:8080/",
     "height": 325
    },
    "id": "nt5RSj5vmPcz",
    "outputId": "ebd44929-9e55-4d21-d137-7ef31af730c8"
   },
   "outputs": [],
   "source": [
    "# ** Plot intermediate modularities for the best CoClust final modularity **\n",
    "plot_intermediate_modularities(model)"
   ]
  },
  {
   "cell_type": "code",
   "execution_count": null,
   "metadata": {
    "colab": {
     "base_uri": "https://localhost:8080/",
     "height": 1000
    },
    "id": "TWp86PF1mWMN",
    "outputId": "d59b3652-96ca-43d7-a35c-db460fdb4151",
    "scrolled": false
   },
   "outputs": [],
   "source": [
    "import matplotlib.pyplot as plt\n",
    "plt.rcParams[\"figure.figsize\"] = (6,8)\n",
    "\n",
    "from coclust.visualization import (plot_reorganized_matrix,\n",
    "                                  plot_cluster_top_terms,\n",
    "                                  plot_max_modularities,\n",
    "                                  get_term_graph,\n",
    "                                  plot_convergence)\n",
    "# ** Plot top terms for each cluster and the cluster sizes **\n",
    "n_terms = 20\n",
    "# plot the reorganized matrix\n",
    "\n",
    "plot_reorganized_matrix(X, model, markersize=0.9)\n",
    "# --> top terms\n",
    "plot_cluster_top_terms(X, all_terms_tfidf, n_terms, model)\n",
    "# --> cluster sizes\n",
    "print(\"taille de chaque cluster :\")\n",
    "plot_cluster_sizes(model)"
   ]
  },
  {
   "cell_type": "code",
   "execution_count": null,
   "metadata": {
    "id": "eGNFFuuonCvs"
   },
   "outputs": [],
   "source": [
    "# ** Plot the term graph for a given cluster of terms **\n",
    "graph = get_term_graph(X,model, all_terms_tfidf, 1, 10, 5)"
   ]
  },
  {
   "cell_type": "code",
   "execution_count": null,
   "metadata": {
    "colab": {
     "base_uri": "https://localhost:8080/",
     "height": 17
    },
    "id": "VIudim2rp1ii",
    "outputId": "2b53eefb-77a8-41cc-db70-dc4a341340ff"
   },
   "outputs": [],
   "source": [
    "%%javascript\n",
    "require.config({\n",
    "  paths: {\n",
    "      d3: '//cdnjs.cloudflare.com/ajax/libs/d3/3.4.8/d3.min'\n",
    "  }\n",
    "});\n"
   ]
  },
  {
   "cell_type": "code",
   "execution_count": null,
   "metadata": {
    "colab": {
     "base_uri": "https://localhost:8080/",
     "height": 17
    },
    "id": "thW3FvTXp3i5",
    "outputId": "e3c943ee-2e38-47db-aa42-2f3e930080d5"
   },
   "outputs": [],
   "source": [
    " from IPython.display import Javascript\n",
    " #runs arbitrary javascript, client-side\n",
    " Javascript(\"\"\"\n",
    "            window.graph={};\n",
    "            \"\"\".format(graph))"
   ]
  },
  {
   "cell_type": "code",
   "execution_count": 37,
   "metadata": {
    "id": "5voMukEdp7Us",
    "scrolled": true
   },
   "outputs": [
    {
     "data": {
      "application/javascript": [
       " require(['d3'], function(d3){\n",
       "   //a weird idempotency thing\n",
       "   $(\"#chart1\").remove();\n",
       "   //create canvas\n",
       "   element.append(\"<div id='chart1'></div>\");\n",
       "   $(\"#chart1\").width(\"1160px\");\n",
       "   $(\"#chart1\").height(\"800px\");        \n",
       "   var margin = {top: 20, right: 20, bottom: 30, left: 40};\n",
       "   var width = 1280 - margin.left - margin.right;\n",
       "   var height = 800 - margin.top - margin.bottom;\n",
       "   var svg = d3.select(\"#chart1\").append(\"svg\")\n",
       "     .style(\"position\", \"relative\")\n",
       "     .style(\"max-width\", \"960px\")\n",
       "     .attr(\"width\", width + \"px\")\n",
       "     .attr(\"height\", (height + 50) + \"px\")\n",
       "     .call(d3.behavior.zoom().on(\"zoom\", redraw))\n",
       "     .append(\"g\")\n",
       "     .attr(\"transform\", \"translate(\" + margin.left + \",\" + margin.top + \")\");\n",
       "    \n",
       "    \n",
       "   function redraw() {\n",
       "       svg.attr(\"transform\",\n",
       "                \"translate(\" + d3.event.translate + \")\"\n",
       "                + \" scale(\" + d3.event.scale + \")\");\n",
       "   }   \n",
       "   var color = d3.scale.category20();\n",
       "   var force = d3.layout.force()\n",
       "     .charge(-500)\n",
       "     //.linkDistance(5)\n",
       "     .linkDistance(function(d) { return (1 - d.value); })\n",
       "     .size([width, height]);\n",
       "   var graph = window.graph;\n",
       "   \n",
       "   force\n",
       "       .nodes(graph.nodes)\n",
       "       .links(graph.links)\n",
       "       .start();\n",
       "\n",
       "   var link = svg.selectAll(\".link\")\n",
       "       .data(graph.links)\n",
       "       .enter().append(\"line\")\n",
       "       .attr(\"class\", \"link\")\n",
       "       .style(\"stroke\", \"#999;\")\n",
       "       .style(\"stroke-opacity\", .6)\n",
       "       .style(\"stroke-width\", function(d) { return Math.sqrt(d.value); })\n",
       " \n",
       "       .style(\"stroke\", \"blue\");\n",
       "   var node = svg.selectAll(\".node\")\n",
       "       .data(graph.nodes)\n",
       "       .enter().append(\"g\")\n",
       "       .attr(\"class\", \"node\")\n",
       "       .call(force.drag);\n",
       "   \n",
       "   node.append(\"circle\")\n",
       "       .attr(\"class\", \"node_circle\")\n",
       "       .attr(\"r\", 8)\n",
       "       .style(\"fill\", function(d) { return color(d.group); });\n",
       "   node.append(\"text\")\n",
       "       .attr(\"class\", \"node_text\")\n",
       "       .attr(\"dx\", 12)\n",
       "       .attr(\"dy\", \".35em\")\n",
       "       .text(function(d) { return d.name });\n",
       "   node.append(\"title\")\n",
       "       .text(function(d) { return d.name; });\n",
       "   var node_text = svg.selectAll(\".node_text\");\n",
       "   var node_circle = svg.selectAll(\".node_circle\");\n",
       "   \n",
       "   force.on(\"tick\", function() {\n",
       "     link.attr(\"x1\", function(d) { return d.source.x; })\n",
       "         .attr(\"y1\", function(d) { return d.source.y; })\n",
       "         .attr(\"x2\", function(d) { return d.target.x; })\n",
       "         .attr(\"y2\", function(d) { return d.target.y; });\n",
       "     node_circle.attr(\"cx\", function(d) { return d.x; })\n",
       "         .attr(\"cy\", function(d) { return d.y; });\n",
       "     \n",
       "     node_text.attr(\"x\", function(d) { return d.x; })\n",
       "         .attr(\"y\", function(d) { return d.y; });\n",
       "   });\n",
       " });\n"
      ],
      "text/plain": [
       "<IPython.core.display.Javascript object>"
      ]
     },
     "metadata": {},
     "output_type": "display_data"
    }
   ],
   "source": [
    "%%javascript\n",
    " require(['d3'], function(d3){\n",
    "   //a weird idempotency thing\n",
    "   $(\"#chart1\").remove();\n",
    "   //create canvas\n",
    "   element.append(\"<div id='chart1'></div>\");\n",
    "   $(\"#chart1\").width(\"1160px\");\n",
    "   $(\"#chart1\").height(\"800px\");        \n",
    "   var margin = {top: 20, right: 20, bottom: 30, left: 40};\n",
    "   var width = 1280 - margin.left - margin.right;\n",
    "   var height = 800 - margin.top - margin.bottom;\n",
    "   var svg = d3.select(\"#chart1\").append(\"svg\")\n",
    "     .style(\"position\", \"relative\")\n",
    "     .style(\"max-width\", \"960px\")\n",
    "     .attr(\"width\", width + \"px\")\n",
    "     .attr(\"height\", (height + 50) + \"px\")\n",
    "     .call(d3.behavior.zoom().on(\"zoom\", redraw))\n",
    "     .append(\"g\")\n",
    "     .attr(\"transform\", \"translate(\" + margin.left + \",\" + margin.top + \")\");\n",
    "    \n",
    "    \n",
    "   function redraw() {\n",
    "       svg.attr(\"transform\",\n",
    "                \"translate(\" + d3.event.translate + \")\"\n",
    "                + \" scale(\" + d3.event.scale + \")\");\n",
    "   }   \n",
    "   var color = d3.scale.category20();\n",
    "   var force = d3.layout.force()\n",
    "     .charge(-500)\n",
    "     //.linkDistance(5)\n",
    "     .linkDistance(function(d) { return (1 - d.value); })\n",
    "     .size([width, height]);\n",
    "   var graph = window.graph;\n",
    "   \n",
    "   force\n",
    "       .nodes(graph.nodes)\n",
    "       .links(graph.links)\n",
    "       .start();\n",
    "\n",
    "   var link = svg.selectAll(\".link\")\n",
    "       .data(graph.links)\n",
    "       .enter().append(\"line\")\n",
    "       .attr(\"class\", \"link\")\n",
    "       .style(\"stroke\", \"#999;\")\n",
    "       .style(\"stroke-opacity\", .6)\n",
    "       .style(\"stroke-width\", function(d) { return Math.sqrt(d.value); })\n",
    " \n",
    "       .style(\"stroke\", \"blue\");\n",
    "   var node = svg.selectAll(\".node\")\n",
    "       .data(graph.nodes)\n",
    "       .enter().append(\"g\")\n",
    "       .attr(\"class\", \"node\")\n",
    "       .call(force.drag);\n",
    "   \n",
    "   node.append(\"circle\")\n",
    "       .attr(\"class\", \"node_circle\")\n",
    "       .attr(\"r\", 8)\n",
    "       .style(\"fill\", function(d) { return color(d.group); });\n",
    "   node.append(\"text\")\n",
    "       .attr(\"class\", \"node_text\")\n",
    "       .attr(\"dx\", 12)\n",
    "       .attr(\"dy\", \".35em\")\n",
    "       .text(function(d) { return d.name });\n",
    "   node.append(\"title\")\n",
    "       .text(function(d) { return d.name; });\n",
    "   var node_text = svg.selectAll(\".node_text\");\n",
    "   var node_circle = svg.selectAll(\".node_circle\");\n",
    "   \n",
    "   force.on(\"tick\", function() {\n",
    "     link.attr(\"x1\", function(d) { return d.source.x; })\n",
    "         .attr(\"y1\", function(d) { return d.source.y; })\n",
    "         .attr(\"x2\", function(d) { return d.target.x; })\n",
    "         .attr(\"y2\", function(d) { return d.target.y; });\n",
    "     node_circle.attr(\"cx\", function(d) { return d.x; })\n",
    "         .attr(\"cy\", function(d) { return d.y; });\n",
    "     \n",
    "     node_text.attr(\"x\", function(d) { return d.x; })\n",
    "         .attr(\"y\", function(d) { return d.y; });\n",
    "   });\n",
    " });"
   ]
  },
  {
   "cell_type": "markdown",
   "metadata": {},
   "source": [
    "# NER"
   ]
  },
  {
   "cell_type": "code",
   "execution_count": null,
   "metadata": {},
   "outputs": [],
   "source": [
    "!pip install https://s3-us-west-2.amazonaws.com/ai2-s2-scispacy/releases/v0.4.0/en_ner_bc5cdr_md-0.4.0.tar.gz\n",
    "import en_ner_bc5cdr_md\n",
    "nlp = spacy.load(\"en_ner_bc5cdr_md\")\n",
    "\n"
   ]
  },
  {
   "cell_type": "code",
   "execution_count": null,
   "metadata": {},
   "outputs": [],
   "source": [
    "\n",
    "nlp = spacy.load(\"en_ner_bc5cdr_md\")\n",
    "clusters_terms=[]\n",
    "for i in range(0,model.n_clusters):\n",
    "    row_indices, col_indices = model.get_indices(i)\n",
    "    clusters_terms.append(np.array(all_terms_tfidf)[col_indices])"
   ]
  },
  {
   "cell_type": "code",
   "execution_count": null,
   "metadata": {},
   "outputs": [],
   "source": [
    "deseases_per_cluster=  {}\n",
    "desease=[]\n",
    "\n",
    "for j in range(0,len(clusters_terms)):\n",
    "    for i in clusters_terms[j]:\n",
    "        doc = nlp(str(i))  \n",
    "        word = [e.text for e in doc.ents if (e.label_ == \"DISEASE\")]\n",
    "        if len(word)!=0 : desease.append(word[0])\n",
    "    deseases_per_cluster[j] =desease\n",
    "    print(\"TERM_LIST \",j, \" : \" ,desease)\n",
    "    desease=[]\n",
    " "
   ]
  },
  {
   "cell_type": "code",
   "execution_count": null,
   "metadata": {},
   "outputs": [],
   "source": [
    "for i in deseases_per_cluster:\n",
    "    print(len(deseases_per_cluster[i]),\" deseases\")"
   ]
  },
  {
   "cell_type": "code",
   "execution_count": null,
   "metadata": {},
   "outputs": [],
   "source": [
    "cluster1 = model.get_submatrix(X, 1)\n",
    "p = cluster1.sum(0)\n",
    "p"
   ]
  },
  {
   "cell_type": "code",
   "execution_count": null,
   "metadata": {},
   "outputs": [],
   "source": [
    "def plot_cluster_deseases_terms(X, all_terms, deseases_per_cluster):\n",
    "    pass\n",
    "    "
   ]
  },
  {
   "cell_type": "code",
   "execution_count": null,
   "metadata": {},
   "outputs": [],
   "source": [
    "#plot_cluster_deseases_terms(X, all_terms_tfidf, deseases_per_cluster, model)"
   ]
  },
  {
   "cell_type": "markdown",
   "metadata": {
    "id": "yaUiP7VlvIB4"
   },
   "source": [
    "### Compute spectral co-clustering with the CoclustSpecMod approach "
   ]
  },
  {
   "cell_type": "code",
   "execution_count": null,
   "metadata": {
    "id": "_swhcHk_p_82"
   },
   "outputs": [],
   "source": [
    "# ** Compute spectral co-clustering with the CoclustSpecMod approach **\n",
    "\n",
    "n_clusters = model.n_clusters\n",
    "# Perform co-clustering\n",
    "coclust_specMod_model = CoclustSpecMod(n_clusters=3, random_state=0)\n",
    "coclust_specMod_model.fit(X)"
   ]
  },
  {
   "cell_type": "markdown",
   "metadata": {
    "id": "v_0MB7oLyh2Y"
   },
   "source": [
    "problem RAM si bcp d'articles"
   ]
  },
  {
   "cell_type": "code",
   "execution_count": null,
   "metadata": {
    "id": "QCFaNwMWqOh7"
   },
   "outputs": [],
   "source": [
    "# ** Plot top terms for each cluster and the cluster sizes **\n",
    "\n",
    "n_terms = 10\n",
    "\n",
    "# --> top terms\n",
    "#plot_cluster_top_terms(X, all_terms_tfidf, n_terms, coclust_specMod_model)\n",
    "# --> cluster sizes\n",
    "plot_cluster_sizes(coclust_specMod_model)"
   ]
  },
  {
   "cell_type": "code",
   "execution_count": null,
   "metadata": {},
   "outputs": [],
   "source": [
    "# > 2 co-cluster ca renvoie une err"
   ]
  },
  {
   "cell_type": "code",
   "execution_count": null,
   "metadata": {},
   "outputs": [],
   "source": [
    "len(all_terms_tfidf)"
   ]
  },
  {
   "cell_type": "markdown",
   "metadata": {
    "id": "wyYX8YfCvOkU"
   },
   "source": [
    "### Compute spectral co-clustering with the CoclustInfo approach "
   ]
  },
  {
   "cell_type": "code",
   "execution_count": null,
   "metadata": {
    "id": "bZyVmBiGqPNY"
   },
   "outputs": [],
   "source": [
    "# ** Compute co-clustering with the CoclustInfo approach **\n",
    "\n",
    "n_clusters = model.n_clusters\n",
    "n_rand_init = 2\n",
    "# Perform co-clustering\n",
    "coclust_info_model = CoclustInfo(n_row_clusters = n_clusters, n_col_clusters = n_clusters,\n",
    "                                 n_init = n_rand_init, random_state = 0)\n",
    "coclust_info_model.fit(X)"
   ]
  },
  {
   "cell_type": "code",
   "execution_count": null,
   "metadata": {},
   "outputs": [],
   "source": []
  },
  {
   "cell_type": "code",
   "execution_count": null,
   "metadata": {},
   "outputs": [],
   "source": [
    "from sklearn.preprocessing import normalize\n",
    "def get_term_graph_2(X, model, terms, n_cluster, n_top_terms=10, n_neighbors=2,\n",
    "                   stopwords=[]):\n",
    "    \"\"\"Get a graph of terms.\n",
    "\n",
    "    Parameters\n",
    "    ----------\n",
    "    X:\n",
    "        input matrix\n",
    "    model: :class:`coclust.coclustering.BaseDiagonalCoclust`\n",
    "        a co-clustering model\n",
    "    terms: list of string\n",
    "        list of terms\n",
    "    n_cluster: int\n",
    "        Id of the cluster\n",
    "    n_top_terms: int, optional, default: 10\n",
    "        Number of terms\n",
    "    n_neighbors: int, optional, default: 2\n",
    "        Number of neighbors\n",
    "    stopwords: list of string, optional, default: []\n",
    "        Words to remove\n",
    "\n",
    "    \"\"\"\n",
    "\n",
    "    # The dictionary to be returned\n",
    "    graph = {\"nodes\": [], \"links\": []}\n",
    "\n",
    "    if terms is None:\n",
    "        logger.warning(\"Term labels cannot be found. Use input argument \"\n",
    "                       \"'term_labels_filepath' in function \"\n",
    "                       \"'load_doc_term_data' if term labels are available.\")\n",
    "        return graph\n",
    "    factors = [\"age\",\"factor\",\"severe\",\"severity\"]\n",
    "    index_list = []\n",
    "    for i in factors:\n",
    "        index_list.append(terms.index(i))\n",
    "        \n",
    "    # get submatrix and local kist of terms\n",
    "    row_indices, col_indices = model.get_indices(n_cluster)\n",
    "    cluster = model.get_submatrix(X, n_cluster)\n",
    "    terms = np.array(terms)[col_indices]\n",
    "\n",
    "    # identify most frequent words\n",
    "    p = cluster.sum(0)\n",
    "    t = p.getA().flatten()\n",
    "    top_term_indices = index_list\n",
    "\n",
    "    # create tt sim matrix\n",
    "    cluster_norm = normalize(cluster, norm='l2', axis=0, copy=True)\n",
    "    sim = cluster_norm.T * cluster_norm\n",
    "\n",
    "    # to be able to compute the final index of a neighbor which is also a\n",
    "    # top term\n",
    "    d = {t: i for i, t in enumerate(top_term_indices)}\n",
    "\n",
    "    # identify best neighbors of frequent terms\n",
    "    pointed_by = dict()\n",
    "    graph = {\"nodes\": [], \"links\": []}\n",
    "    all_neighbors = set()\n",
    "    links = []\n",
    "    for idx_tt, t in enumerate(top_term_indices):\n",
    "        best_neighbors = np.argsort(sim.toarray()[t])[::-1][:n_neighbors]\n",
    "        for n in best_neighbors:\n",
    "            if len(stopwords) > 0:\n",
    "                if terms[n] in stopwords:\n",
    "                    continue\n",
    "            if (terms[n].endswith(\"ed\") or terms[n].endswith(\"ing\") or\n",
    "                    terms[n].endswith(\"ly\")):\n",
    "                continue\n",
    "\n",
    "            # if  terms[dico_tt[n]].lower() in stopwords: continue\n",
    "            if t == n:\n",
    "                continue\n",
    "            if n in top_term_indices and t in pointed_by.get(n, []):\n",
    "                # t was already pointed by n\n",
    "                continue\n",
    "            if n in top_term_indices:\n",
    "                # n will be able to check that is has been pointed by t\n",
    "                pointed_by.setdefault(t, []).append(n)\n",
    "            else:\n",
    "                # a \"pure\" neighbor\n",
    "                all_neighbors.add(n)\n",
    "            if n in top_term_indices:\n",
    "                # n is a (not yet handled) top term. Lookup in dictionary to\n",
    "                # find the d3 index.\n",
    "                # Also record original indices using couples.\n",
    "                links.append(((idx_tt, t), (d[n], n)))\n",
    "            else:\n",
    "                # n is a pure neighbor. Compute its d3 index by an addition\n",
    "                # use indices suitable for d3 links\n",
    "                links.append(((idx_tt, t),\n",
    "                              (len(top_term_indices) + len(all_neighbors) - 1,\n",
    "                               n)))\n",
    "\n",
    "    for top_term in top_term_indices:\n",
    "        graph[\"nodes\"].append({\"name\": terms[top_term], \"group\": 0})\n",
    "\n",
    "    for neighbor in all_neighbors:\n",
    "        graph[\"nodes\"].append({\"name\": terms[neighbor], \"group\": 1})\n",
    "\n",
    "    for a, b in links:\n",
    "        graph[\"links\"].append({\"source\": a[0],\n",
    "                               \"target\": b[0],\n",
    "                               \"value\": sim[a[1], b[1]]})\n",
    "    return graph"
   ]
  },
  {
   "cell_type": "code",
   "execution_count": null,
   "metadata": {},
   "outputs": [],
   "source": [
    "graph2 = get_term_graph_2(X,model, all_terms_tfidf, 1, 10, 5)"
   ]
  },
  {
   "cell_type": "code",
   "execution_count": null,
   "metadata": {},
   "outputs": [],
   "source": [
    "graph = get_term_graph(X,model, all_terms_tfidf, 0, 30, 5)"
   ]
  },
  {
   "cell_type": "code",
   "execution_count": null,
   "metadata": {
    "colab": {
     "base_uri": "https://localhost:8080/",
     "height": 17
    },
    "id": "VIudim2rp1ii",
    "outputId": "2b53eefb-77a8-41cc-db70-dc4a341340ff"
   },
   "outputs": [],
   "source": [
    "%%javascript\n",
    "require.config({\n",
    "  paths: {\n",
    "      d3: '//cdnjs.cloudflare.com/ajax/libs/d3/3.4.8/d3.min'\n",
    "  }\n",
    "});\n"
   ]
  },
  {
   "cell_type": "code",
   "execution_count": null,
   "metadata": {
    "colab": {
     "base_uri": "https://localhost:8080/",
     "height": 17
    },
    "id": "thW3FvTXp3i5",
    "outputId": "e3c943ee-2e38-47db-aa42-2f3e930080d5"
   },
   "outputs": [],
   "source": [
    " from IPython.display import Javascript\n",
    " #runs arbitrary javascript, client-side\n",
    " Javascript(\"\"\"\n",
    "            window.graph={};\n",
    "            \"\"\".format(graph))"
   ]
  },
  {
   "cell_type": "code",
   "execution_count": null,
   "metadata": {
    "id": "5voMukEdp7Us",
    "scrolled": false
   },
   "outputs": [],
   "source": [
    "%%javascript\n",
    " require(['d3'], function(d3){\n",
    "   //a weird idempotency thing\n",
    "   $(\"#chart1\").remove();\n",
    "   //create canvas\n",
    "   element.append(\"<div id='chart1'></div>\");\n",
    "   $(\"#chart1\").width(\"1160px\");\n",
    "   $(\"#chart1\").height(\"800px\");        \n",
    "   var margin = {top: 20, right: 20, bottom: 30, left: 40};\n",
    "   var width = 1280 - margin.left - margin.right;\n",
    "   var height = 800 - margin.top - margin.bottom;\n",
    "   var svg = d3.select(\"#chart1\").append(\"svg\")\n",
    "     .style(\"position\", \"relative\")\n",
    "     .style(\"max-width\", \"960px\")\n",
    "     .attr(\"width\", width + \"px\")\n",
    "     .attr(\"height\", (height + 50) + \"px\")\n",
    "     .call(d3.behavior.zoom().on(\"zoom\", redraw))\n",
    "     .append(\"g\")\n",
    "     .attr(\"transform\", \"translate(\" + margin.left + \",\" + margin.top + \")\");\n",
    "    \n",
    "    \n",
    "   function redraw() {\n",
    "       svg.attr(\"transform\",\n",
    "                \"translate(\" + d3.event.translate + \")\"\n",
    "                + \" scale(\" + d3.event.scale + \")\");\n",
    "   }   \n",
    "   var color = d3.scale.category20();\n",
    "   var force = d3.layout.force()\n",
    "     .charge(-500)\n",
    "     //.linkDistance(5)\n",
    "     .linkDistance(function(d) { return (1 - d.value); })\n",
    "     .size([width, height]);\n",
    "   var graph = window.graph;\n",
    "   \n",
    "   force\n",
    "       .nodes(graph.nodes)\n",
    "       .links(graph.links)\n",
    "       .start();\n",
    "\n",
    "   var link = svg.selectAll(\".link\")\n",
    "       .data(graph.links)\n",
    "       .enter().append(\"line\")\n",
    "       .attr(\"class\", \"link\")\n",
    "       .style(\"stroke\", \"#999;\")\n",
    "       .style(\"stroke-opacity\", .6)\n",
    "       .style(\"stroke-width\", function(d) { return Math.sqrt(d.value); })\n",
    " \n",
    "       .style(\"stroke\", \"blue\");\n",
    "   var node = svg.selectAll(\".node\")\n",
    "       .data(graph.nodes)\n",
    "       .enter().append(\"g\")\n",
    "       .attr(\"class\", \"node\")\n",
    "       .call(force.drag);\n",
    "   \n",
    "   node.append(\"circle\")\n",
    "       .attr(\"class\", \"node_circle\")\n",
    "       .attr(\"r\", 8)\n",
    "       .style(\"fill\", function(d) { return color(d.group); });\n",
    "   node.append(\"text\")\n",
    "       .attr(\"class\", \"node_text\")\n",
    "       .attr(\"dx\", 12)\n",
    "       .attr(\"dy\", \".35em\")\n",
    "       .text(function(d) { return d.name });\n",
    "   node.append(\"title\")\n",
    "       .text(function(d) { return d.name; });\n",
    "   var node_text = svg.selectAll(\".node_text\");\n",
    "   var node_circle = svg.selectAll(\".node_circle\");\n",
    "   \n",
    "   force.on(\"tick\", function() {\n",
    "     link.attr(\"x1\", function(d) { return d.source.x; })\n",
    "         .attr(\"y1\", function(d) { return d.source.y; })\n",
    "         .attr(\"x2\", function(d) { return d.target.x; })\n",
    "         .attr(\"y2\", function(d) { return d.target.y; });\n",
    "     node_circle.attr(\"cx\", function(d) { return d.x; })\n",
    "         .attr(\"cy\", function(d) { return d.y; });\n",
    "     \n",
    "     node_text.attr(\"x\", function(d) { return d.x; })\n",
    "         .attr(\"y\", function(d) { return d.y; });\n",
    "   });\n",
    " });"
   ]
  }
 ],
 "metadata": {
  "accelerator": "GPU",
  "colab": {
   "collapsed_sections": [
    "ogpQOKxMeIzn",
    "h5poRtkuGdWn",
    "wyhzey_1GdWq",
    "G4vZi8C1GdWs",
    "ftrYJq7xGdW0",
    "uyanCizrGdW2",
    "eQlh6HQWGdW2",
    "cXlRaj-3GdW3",
    "MFMzbLH4GdW4",
    "0Z6kHFa5GdW7",
    "U-brgMCWewo-",
    "yaUiP7VlvIB4",
    "wyYX8YfCvOkU"
   ],
   "include_colab_link": true,
   "name": "PPD_Fouille_de_texte_pour_lexploration_des_facteurs_de_sévérité_du_COVID19.ipynb",
   "provenance": []
  },
  "kernelspec": {
   "display_name": "Python 3",
   "language": "python",
   "name": "python3"
  },
  "language_info": {
   "codemirror_mode": {
    "name": "ipython",
    "version": 3
   },
   "file_extension": ".py",
   "mimetype": "text/x-python",
   "name": "python",
   "nbconvert_exporter": "python",
   "pygments_lexer": "ipython3",
   "version": "3.8.10"
  }
 },
 "nbformat": 4,
 "nbformat_minor": 1
}
