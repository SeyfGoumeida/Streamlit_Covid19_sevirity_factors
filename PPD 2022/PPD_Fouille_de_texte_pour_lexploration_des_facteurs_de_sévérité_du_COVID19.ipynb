{
 "cells": [
  {
   "cell_type": "markdown",
   "metadata": {
    "colab_type": "text",
    "id": "view-in-github"
   },
   "source": [
    "<a href=\"https://colab.research.google.com/github/Erifai/NLP_TEXT_MINING_COVID_SEVERITY_FACTORS/blob/main/PPD_Fouille_de_texte_pour_lexploration_des_facteurs_de_s%C3%A9v%C3%A9rit%C3%A9_du_COVID19.ipynb\" target=\"_parent\"><img src=\"https://colab.research.google.com/assets/colab-badge.svg\" alt=\"Open In Colab\"/></a>"
   ]
  },
  {
   "cell_type": "markdown",
   "metadata": {
    "id": "wJ5Rg27yGdWd"
   },
   "source": [
    "# COVID-19 Literature Clustering"
   ]
  },
  {
   "cell_type": "markdown",
   "metadata": {
    "id": "ogpQOKxMeIzn"
   },
   "source": [
    "# Préparation de l'environnement"
   ]
  },
  {
   "cell_type": "code",
   "execution_count": 1,
   "metadata": {
    "colab": {
     "base_uri": "https://localhost:8080/"
    },
    "id": "4M_HY5CFGdWl",
    "outputId": "ab1477aa-26b2-4bf5-cdc1-cb8932d170df"
   },
   "outputs": [
    {
     "name": "stdout",
     "output_type": "stream",
     "text": [
      "\u001b[38;5;2m✔ Download and installation successful\u001b[0m\n",
      "You can now load the package via spacy.load('en_core_web_lg')\n"
     ]
    },
    {
     "name": "stderr",
     "output_type": "stream",
     "text": [
      "/home/kamel/.local/lib/python3.8/site-packages/spacy/util.py:833: UserWarning: [W095] Model 'en_core_sci_lg' (0.4.0) was trained with spaCy v3.0 and may not be 100% compatible with the current version (3.2.4). If you see errors or degraded performance, download a newer compatible model or retrain your custom model with the current spaCy version. For more details and available updates, run: python -m spacy validate\n",
      "  warnings.warn(warn_msg)\n"
     ]
    }
   ],
   "source": [
    "import numpy as np # linear algebra\n",
    "import pandas as pd # data processing, CSV file I/O (e.g. pd.read_csv)\n",
    "import glob\n",
    "import json\n",
    "#!pip install Bio\n",
    "#import Bio\n",
    "#from Bio import Entrez\n",
    "#from Bio import Medline\n",
    "#!pip install matplotlib==3.2.0\n",
    "import matplotlib.pyplot as plt\n",
    "plt.style.use('ggplot')\n",
    "#----------------------------------------------\n",
    "#Download the spacy bio parser\n",
    "from IPython.utils import io\n",
    "#with io.capture_output() as captured:\n",
    "#  !pip install https://s3-us-west-2.amazonaws.com/ai2-s2-scispacy/releases/v0.4.0/en_core_sci_lg-0.4.0.tar.gz\n",
    "#----------------------------\n",
    "import spacy.cli\n",
    "spacy.cli.download(\"en_core_web_lg\")\n",
    "import en_core_web_lg\n",
    "nlp = en_core_web_lg.load()\n",
    "#----------------------------\n",
    "#NLP \n",
    "import spacy\n",
    "from spacy.lang.en.stop_words import STOP_WORDS\n",
    "import en_core_sci_lg  # model downloaded in previous step\n",
    "#--------------------------------------------------\n",
    "\n",
    "#import nltk\n",
    "#nltk.download('wordnet')\n",
    "#nltk.download('averaged_perceptron_tagger')\n",
    "from nltk.corpus import wordnet\n",
    "from nltk.stem import WordNetLemmatizer"
   ]
  },
  {
   "cell_type": "code",
   "execution_count": 2,
   "metadata": {
    "id": "F8K_cxaskMUF",
    "scrolled": false
   },
   "outputs": [],
   "source": [
    "#%matplotlib inline\n",
    "#!pip install coclust\n",
    "from scipy.io import loadmat\n",
    "from sklearn.metrics import (adjusted_rand_score as ari,\n",
    "                             normalized_mutual_info_score as nmi)\n",
    "\n",
    "from coclust.coclustering import (CoclustMod, CoclustSpecMod, CoclustInfo)\n",
    "from coclust.io.data_loading import load_doc_term_data\n",
    "from coclust.evaluation.internal import best_modularity_partition\n",
    "#from coclust.evaluation.external import accuracy\n",
    "from coclust.io.notebook import(input_with_default_int, input_with_default_str)\n",
    "from coclust.visualization import (plot_max_modularities, \n",
    "                                   plot_intermediate_modularities,\n",
    "                                   plot_cluster_top_terms, \n",
    "                                   get_term_graph, \n",
    "                                   plot_cluster_sizes)\n",
    "\n",
    "\n",
    "#!pip install coclust\n",
    "from coclust.coclustering import CoclustMod\n",
    "from coclust.io.data_loading import load_doc_term_data\n",
    "from coclust.visualization import (plot_reorganized_matrix,\n",
    "                                  plot_cluster_top_terms,\n",
    "                                  plot_max_modularities,\n",
    "                                  get_term_graph,\n",
    "                                  plot_convergence)\n",
    "from coclust.evaluation.internal import best_modularity_partition\n",
    "from coclust.coclustering import CoclustMod\n",
    "import matplotlib.pyplot as plt\n",
    "import numpy as np"
   ]
  },
  {
   "cell_type": "code",
   "execution_count": 3,
   "metadata": {
    "id": "3gFH3Z-uGdWm"
   },
   "outputs": [],
   "source": [
    "def get_breaks(content, length):\n",
    "    data = \"\"\n",
    "    words = content.split(' ')\n",
    "    total_chars = 0\n",
    "\n",
    "    # add break every length characters\n",
    "    for i in range(len(words)):\n",
    "        total_chars += len(words[i])\n",
    "        if total_chars > length:\n",
    "            data = data + \"<br>\" + words[i]\n",
    "            total_chars = 0\n",
    "        else:\n",
    "            data = data + \" \" + words[i]\n",
    "    return data"
   ]
  },
  {
   "cell_type": "markdown",
   "metadata": {
    "id": "h5poRtkuGdWn"
   },
   "source": [
    "#### specification du nombre de fichiers a lire : "
   ]
  },
  {
   "cell_type": "code",
   "execution_count": 4,
   "metadata": {},
   "outputs": [],
   "source": [
    "import Bio\n",
    "from Bio import Entrez\n",
    "from Bio import Medline"
   ]
  },
  {
   "cell_type": "code",
   "execution_count": 15,
   "metadata": {
    "id": "B7dg7LQ8GdWo"
   },
   "outputs": [],
   "source": [
    "max_searchs = 5000\n",
    "terms = \"coronavirus covid covid19 severity obesity\"\n"
   ]
  },
  {
   "cell_type": "code",
   "execution_count": 16,
   "metadata": {
    "colab": {
     "base_uri": "https://localhost:8080/"
    },
    "id": "FYVl_5GdGdWp",
    "outputId": "b4ecd334-9024-4f1a-d1a1-848c8f4ed8b1"
   },
   "outputs": [
    {
     "name": "stdout",
     "output_type": "stream",
     "text": [
      "max_searchs :  5000\n",
      "0  100  200  300  400  500  600  700  800  900  1000  1100  1200  1300  1400  1500  1600  1700  1800  1900  2000  2100  2200  2300  2400  2500  2600  2700  2800  2900  3000  3100  3200  3300  3400  3500  3600  3700  3800  3900  4000  4100  4200  4300  4400  4500  4600  4700  4800  4900  "
     ]
    }
   ],
   "source": [
    "Entrez.email = 'A.N.Other@example.com'\n",
    "ids=[[]]\n",
    "print(\"max_searchs : \",max_searchs)\n",
    "for i in range(0,max_searchs,100):\n",
    "  print(i,\" \", end='')\n",
    "  h = Entrez.esearch(db='pubmed', retmax=100,retstart=i, term=terms)\n",
    "  result = Entrez.read(h)\n",
    "  ids.append(result['IdList'])\n",
    "h = Entrez.efetch(db='pubmed', id=ids, rettype='medline', retmode='json')\n",
    "records = Medline.parse(h)"
   ]
  },
  {
   "cell_type": "code",
   "execution_count": 17,
   "metadata": {
    "id": "l4ZLlyHTLPMu"
   },
   "outputs": [],
   "source": [
    "# dict_ = {'paper_id': [], 'abstract': [], 'body_text': [], 'authors': [], 'title': [], 'journal': [], 'abstract_summary': []}\n",
    "\n",
    "def append_records(records):\n",
    "    dict_ = {'paper_id': [], 'abstract': [], 'body_text': [], 'authors': [], 'title': [], 'journal': [], 'abstract_summary': []}\n",
    "    for idx, entry in enumerate(records):\n",
    "\n",
    "        if idx >max_searchs:\n",
    "            break\n",
    "        #--------------------------------------------------\n",
    "        try:\n",
    "            dict_['paper_id'].append(entry[\"PMID\"])\n",
    "        except Exception as e:\n",
    "            dict_['paper_id'].append(\"\")\n",
    "        #--------------------------------------------------      \n",
    "        try:\n",
    "            dict_['abstract'].append(entry[\"AB\"])\n",
    "            # also create a column for the summary of abstract to be used in a plot\n",
    "            if len(entry[\"AB\"]) == 0: \n",
    "                # no abstract provided\n",
    "                dict_['abstract_summary'].append(\"Not provided.\")\n",
    "            elif len(entry[\"AB\"].split(' ')) > 100:\n",
    "                # abstract provided is too long for plot, take first 100 words append with ...\n",
    "                info = entry[\"AB\"].split(' ')[:100]\n",
    "                summary = get_breaks(' '.join(info), 40)\n",
    "                dict_['abstract_summary'].append(summary + \"...\")\n",
    "            else:\n",
    "                # abstract is short enough\n",
    "                summary = get_breaks(entry[\"AB\"], 40)\n",
    "                dict_['abstract_summary'].append(summary)\n",
    "        except Exception as e:\n",
    "            dict_['abstract'].append(\"\")  \n",
    "            dict_['abstract_summary'].append(\"Not provided.\")\n",
    "\n",
    "        #--------------------------------------------------      \n",
    "        try:\n",
    "            dict_['body_text'].append(entry[\"AB\"])\n",
    "        except Exception as e:\n",
    "            dict_['body_text'].append(\"\") \n",
    "        #--------------------------------------------------\n",
    "        try:\n",
    "            # if more than one author\n",
    "            authors = entry['AU'][0].split(',')\n",
    "            if len(authors) > 2:\n",
    "                # if more than 2 authors, take them all with html tag breaks in between\n",
    "                dict_['authors'].append(get_breaks('. '.join(authors), 40))\n",
    "            else:\n",
    "                # authors will fit in plot\n",
    "                dict_['authors'].append(\". \".join(authors))\n",
    "        except Exception as e:\n",
    "            # if only one author - or Null valie\n",
    "            try : \n",
    "                dict_['authors'].append(entry['AU'][0])\n",
    "            except Exception as e:\n",
    "                dict_['authors'].append(\"\")\n",
    "\n",
    "\n",
    "        #-------------------------------------------------- \n",
    "        # add the title information, add breaks when needed\n",
    "        try:\n",
    "            title = get_breaks(entry['TI'][0], 40)\n",
    "            dict_['title'].append(title)\n",
    "        # if title was not provided\n",
    "        except Exception as e:\n",
    "            try:\n",
    "                dict_['title'].append(entry['TI'][0])\n",
    "            except Exception as e:\n",
    "                dict_['title'].append(\"\")\n",
    "        #-------------------------------------------------- \n",
    "        # add the journal information\n",
    "        try:\n",
    "            dict_['journal'].append(entry['PT'][0])\n",
    "        except Exception as e:\n",
    "            dict_['journal'].append(\"\")\n",
    "\n",
    "\n",
    "    return dict_"
   ]
  },
  {
   "cell_type": "code",
   "execution_count": 18,
   "metadata": {
    "colab": {
     "base_uri": "https://localhost:8080/"
    },
    "id": "s8peedbYLaus",
    "outputId": "6a15c7ab-6866-40b7-816e-6f06d2c994e0",
    "scrolled": true
   },
   "outputs": [
    {
     "name": "stdout",
     "output_type": "stream",
     "text": [
      "max iterations :  51\n",
      "1\n",
      "2\n",
      "3\n",
      "4\n",
      "5\n",
      "6\n",
      "7\n",
      "8\n",
      "9\n",
      "10\n",
      "11\n",
      "12\n",
      "13\n",
      "14\n",
      "15\n",
      "16\n",
      "17\n",
      "18\n",
      "19\n",
      "20\n",
      "21\n",
      "22\n",
      "23\n",
      "24\n",
      "25\n",
      "26\n",
      "27\n",
      "28\n",
      "29\n",
      "30\n",
      "31\n",
      "32\n",
      "33\n",
      "34\n",
      "35\n",
      "36\n",
      "37\n",
      "38\n",
      "39\n",
      "40\n",
      "41\n",
      "42\n",
      "43\n",
      "44\n",
      "45\n",
      "46\n",
      "47\n",
      "48\n",
      "49\n",
      "50\n"
     ]
    }
   ],
   "source": [
    "dict_1 = {'paper_id': [], 'abstract': [], 'body_text': [], 'authors': [], 'title': [], 'journal': [], 'abstract_summary': []}\n",
    "print(\"max iterations : \",len(ids))\n",
    "for i in range(1,len(ids)):\n",
    "    print(i)\n",
    "    h = Entrez.efetch(db='pubmed', id=ids[i], rettype='medline', retmode='json')\n",
    "    records = Medline.parse(h)\n",
    "\n",
    "    token = append_records(records)\n",
    "    dict_1[\"paper_id\"] = dict_1[\"paper_id\"]+token[\"paper_id\"]\n",
    "    dict_1[\"abstract\"] = dict_1[\"abstract\"] + token[\"abstract\"]\n",
    "    dict_1[\"body_text\"] =  dict_1[\"body_text\"] +token[\"body_text\"]\n",
    "    dict_1[\"authors\"] = dict_1[\"authors\"] + token[\"authors\"]\n",
    "    dict_1[\"title\"] =dict_1[\"title\"] + token[\"title\"]\n",
    "    dict_1[\"journal\"] =dict_1[\"journal\"] +token[\"journal\"]\n",
    "    dict_1[\"abstract_summary\"]=dict_1[\"abstract_summary\"]+token[\"abstract_summary\"]"
   ]
  },
  {
   "cell_type": "code",
   "execution_count": 19,
   "metadata": {},
   "outputs": [
    {
     "data": {
      "text/plain": [
       "(756, 756, 756, 756, 756, 756, 756)"
      ]
     },
     "execution_count": 19,
     "metadata": {},
     "output_type": "execute_result"
    }
   ],
   "source": [
    "len(dict_1[\"paper_id\"]),len(dict_1[\"abstract\"]),len(dict_1[\"body_text\"])  ,len(dict_1[\"authors\"]) ,len(dict_1[\"title\"]) ,len(dict_1[\"journal\"]),len(dict_1[\"abstract_summary\"])"
   ]
  },
  {
   "cell_type": "code",
   "execution_count": 20,
   "metadata": {
    "id": "uX3e5AC_Ldkk"
   },
   "outputs": [],
   "source": [
    "df_covid = pd.DataFrame(dict_1, columns=['paper_id', 'abstract', 'body_text', 'authors', 'title', 'journal', 'abstract_summary'])"
   ]
  },
  {
   "cell_type": "code",
   "execution_count": 21,
   "metadata": {
    "colab": {
     "base_uri": "https://localhost:8080/"
    },
    "id": "PMa3rqKRyd6J",
    "outputId": "d263fd24-70cb-4572-b098-d8b513e191a9"
   },
   "outputs": [
    {
     "name": "stdout",
     "output_type": "stream",
     "text": [
      "<class 'pandas.core.frame.DataFrame'>\n",
      "RangeIndex: 756 entries, 0 to 755\n",
      "Data columns (total 7 columns):\n",
      " #   Column            Non-Null Count  Dtype \n",
      "---  ------            --------------  ----- \n",
      " 0   paper_id          756 non-null    object\n",
      " 1   abstract          756 non-null    object\n",
      " 2   body_text         756 non-null    object\n",
      " 3   authors           756 non-null    object\n",
      " 4   title             756 non-null    object\n",
      " 5   journal           756 non-null    object\n",
      " 6   abstract_summary  756 non-null    object\n",
      "dtypes: object(7)\n",
      "memory usage: 41.5+ KB\n"
     ]
    }
   ],
   "source": [
    "df_covid.info()"
   ]
  },
  {
   "cell_type": "markdown",
   "metadata": {
    "id": "wyhzey_1GdWq"
   },
   "source": [
    "## Some feature engineering\n",
    "Adding word count columns for both abstract and body_text can be useful parameters later:"
   ]
  },
  {
   "cell_type": "code",
   "execution_count": 22,
   "metadata": {
    "colab": {
     "base_uri": "https://localhost:8080/",
     "height": 496
    },
    "id": "xqMfwG5pGdWr",
    "outputId": "5431a515-2925-4a9e-c745-c984429c3c14"
   },
   "outputs": [
    {
     "data": {
      "text/html": [
       "<div>\n",
       "<style scoped>\n",
       "    .dataframe tbody tr th:only-of-type {\n",
       "        vertical-align: middle;\n",
       "    }\n",
       "\n",
       "    .dataframe tbody tr th {\n",
       "        vertical-align: top;\n",
       "    }\n",
       "\n",
       "    .dataframe thead th {\n",
       "        text-align: right;\n",
       "    }\n",
       "</style>\n",
       "<table border=\"1\" class=\"dataframe\">\n",
       "  <thead>\n",
       "    <tr style=\"text-align: right;\">\n",
       "      <th></th>\n",
       "      <th>paper_id</th>\n",
       "      <th>abstract</th>\n",
       "      <th>body_text</th>\n",
       "      <th>authors</th>\n",
       "      <th>title</th>\n",
       "      <th>journal</th>\n",
       "      <th>abstract_summary</th>\n",
       "      <th>abstract_word_count</th>\n",
       "      <th>body_word_count</th>\n",
       "      <th>body_unique_words</th>\n",
       "    </tr>\n",
       "  </thead>\n",
       "  <tbody>\n",
       "    <tr>\n",
       "      <th>0</th>\n",
       "      <td>35419453</td>\n",
       "      <td>Background: The coronavirus disease 2019 (COVI...</td>\n",
       "      <td>Background: The coronavirus disease 2019 (COVI...</td>\n",
       "      <td>Claassen N</td>\n",
       "      <td>E</td>\n",
       "      <td>Journal Article</td>\n",
       "      <td>Background: The coronavirus disease 2019&lt;br&gt;(...</td>\n",
       "      <td>260</td>\n",
       "      <td>260</td>\n",
       "      <td>160</td>\n",
       "    </tr>\n",
       "    <tr>\n",
       "      <th>1</th>\n",
       "      <td>35416467</td>\n",
       "      <td>BACKGROUND: Although older adults aret ahigh r...</td>\n",
       "      <td>BACKGROUND: Although older adults aret ahigh r...</td>\n",
       "      <td>Kokkoris S</td>\n",
       "      <td>O</td>\n",
       "      <td>Journal Article</td>\n",
       "      <td>BACKGROUND: Although older adults aret ahigh&lt;...</td>\n",
       "      <td>252</td>\n",
       "      <td>252</td>\n",
       "      <td>178</td>\n",
       "    </tr>\n",
       "    <tr>\n",
       "      <th>2</th>\n",
       "      <td>35396748</td>\n",
       "      <td>INTRODUCTION: Interest revolving around corona...</td>\n",
       "      <td>INTRODUCTION: Interest revolving around corona...</td>\n",
       "      <td>Koupaei M</td>\n",
       "      <td>C</td>\n",
       "      <td>Journal Article</td>\n",
       "      <td>INTRODUCTION: Interest revolving around&lt;br&gt;co...</td>\n",
       "      <td>295</td>\n",
       "      <td>295</td>\n",
       "      <td>196</td>\n",
       "    </tr>\n",
       "    <tr>\n",
       "      <th>3</th>\n",
       "      <td>35393674</td>\n",
       "      <td>The interim results of the large, multinationa...</td>\n",
       "      <td>The interim results of the large, multinationa...</td>\n",
       "      <td>Pawar A</td>\n",
       "      <td>A</td>\n",
       "      <td>Journal Article</td>\n",
       "      <td>The interim results of the large,&lt;br&gt;multinat...</td>\n",
       "      <td>199</td>\n",
       "      <td>199</td>\n",
       "      <td>142</td>\n",
       "    </tr>\n",
       "    <tr>\n",
       "      <th>4</th>\n",
       "      <td>35390025</td>\n",
       "      <td>OBJECTIVE: This study examines the value of ri...</td>\n",
       "      <td>OBJECTIVE: This study examines the value of ri...</td>\n",
       "      <td>Salvy SJ</td>\n",
       "      <td>H</td>\n",
       "      <td>Journal Article</td>\n",
       "      <td>OBJECTIVE: This study examines the value of&lt;b...</td>\n",
       "      <td>180</td>\n",
       "      <td>180</td>\n",
       "      <td>125</td>\n",
       "    </tr>\n",
       "  </tbody>\n",
       "</table>\n",
       "</div>"
      ],
      "text/plain": [
       "   paper_id                                           abstract  \\\n",
       "0  35419453  Background: The coronavirus disease 2019 (COVI...   \n",
       "1  35416467  BACKGROUND: Although older adults aret ahigh r...   \n",
       "2  35396748  INTRODUCTION: Interest revolving around corona...   \n",
       "3  35393674  The interim results of the large, multinationa...   \n",
       "4  35390025  OBJECTIVE: This study examines the value of ri...   \n",
       "\n",
       "                                           body_text     authors title  \\\n",
       "0  Background: The coronavirus disease 2019 (COVI...  Claassen N     E   \n",
       "1  BACKGROUND: Although older adults aret ahigh r...  Kokkoris S     O   \n",
       "2  INTRODUCTION: Interest revolving around corona...   Koupaei M     C   \n",
       "3  The interim results of the large, multinationa...     Pawar A     A   \n",
       "4  OBJECTIVE: This study examines the value of ri...    Salvy SJ     H   \n",
       "\n",
       "           journal                                   abstract_summary  \\\n",
       "0  Journal Article   Background: The coronavirus disease 2019<br>(...   \n",
       "1  Journal Article   BACKGROUND: Although older adults aret ahigh<...   \n",
       "2  Journal Article   INTRODUCTION: Interest revolving around<br>co...   \n",
       "3  Journal Article   The interim results of the large,<br>multinat...   \n",
       "4  Journal Article   OBJECTIVE: This study examines the value of<b...   \n",
       "\n",
       "   abstract_word_count  body_word_count  body_unique_words  \n",
       "0                  260              260                160  \n",
       "1                  252              252                178  \n",
       "2                  295              295                196  \n",
       "3                  199              199                142  \n",
       "4                  180              180                125  "
      ]
     },
     "execution_count": 22,
     "metadata": {},
     "output_type": "execute_result"
    }
   ],
   "source": [
    "df_covid['abstract_word_count'] = df_covid['abstract'].apply(lambda x: len(x.strip().split()))  # word count in abstract\n",
    "df_covid['body_word_count'] = df_covid['body_text'].apply(lambda x: len(x.strip().split()))  # word count in body\n",
    "df_covid['body_unique_words']=df_covid['body_text'].apply(lambda x:len(set(str(x).split())))  # number of unique words in body\n",
    "df_covid.head()"
   ]
  },
  {
   "cell_type": "code",
   "execution_count": 23,
   "metadata": {},
   "outputs": [
    {
     "data": {
      "text/plain": [
       "'Background: The coronavirus disease 2019 (COVID-19) pandemic in tertiary hospitals from South Africa and world wide have been well described, but limited data are published on the findings. This article aimed to describe patients admitted to a large district hospital in Cape Town, South Africa, during the first wave of severe acute respiratory syndrome coronavirus 2 (SARS-CoV-2) Infections. To compare the clinical features and further investigate survivors and deceased COVID-19 patients. Methods: A single centre retrospective review of clinical records and laboratory data of patients admitted with a positive SARS-CoV-2 polymerase chain reaction (PCR) from April 2020 to August 2020. Results: A total of 568 patients with a positive SARS-CoV-2 PCR were admitted to the study centre for one night or longer and of these patients 154 (27%) died of COVID-19. The median age of patients who died of COVID-19 was 66 years and 53 years for survivors. Hypertension, diabetes mellitus and obesity were the commonest comorbidities in patients who survived and died of COVID-19. There were no major differences when comparing the severity of infiltrates on chest X-rays (CXR) of COVID-19 survivors with deceased patients. More than half (58%) of deceased patients died within 3 days following admission to hospital. A substantial number of patients who died of COVID-19 had associated acute kidney injury (n = 79, 51%). Conclusion: Acute kidney injury had a high prevalence amongst patients who died of COVID-19. Delays in transfer to intensive care unit (ICU), limited ICU capacity and disease severity contributed to a substantial number of patients dying within 3 days of admission.'"
      ]
     },
     "execution_count": 23,
     "metadata": {},
     "output_type": "execute_result"
    }
   ],
   "source": [
    "df_covid['abstract'][0]"
   ]
  },
  {
   "cell_type": "code",
   "execution_count": 37,
   "metadata": {
    "colab": {
     "base_uri": "https://localhost:8080/"
    },
    "id": "VTiWLFCgGdWs",
    "outputId": "1580c970-5bdc-40a5-9203-4027f3be71f0"
   },
   "outputs": [
    {
     "data": {
      "text/plain": [
       "count                                                   679\n",
       "unique                                                  679\n",
       "top       Background: The coronavirus disease 2019 (COVI...\n",
       "freq                                                      1\n",
       "Name: abstract, dtype: object"
      ]
     },
     "execution_count": 37,
     "metadata": {},
     "output_type": "execute_result"
    }
   ],
   "source": [
    "df_covid['abstract'].describe(include='all')"
   ]
  },
  {
   "cell_type": "markdown",
   "metadata": {
    "id": "G4vZi8C1GdWs"
   },
   "source": [
    "## Handle Possible Duplicates"
   ]
  },
  {
   "cell_type": "markdown",
   "metadata": {
    "id": "d027A619GdWt"
   },
   "source": [
    "When we look at the unique values above, we can see that there are duplicates. It may have caused because of author submiting the article to multiple journals. Let's remove the duplicats from our dataset:"
   ]
  },
  {
   "cell_type": "code",
   "execution_count": 38,
   "metadata": {
    "colab": {
     "base_uri": "https://localhost:8080/"
    },
    "id": "aFhtgIDDGdWy",
    "outputId": "4c9418ff-9c45-4467-9cfe-00cf231d1f71"
   },
   "outputs": [
    {
     "data": {
      "text/plain": [
       "count                                                   679\n",
       "unique                                                  679\n",
       "top       Background: The coronavirus disease 2019 (COVI...\n",
       "freq                                                      1\n",
       "Name: abstract, dtype: object"
      ]
     },
     "execution_count": 38,
     "metadata": {},
     "output_type": "execute_result"
    }
   ],
   "source": [
    "df_covid.drop_duplicates(['abstract', 'body_text'], inplace=True)\n",
    "df_covid['abstract'].describe(include='all')"
   ]
  },
  {
   "cell_type": "code",
   "execution_count": 39,
   "metadata": {
    "colab": {
     "base_uri": "https://localhost:8080/"
    },
    "id": "Ec-Q6244GdWz",
    "outputId": "59da6615-42ee-49ce-edca-af71263d31b4"
   },
   "outputs": [
    {
     "data": {
      "text/plain": [
       "count                                                   679\n",
       "unique                                                  679\n",
       "top       Background: The coronavirus disease 2019 (COVI...\n",
       "freq                                                      1\n",
       "Name: body_text, dtype: object"
      ]
     },
     "execution_count": 39,
     "metadata": {},
     "output_type": "execute_result"
    }
   ],
   "source": [
    "df_covid['body_text'].describe(include='all')"
   ]
  },
  {
   "cell_type": "markdown",
   "metadata": {
    "id": "gQwDVNJUGdW0"
   },
   "source": [
    "It looks like we didn't have duplicates. Instead, it was articles without Abstracts."
   ]
  },
  {
   "cell_type": "markdown",
   "metadata": {
    "id": "ftrYJq7xGdW0"
   },
   "source": [
    "## Take a Look at the Data:"
   ]
  },
  {
   "cell_type": "code",
   "execution_count": 40,
   "metadata": {
    "colab": {
     "base_uri": "https://localhost:8080/",
     "height": 300
    },
    "id": "nrL1T8XrGdW2",
    "outputId": "67ab947f-17af-4a1d-f54e-987105ebdbb1"
   },
   "outputs": [
    {
     "data": {
      "text/html": [
       "<div>\n",
       "<style scoped>\n",
       "    .dataframe tbody tr th:only-of-type {\n",
       "        vertical-align: middle;\n",
       "    }\n",
       "\n",
       "    .dataframe tbody tr th {\n",
       "        vertical-align: top;\n",
       "    }\n",
       "\n",
       "    .dataframe thead th {\n",
       "        text-align: right;\n",
       "    }\n",
       "</style>\n",
       "<table border=\"1\" class=\"dataframe\">\n",
       "  <thead>\n",
       "    <tr style=\"text-align: right;\">\n",
       "      <th></th>\n",
       "      <th>abstract_word_count</th>\n",
       "      <th>body_word_count</th>\n",
       "      <th>body_unique_words</th>\n",
       "    </tr>\n",
       "  </thead>\n",
       "  <tbody>\n",
       "    <tr>\n",
       "      <th>count</th>\n",
       "      <td>679.000000</td>\n",
       "      <td>679.000000</td>\n",
       "      <td>679.000000</td>\n",
       "    </tr>\n",
       "    <tr>\n",
       "      <th>mean</th>\n",
       "      <td>240.979381</td>\n",
       "      <td>240.979381</td>\n",
       "      <td>152.879234</td>\n",
       "    </tr>\n",
       "    <tr>\n",
       "      <th>std</th>\n",
       "      <td>103.331138</td>\n",
       "      <td>103.331138</td>\n",
       "      <td>52.625466</td>\n",
       "    </tr>\n",
       "    <tr>\n",
       "      <th>min</th>\n",
       "      <td>0.000000</td>\n",
       "      <td>0.000000</td>\n",
       "      <td>0.000000</td>\n",
       "    </tr>\n",
       "    <tr>\n",
       "      <th>25%</th>\n",
       "      <td>187.000000</td>\n",
       "      <td>187.000000</td>\n",
       "      <td>122.000000</td>\n",
       "    </tr>\n",
       "    <tr>\n",
       "      <th>50%</th>\n",
       "      <td>236.000000</td>\n",
       "      <td>236.000000</td>\n",
       "      <td>149.000000</td>\n",
       "    </tr>\n",
       "    <tr>\n",
       "      <th>75%</th>\n",
       "      <td>274.000000</td>\n",
       "      <td>274.000000</td>\n",
       "      <td>175.000000</td>\n",
       "    </tr>\n",
       "    <tr>\n",
       "      <th>max</th>\n",
       "      <td>1112.000000</td>\n",
       "      <td>1112.000000</td>\n",
       "      <td>573.000000</td>\n",
       "    </tr>\n",
       "  </tbody>\n",
       "</table>\n",
       "</div>"
      ],
      "text/plain": [
       "       abstract_word_count  body_word_count  body_unique_words\n",
       "count           679.000000       679.000000         679.000000\n",
       "mean            240.979381       240.979381         152.879234\n",
       "std             103.331138       103.331138          52.625466\n",
       "min               0.000000         0.000000           0.000000\n",
       "25%             187.000000       187.000000         122.000000\n",
       "50%             236.000000       236.000000         149.000000\n",
       "75%             274.000000       274.000000         175.000000\n",
       "max            1112.000000      1112.000000         573.000000"
      ]
     },
     "execution_count": 40,
     "metadata": {},
     "output_type": "execute_result"
    }
   ],
   "source": [
    "df_covid.describe()"
   ]
  },
  {
   "cell_type": "markdown",
   "metadata": {
    "id": "uyanCizrGdW2"
   },
   "source": [
    "# Data Pre-processing"
   ]
  },
  {
   "cell_type": "markdown",
   "metadata": {
    "id": "eQlh6HQWGdW2"
   },
   "source": [
    "### dataset size reduction :"
   ]
  },
  {
   "cell_type": "markdown",
   "metadata": {
    "id": "iaZ2a5csuio7"
   },
   "source": [
    "we can use only a part of our dataset to speedup the execution"
   ]
  },
  {
   "cell_type": "code",
   "execution_count": 41,
   "metadata": {
    "id": "UsE-eeIFGdW3"
   },
   "outputs": [],
   "source": [
    "#df = df_covid.sample(4000, random_state=42)\n",
    "df = df_covid"
   ]
  },
  {
   "cell_type": "markdown",
   "metadata": {
    "id": "cXlRaj-3GdW3"
   },
   "source": [
    "### Delete Null values   :"
   ]
  },
  {
   "cell_type": "markdown",
   "metadata": {
    "id": "FPzUrJjrGdW3"
   },
   "source": [
    "Now that we have our dataset loaded, we need to clean-up the text to improve any clustering or classification efforts. First, let's drop Null vales:"
   ]
  },
  {
   "cell_type": "code",
   "execution_count": 42,
   "metadata": {
    "colab": {
     "base_uri": "https://localhost:8080/"
    },
    "id": "Cu-44fZZGdW3",
    "outputId": "e2defb25-d7f6-46a0-ca11-280dc3a5b6bf"
   },
   "outputs": [
    {
     "name": "stdout",
     "output_type": "stream",
     "text": [
      "<class 'pandas.core.frame.DataFrame'>\n",
      "Int64Index: 679 entries, 0 to 713\n",
      "Data columns (total 11 columns):\n",
      " #   Column               Non-Null Count  Dtype \n",
      "---  ------               --------------  ----- \n",
      " 0   paper_id             679 non-null    object\n",
      " 1   abstract             679 non-null    object\n",
      " 2   body_text            679 non-null    object\n",
      " 3   authors              679 non-null    object\n",
      " 4   title                679 non-null    object\n",
      " 5   journal              679 non-null    object\n",
      " 6   abstract_summary     679 non-null    object\n",
      " 7   abstract_word_count  679 non-null    int64 \n",
      " 8   body_word_count      679 non-null    int64 \n",
      " 9   body_unique_words    679 non-null    int64 \n",
      " 10  language             679 non-null    object\n",
      "dtypes: int64(3), object(8)\n",
      "memory usage: 63.7+ KB\n"
     ]
    }
   ],
   "source": [
    "df[\"body_text\"].dropna(inplace=True)\n",
    "df.info()"
   ]
  },
  {
   "cell_type": "markdown",
   "metadata": {
    "id": "MFMzbLH4GdW4"
   },
   "source": [
    "### Handling multiple languages\n",
    "Next we are going to determine the language of each paper in the dataframe. Not all of the sources are English and the language needs to be identified so that we know how handle these instances"
   ]
  },
  {
   "cell_type": "code",
   "execution_count": 43,
   "metadata": {
    "colab": {
     "base_uri": "https://localhost:8080/"
    },
    "id": "bcE7FbU9GdW4",
    "outputId": "d3c8daa0-00b0-46a9-85d7-17470b5bdef0"
   },
   "outputs": [
    {
     "name": "stdout",
     "output_type": "stream",
     "text": [
      "Requirement already satisfied: tqdm in /home/kamel/.local/lib/python3.8/site-packages (4.63.1)\n",
      "Requirement already satisfied: langdetect in /home/kamel/.local/lib/python3.8/site-packages (1.0.9)\n",
      "Requirement already satisfied: six in /usr/lib/python3/dist-packages (from langdetect) (1.14.0)\n"
     ]
    },
    {
     "name": "stderr",
     "output_type": "stream",
     "text": [
      "100%|██████████| 679/679 [00:02<00:00, 321.48it/s]\n"
     ]
    }
   ],
   "source": [
    "!pip install tqdm\n",
    "import tqdm\n",
    "!pip install langdetect\n",
    "import langdetect\n",
    "from tqdm import tqdm\n",
    "from langdetect import detect\n",
    "from langdetect import DetectorFactory\n",
    "\n",
    "# set seed\n",
    "DetectorFactory.seed = 0\n",
    "# hold label - language\n",
    "languages = []\n",
    "# go through each text\n",
    "for ii in tqdm(range(0,len(df))):\n",
    "    # split by space into list, take the first x intex, join with space\n",
    "    text = df.iloc[ii]['body_text'].split(\" \")\n",
    "    lang = \"en\"\n",
    "    try:\n",
    "        if len(text) > 50:\n",
    "            lang = detect(\" \".join(text[:50]))\n",
    "        elif len(text) > 0:\n",
    "            lang = detect(\" \".join(text[:len(text)]))\n",
    "    # ught... beginning of the document was not in a good format\n",
    "    except Exception as e:\n",
    "        all_words = set(text)\n",
    "        try:\n",
    "            lang = detect(\" \".join(all_words))\n",
    "        # what!! :( let's see if we can find any text in abstract...\n",
    "        except Exception as e: \n",
    "            try:\n",
    "                # let's try to label it through the abstract then\n",
    "                lang = detect(df.iloc[ii]['abstract_summary'])\n",
    "            except Exception as e:\n",
    "                lang = \"unknown\"\n",
    "                pass\n",
    "    # get the language    \n",
    "    languages.append(lang)"
   ]
  },
  {
   "cell_type": "code",
   "execution_count": 44,
   "metadata": {
    "colab": {
     "base_uri": "https://localhost:8080/"
    },
    "id": "NemBurd8GdW5",
    "outputId": "0e12e54b-cb0e-4f84-b2d0-6a1c4dece43e"
   },
   "outputs": [
    {
     "name": "stdout",
     "output_type": "stream",
     "text": [
      "Total: 679\n",
      "\n",
      "{'en': 678, 'hu': 1}\n"
     ]
    }
   ],
   "source": [
    "from pprint import pprint\n",
    "languages_dict = {}\n",
    "for lang in set(languages):\n",
    "    languages_dict[lang] = languages.count(lang) \n",
    "print(\"Total: {}\\n\".format(len(languages)))\n",
    "pprint(languages_dict)"
   ]
  },
  {
   "cell_type": "markdown",
   "metadata": {
    "id": "pU5nSAiPGdW5"
   },
   "source": [
    "Lets take a look at the language distribution in the dataset"
   ]
  },
  {
   "cell_type": "code",
   "execution_count": 45,
   "metadata": {
    "colab": {
     "base_uri": "https://localhost:8080/",
     "height": 282
    },
    "id": "0R5MVtGdGdW5",
    "outputId": "2540a649-8c3d-45e0-f324-0df5bff13e1b"
   },
   "outputs": [
    {
     "data": {
      "image/png": "[encoded data removed]",
      "text/plain": [
       "<Figure size 432x288 with 1 Axes>"
      ]
     },
     "metadata": {},
     "output_type": "display_data"
    }
   ],
   "source": [
    "df['language'] = languages\n",
    "plt.bar(range(len(languages_dict)), list(languages_dict.values()), align='center')\n",
    "plt.xticks(range(len(languages_dict)), list(languages_dict.keys()))\n",
    "plt.title(\"Distribution of Languages in Dataset\")\n",
    "plt.show()"
   ]
  },
  {
   "cell_type": "markdown",
   "metadata": {
    "id": "D1y8e4mXGdW6"
   },
   "source": [
    "\n",
    "We will be dropping any language that is not English. Attempting to translate foreign texts gave the following problems:\n",
    "\n",
    "1. API calls were limited\n",
    "\n",
    "2. Translating the language may not carry over the true semantic meaning of the text\n"
   ]
  },
  {
   "cell_type": "code",
   "execution_count": 46,
   "metadata": {
    "colab": {
     "base_uri": "https://localhost:8080/"
    },
    "id": "0VaqWVbFGdW6",
    "outputId": "871680d8-2f3c-4a81-ee45-ff77abb59654"
   },
   "outputs": [
    {
     "name": "stdout",
     "output_type": "stream",
     "text": [
      "<class 'pandas.core.frame.DataFrame'>\n",
      "Int64Index: 678 entries, 0 to 713\n",
      "Data columns (total 11 columns):\n",
      " #   Column               Non-Null Count  Dtype \n",
      "---  ------               --------------  ----- \n",
      " 0   paper_id             678 non-null    object\n",
      " 1   abstract             678 non-null    object\n",
      " 2   body_text            678 non-null    object\n",
      " 3   authors              678 non-null    object\n",
      " 4   title                678 non-null    object\n",
      " 5   journal              678 non-null    object\n",
      " 6   abstract_summary     678 non-null    object\n",
      " 7   abstract_word_count  678 non-null    int64 \n",
      " 8   body_word_count      678 non-null    int64 \n",
      " 9   body_unique_words    678 non-null    int64 \n",
      " 10  language             678 non-null    object\n",
      "dtypes: int64(3), object(8)\n",
      "memory usage: 63.6+ KB\n"
     ]
    }
   ],
   "source": [
    "df = df[df['language'] == 'en'] \n",
    "df.info()"
   ]
  },
  {
   "cell_type": "code",
   "execution_count": 47,
   "metadata": {
    "colab": {
     "base_uri": "https://localhost:8080/"
    },
    "id": "cnysIJgzGdW6",
    "outputId": "a346d027-f780-451b-f41e-f1e0ebb55599"
   },
   "outputs": [
    {
     "name": "stdout",
     "output_type": "stream",
     "text": [
      "\u001b[38;5;2m✔ Download and installation successful\u001b[0m\n",
      "You can now load the package via spacy.load('en_core_web_lg')\n"
     ]
    }
   ],
   "source": [
    "#Download the spacy bio parser\n",
    "from IPython.utils import io\n",
    "with io.capture_output() as captured:\n",
    "  !pip install https://s3-us-west-2.amazonaws.com/ai2-s2-scispacy/releases/v0.4.0/en_core_sci_lg-0.4.0.tar.gz\n",
    "#----------------------------\n",
    "import spacy.cli\n",
    "spacy.cli.download(\"en_core_web_lg\")\n",
    "import en_core_web_lg\n",
    "nlp = en_core_web_lg.load()\n",
    "#----------------------------\n",
    "#NLP \n",
    "import spacy\n",
    "from spacy.lang.en.stop_words import STOP_WORDS\n",
    "import en_core_sci_lg  # model downloaded in previous step"
   ]
  },
  {
   "cell_type": "markdown",
   "metadata": {
    "id": "0Z6kHFa5GdW7"
   },
   "source": [
    "### Stopwords\n",
    "\n",
    "Part of the preprocessing will be finding and removing stopwords (common words that will act as noise in the clustering step)."
   ]
  },
  {
   "cell_type": "code",
   "execution_count": 48,
   "metadata": {
    "colab": {
     "base_uri": "https://localhost:8080/"
    },
    "id": "Jr5l1GxpGdW7",
    "outputId": "9646d5ca-c5f7-4d72-a2fb-c1c587dab961"
   },
   "outputs": [
    {
     "name": "stdout",
     "output_type": "stream",
     "text": [
      "----------------------------------\n",
      "stopwords  :\n",
      "['still', '’ve', 'afterwards', '’m', 'between', 'whereafter', 'three', 'this', 'no', 'anywhere', 'mostly', 'front', 'then', 'while', 'otherwise', 'been', 'their', 'bottom', 'unless', 'both', 'my', 'name', 'hers', 'please', 'really', 'toward', \"'m\", 'also', 'should', 'as', 'him', 'almost', 'mine', 'namely', 'although', 'would', 'again', 'show', 'others', 'own', 'throughout', 'his', 'had', 'seemed', 'over', 'always', '‘d', 'much', 'since', 'give', 'nobody', 'ourselves', '‘ve', 'a', 'nevertheless', 'hereafter', 'because', 'using', 'indeed', '‘re', 'anyone', 'take', 'first', 'together', 'make', 'everywhere', 'former', 'towards', 'ours', 'third', 'to', 'them', 'become', 'under', 'each', 'perhaps', 'very', 'being', 'twelve', 'anything', 'serious', 'hence', 'nowhere', 'per', 'many', 'thence', 'various', 'formerly', 'us', 'by', 'might', 'eight', 'you', 'behind', 'your', 'hundred', 'before', 'say', 'they', 'is', 'whom', 'on', 'whereupon', 'another', 'along', 'thru', 'onto', 'must', 'fifty', 'whoever', 'for', 'side', 'we', 'are', 'when', '‘ll', 'ten', 'besides', 'at', 'seems', 'across', 'quite', 'amount', 'such', 'more', 'used', 'why', 'however', 'everyone', 'there', 'around', 'becomes', 'meanwhile', 'therein', 'after', 'elsewhere', '’d', 'in', 'upon', 'even', 'ever', 'was', 'top', 'cannot', 'do', 'with', 'back', 'well', 'sixty', 'whatever', 'below', 'least', 'done', 'if', 'beforehand', 'thereafter', 'rather', 'noone', 'or', 'put', 'does', 'down', 'part', 'seem', 'anyhow', 'whether', 'whenever', '’re', 'whole', 'everything', 'about', 'every', 'next', 'thereby', 'anyway', 'what', 'off', 'only', 'empty', 'few', 'made', 'see', 'five', '‘s', 'thus', 'never', 'fifteen', 'could', 'without', 'how', 'its', 'call', 'just', 'something', 'get', 'yourself', 'did', 'has', 'within', 'n‘t', 'it', 'herself', 'latter', 'not', 'once', \"'s\", 'somehow', 'somewhere', 'less', 'full', 'latterly', 'becoming', 'alone', 'none', 'an', \"'ve\", 'though', 'ca', 'be', 'else', 'six', 'n’t', 'enough', 'amongst', 'two', 'move', \"'ll\", 'whose', 'too', 'whither', 'sometime', 'me', 'may', 'now', 'any', 'whence', 'which', 'up', '’ll', 'one', 'became', 'wherein', 'wherever', 'hereby', 'hereupon', 'often', 'am', 'here', 'some', 'these', 'himself', 'several', 'seeming', 'who', 'the', 'someone', '‘m', 'yours', 'moreover', 'whereas', \"'d\", 'she', 'and', 'than', 'myself', 'nor', 'most', 'all', \"n't\", \"'re\", 'beside', 'her', 'same', 'therefore', 'four', 'already', 'among', 'last', 'eleven', 'yourselves', 'can', 'were', 'regarding', 'out', 'either', 'beyond', 'where', 'into', 'our', 'through', 'neither', 'during', 'but', 'he', 'except', 'sometimes', 'so', 'nine', 'themselves', 'whereby', 'itself', 'keep', 'other', '’s', 'via', 'that', 'yet', 'from', 'i', 'those', 'herein', 'above', 'go', 'against', 'have', 'will', 'forty', 'doing', 'further', 'thereupon', 'twenty', 'due', 'until', 'of', 'nothing', 're']\n",
      "----------------------------------\n",
      "punctuations  : \n",
      "!\"#$%&'()*+,-./:;<=>?@[\\]^_`{|}~\n"
     ]
    }
   ],
   "source": [
    "import string\n",
    "#punctuations\n",
    "punctuations = string.punctuation\n",
    "#stopwords\n",
    "stopwords = list(STOP_WORDS)\n",
    "print(\"----------------------------------\")\n",
    "print(\"stopwords  :\" )\n",
    "print(stopwords)\n",
    "print(\"----------------------------------\")\n",
    "print(\"punctuations  : \")\n",
    "print(punctuations)"
   ]
  },
  {
   "cell_type": "markdown",
   "metadata": {
    "id": "cGzgeg9dGdW8"
   },
   "source": [
    "Now the above stopwords are used in everyday english text. Research papers will often frequently use words that don't actually contribute to the meaning and are not considered everyday stopwords.\n"
   ]
  },
  {
   "cell_type": "code",
   "execution_count": 49,
   "metadata": {
    "id": "jIWi1cUBGdW8"
   },
   "outputs": [],
   "source": [
    "custom_stop_words = [\n",
    "    'doi', 'preprint', 'copyright', 'peer', 'reviewed', 'org', 'https', 'et', 'al', 'author', 'figure', \n",
    "    'rights', 'reserved', 'permission', 'used', 'using', 'biorxiv', 'medrxiv', 'license', 'fig', 'fig.', \n",
    "    'al.', 'Elsevier', 'PMC', 'CZI', 'www' , 'the' , 'THE' ,\"19\" ,\"-\"]\n",
    "\n",
    "for w in custom_stop_words:\n",
    "    if w not in stopwords:\n",
    "        stopwords.append(w)"
   ]
  },
  {
   "cell_type": "markdown",
   "metadata": {
    "id": "Vqksra4AGdW8"
   },
   "source": [
    "### Next lets create a function that will process the text data for us. \n",
    "For this purpose we will be using the spacy library. This function will convert text to lower case, remove punctuation, and find and remove stopwords. For the parser, we will use en_core_sci_lg. This is a model for processing biomedical, scientific or clinical text."
   ]
  },
  {
   "cell_type": "markdown",
   "metadata": {
    "id": "1_pK3UIauipA"
   },
   "source": [
    "### Stop words , Ponctuation and Lemmatizing"
   ]
  },
  {
   "cell_type": "code",
   "execution_count": 50,
   "metadata": {
    "colab": {
     "base_uri": "https://localhost:8080/"
    },
    "id": "VXz-7XXYGdW9",
    "outputId": "ae63e9e8-b7ca-4106-8a1d-7a8a6cf96333"
   },
   "outputs": [
    {
     "name": "stderr",
     "output_type": "stream",
     "text": [
      "<ipython-input-50-6ab7ca468df0>:17: SettingWithCopyWarning: \n",
      "A value is trying to be set on a copy of a slice from a DataFrame.\n",
      "Try using .loc[row_indexer,col_indexer] = value instead\n",
      "\n",
      "See the caveats in the documentation: https://pandas.pydata.org/pandas-docs/stable/user_guide/indexing.html#returning-a-view-versus-a-copy\n",
      "  df[\"processed_text\"] = df[\"body_text\"].apply(spacy_process)\n"
     ]
    }
   ],
   "source": [
    "import spacy\n",
    "import re\n",
    "nlp = en_core_web_lg.load()\n",
    "def spacy_process(texte):\n",
    "\n",
    "    #URLs\n",
    "    string = re.sub(r\"https?://\\S+|www.\\S+\",'',texte)\n",
    "    #html \n",
    "    string = re.sub(r'<.*?>','',string)\n",
    "    #Numbers\n",
    "    string = re.sub(r'[0-9]+','',string) \n",
    "\n",
    "    mytokens = nlp(string)\n",
    "    mytokens2 = [word.lemma_.lower().strip() for word in mytokens if word.pos_ != \"PUNCT\" and word.text.lower() not in stopwords and word.text.lower() not in punctuations]\n",
    "    mytokens2 = \" \".join([i for i in mytokens2])\n",
    "    return mytokens2\n",
    "df[\"processed_text\"] = df[\"body_text\"].apply(spacy_process)"
   ]
  },
  {
   "cell_type": "code",
   "execution_count": 51,
   "metadata": {
    "id": "RNCjwjtVZ2Mq"
   },
   "outputs": [],
   "source": [
    "#df[\"processed_text\"].to_csv(\"text_cleaned.csv\")\n"
   ]
  },
  {
   "cell_type": "code",
   "execution_count": 65,
   "metadata": {
    "id": "LYl0_UhObjt0"
   },
   "outputs": [],
   "source": [
    "df.to_csv(\"C:\\\\Users\\\\Seyf_GOUMEIDA\\\\Desktop\\\\PPD\\\\new_text_cleaned.csv\")\n"
   ]
  },
  {
   "cell_type": "markdown",
   "metadata": {
    "id": "MUa3hW_rGdW-"
   },
   "source": [
    "### Exemple for lemmatizing with Lemma"
   ]
  },
  {
   "cell_type": "markdown",
   "metadata": {
    "id": "zCXI53AOuipA"
   },
   "source": [
    "it doesn't detect the conjugaison of the verbs so we need to use an other lemmmatizer"
   ]
  },
  {
   "cell_type": "code",
   "execution_count": 59,
   "metadata": {
    "colab": {
     "base_uri": "https://localhost:8080/"
    },
    "id": "o4KDJ0KqGdW-",
    "outputId": "e0f32b08-3456-4cc1-eb1e-ac2efb942923"
   },
   "outputs": [
    {
     "name": "stdout",
     "output_type": "stream",
     "text": [
      "vaccinations  : vaccination\n",
      "vaccination  : vaccination\n",
      "vaccinating  : vaccinate\n",
      "vaccinated  : vaccinate\n"
     ]
    }
   ],
   "source": [
    "test1 = spacy_process(\"vaccinations\")\n",
    "test2 = spacy_process(\"vaccination\")\n",
    "test3 = spacy_process(\"vaccinating\")\n",
    "test4 = spacy_process(\"vaccinated\")\n",
    "print(\"vaccinations  :\" , test1)\n",
    "print(\"vaccination  :\" ,test2)\n",
    "print(\"vaccinating  :\" ,test3)\n",
    "print(\"vaccinated  :\" ,test4)"
   ]
  },
  {
   "cell_type": "code",
   "execution_count": 60,
   "metadata": {
    "id": "PZye4CoHGdXA"
   },
   "outputs": [],
   "source": [
    "# processed_text = df[\"processed_text\"]\n",
    "# body_text = df[\"body_text\"]\n",
    "\n",
    "# for i in range(0,10):\n",
    "#     print(\"body_text[i]\")\n",
    "#     print(body_text[i])\n",
    "#     print(\"\")\n",
    "#     print(\"processed_text[i]\")\n",
    "#     print(processed_text[i])\n",
    "#     print(\"\")\n",
    "#     print(\"----------------------------------------------------------\")\n",
    "\n"
   ]
  },
  {
   "cell_type": "markdown",
   "metadata": {
    "id": "ADe6yiQUGdXK"
   },
   "source": [
    "### Let's take a look at word count in the papers"
   ]
  },
  {
   "cell_type": "code",
   "execution_count": 61,
   "metadata": {
    "id": "QkCHs7YzGdXL"
   },
   "outputs": [],
   "source": [
    "import seaborn as sns"
   ]
  },
  {
   "cell_type": "code",
   "execution_count": 62,
   "metadata": {
    "colab": {
     "base_uri": "https://localhost:8080/",
     "height": 497
    },
    "id": "CEkqhYSoGdXL",
    "outputId": "6e1f3add-937f-463d-b1aa-1bd2153b7319"
   },
   "outputs": [
    {
     "name": "stderr",
     "output_type": "stream",
     "text": [
      "/home/kamel/.local/lib/python3.8/site-packages/seaborn/distributions.py:2619: FutureWarning: `distplot` is a deprecated function and will be removed in a future version. Please adapt your code to use either `displot` (a figure-level function with similar flexibility) or `histplot` (an axes-level function for histograms).\n",
      "  warnings.warn(msg, FutureWarning)\n"
     ]
    },
    {
     "data": {
      "text/plain": [
       "count     678.000000\n",
       "mean      241.333333\n",
       "std       102.994677\n",
       "min         0.000000\n",
       "25%       187.000000\n",
       "50%       236.500000\n",
       "75%       274.000000\n",
       "max      1112.000000\n",
       "Name: body_word_count, dtype: float64"
      ]
     },
     "execution_count": 62,
     "metadata": {},
     "output_type": "execute_result"
    },
    {
     "data": {
      "image/png": "[encoded data removed]",
      "text/plain": [
       "<Figure size 432x288 with 1 Axes>"
      ]
     },
     "metadata": {},
     "output_type": "display_data"
    }
   ],
   "source": [
    "sns.distplot(df['body_word_count'])\n",
    "df['body_word_count'].describe()"
   ]
  },
  {
   "cell_type": "code",
   "execution_count": 63,
   "metadata": {
    "colab": {
     "base_uri": "https://localhost:8080/",
     "height": 493
    },
    "id": "UJl1yVcGGdXL",
    "outputId": "972d012a-93be-41d1-daae-23c68170bca7"
   },
   "outputs": [
    {
     "name": "stderr",
     "output_type": "stream",
     "text": [
      "/home/kamel/.local/lib/python3.8/site-packages/seaborn/distributions.py:2619: FutureWarning: `distplot` is a deprecated function and will be removed in a future version. Please adapt your code to use either `displot` (a figure-level function with similar flexibility) or `histplot` (an axes-level function for histograms).\n",
      "  warnings.warn(msg, FutureWarning)\n"
     ]
    },
    {
     "data": {
      "text/plain": [
       "count    678.000000\n",
       "mean     153.103245\n",
       "std       52.339348\n",
       "min        0.000000\n",
       "25%      123.000000\n",
       "50%      149.000000\n",
       "75%      175.000000\n",
       "max      573.000000\n",
       "Name: body_unique_words, dtype: float64"
      ]
     },
     "execution_count": 63,
     "metadata": {},
     "output_type": "execute_result"
    },
    {
     "data": {
      "image/png": "[encoded data removed]",
      "text/plain": [
       "<Figure size 432x288 with 1 Axes>"
      ]
     },
     "metadata": {},
     "output_type": "display_data"
    }
   ],
   "source": [
    "sns.distplot(df['body_unique_words'])\n",
    "df['body_unique_words'].describe()"
   ]
  },
  {
   "cell_type": "markdown",
   "metadata": {
    "id": "alMrEpYlvnwn"
   },
   "source": []
  },
  {
   "cell_type": "markdown",
   "metadata": {
    "id": "U-brgMCWewo-"
   },
   "source": [
    "# Vectorisation"
   ]
  },
  {
   "cell_type": "code",
   "execution_count": 64,
   "metadata": {
    "id": "4YGzci-ikDEr"
   },
   "outputs": [
    {
     "ename": "FileNotFoundError",
     "evalue": "[Errno 2] No such file or directory: './new_text_cleaned.csv'",
     "output_type": "error",
     "traceback": [
      "\u001b[0;31m---------------------------------------------------------------------------\u001b[0m",
      "\u001b[0;31mFileNotFoundError\u001b[0m                         Traceback (most recent call last)",
      "\u001b[0;32m<ipython-input-64-a35c935a2e43>\u001b[0m in \u001b[0;36m<module>\u001b[0;34m\u001b[0m\n\u001b[1;32m      1\u001b[0m \u001b[0;32mimport\u001b[0m \u001b[0mpandas\u001b[0m \u001b[0;32mas\u001b[0m \u001b[0mpd\u001b[0m\u001b[0;34m\u001b[0m\u001b[0;34m\u001b[0m\u001b[0m\n\u001b[0;32m----> 2\u001b[0;31m \u001b[0mdf\u001b[0m \u001b[0;34m=\u001b[0m \u001b[0mpd\u001b[0m\u001b[0;34m.\u001b[0m\u001b[0mread_csv\u001b[0m\u001b[0;34m(\u001b[0m\u001b[0;34m'./new_text_cleaned.csv'\u001b[0m\u001b[0;34m)\u001b[0m\u001b[0;34m\u001b[0m\u001b[0;34m\u001b[0m\u001b[0m\n\u001b[0m\u001b[1;32m      3\u001b[0m \u001b[0;31m#df = pd.read_csv(\"/content/text_cleaned.csv\")\u001b[0m\u001b[0;34m\u001b[0m\u001b[0;34m\u001b[0m\u001b[0;34m\u001b[0m\u001b[0m\n\u001b[1;32m      4\u001b[0m \u001b[0mdf\u001b[0m\u001b[0;34m.\u001b[0m\u001b[0mdrop\u001b[0m\u001b[0;34m(\u001b[0m\u001b[0mcolumns\u001b[0m\u001b[0;34m=\u001b[0m\u001b[0;34m\"Unnamed: 0\"\u001b[0m\u001b[0;34m,\u001b[0m\u001b[0minplace\u001b[0m\u001b[0;34m=\u001b[0m\u001b[0;32mTrue\u001b[0m\u001b[0;34m)\u001b[0m\u001b[0;34m\u001b[0m\u001b[0;34m\u001b[0m\u001b[0m\n\u001b[1;32m      5\u001b[0m \u001b[0mdf\u001b[0m\u001b[0;34m.\u001b[0m\u001b[0mdropna\u001b[0m\u001b[0;34m(\u001b[0m\u001b[0minplace\u001b[0m\u001b[0;34m=\u001b[0m\u001b[0;32mTrue\u001b[0m\u001b[0;34m)\u001b[0m\u001b[0;34m\u001b[0m\u001b[0;34m\u001b[0m\u001b[0m\n",
      "\u001b[0;32m~/.local/lib/python3.8/site-packages/pandas/util/_decorators.py\u001b[0m in \u001b[0;36mwrapper\u001b[0;34m(*args, **kwargs)\u001b[0m\n\u001b[1;32m    309\u001b[0m                     \u001b[0mstacklevel\u001b[0m\u001b[0;34m=\u001b[0m\u001b[0mstacklevel\u001b[0m\u001b[0;34m,\u001b[0m\u001b[0;34m\u001b[0m\u001b[0;34m\u001b[0m\u001b[0m\n\u001b[1;32m    310\u001b[0m                 )\n\u001b[0;32m--> 311\u001b[0;31m             \u001b[0;32mreturn\u001b[0m \u001b[0mfunc\u001b[0m\u001b[0;34m(\u001b[0m\u001b[0;34m*\u001b[0m\u001b[0margs\u001b[0m\u001b[0;34m,\u001b[0m \u001b[0;34m**\u001b[0m\u001b[0mkwargs\u001b[0m\u001b[0;34m)\u001b[0m\u001b[0;34m\u001b[0m\u001b[0;34m\u001b[0m\u001b[0m\n\u001b[0m\u001b[1;32m    312\u001b[0m \u001b[0;34m\u001b[0m\u001b[0m\n\u001b[1;32m    313\u001b[0m         \u001b[0;32mreturn\u001b[0m \u001b[0mwrapper\u001b[0m\u001b[0;34m\u001b[0m\u001b[0;34m\u001b[0m\u001b[0m\n",
      "\u001b[0;32m~/.local/lib/python3.8/site-packages/pandas/io/parsers/readers.py\u001b[0m in \u001b[0;36mread_csv\u001b[0;34m(filepath_or_buffer, sep, delimiter, header, names, index_col, usecols, squeeze, prefix, mangle_dupe_cols, dtype, engine, converters, true_values, false_values, skipinitialspace, skiprows, skipfooter, nrows, na_values, keep_default_na, na_filter, verbose, skip_blank_lines, parse_dates, infer_datetime_format, keep_date_col, date_parser, dayfirst, cache_dates, iterator, chunksize, compression, thousands, decimal, lineterminator, quotechar, quoting, doublequote, escapechar, comment, encoding, encoding_errors, dialect, error_bad_lines, warn_bad_lines, on_bad_lines, delim_whitespace, low_memory, memory_map, float_precision, storage_options)\u001b[0m\n\u001b[1;32m    678\u001b[0m     \u001b[0mkwds\u001b[0m\u001b[0;34m.\u001b[0m\u001b[0mupdate\u001b[0m\u001b[0;34m(\u001b[0m\u001b[0mkwds_defaults\u001b[0m\u001b[0;34m)\u001b[0m\u001b[0;34m\u001b[0m\u001b[0;34m\u001b[0m\u001b[0m\n\u001b[1;32m    679\u001b[0m \u001b[0;34m\u001b[0m\u001b[0m\n\u001b[0;32m--> 680\u001b[0;31m     \u001b[0;32mreturn\u001b[0m \u001b[0m_read\u001b[0m\u001b[0;34m(\u001b[0m\u001b[0mfilepath_or_buffer\u001b[0m\u001b[0;34m,\u001b[0m \u001b[0mkwds\u001b[0m\u001b[0;34m)\u001b[0m\u001b[0;34m\u001b[0m\u001b[0;34m\u001b[0m\u001b[0m\n\u001b[0m\u001b[1;32m    681\u001b[0m \u001b[0;34m\u001b[0m\u001b[0m\n\u001b[1;32m    682\u001b[0m \u001b[0;34m\u001b[0m\u001b[0m\n",
      "\u001b[0;32m~/.local/lib/python3.8/site-packages/pandas/io/parsers/readers.py\u001b[0m in \u001b[0;36m_read\u001b[0;34m(filepath_or_buffer, kwds)\u001b[0m\n\u001b[1;32m    573\u001b[0m \u001b[0;34m\u001b[0m\u001b[0m\n\u001b[1;32m    574\u001b[0m     \u001b[0;31m# Create the parser.\u001b[0m\u001b[0;34m\u001b[0m\u001b[0;34m\u001b[0m\u001b[0;34m\u001b[0m\u001b[0m\n\u001b[0;32m--> 575\u001b[0;31m     \u001b[0mparser\u001b[0m \u001b[0;34m=\u001b[0m \u001b[0mTextFileReader\u001b[0m\u001b[0;34m(\u001b[0m\u001b[0mfilepath_or_buffer\u001b[0m\u001b[0;34m,\u001b[0m \u001b[0;34m**\u001b[0m\u001b[0mkwds\u001b[0m\u001b[0;34m)\u001b[0m\u001b[0;34m\u001b[0m\u001b[0;34m\u001b[0m\u001b[0m\n\u001b[0m\u001b[1;32m    576\u001b[0m \u001b[0;34m\u001b[0m\u001b[0m\n\u001b[1;32m    577\u001b[0m     \u001b[0;32mif\u001b[0m \u001b[0mchunksize\u001b[0m \u001b[0;32mor\u001b[0m \u001b[0miterator\u001b[0m\u001b[0;34m:\u001b[0m\u001b[0;34m\u001b[0m\u001b[0;34m\u001b[0m\u001b[0m\n",
      "\u001b[0;32m~/.local/lib/python3.8/site-packages/pandas/io/parsers/readers.py\u001b[0m in \u001b[0;36m__init__\u001b[0;34m(self, f, engine, **kwds)\u001b[0m\n\u001b[1;32m    931\u001b[0m \u001b[0;34m\u001b[0m\u001b[0m\n\u001b[1;32m    932\u001b[0m         \u001b[0mself\u001b[0m\u001b[0;34m.\u001b[0m\u001b[0mhandles\u001b[0m\u001b[0;34m:\u001b[0m \u001b[0mIOHandles\u001b[0m \u001b[0;34m|\u001b[0m \u001b[0;32mNone\u001b[0m \u001b[0;34m=\u001b[0m \u001b[0;32mNone\u001b[0m\u001b[0;34m\u001b[0m\u001b[0;34m\u001b[0m\u001b[0m\n\u001b[0;32m--> 933\u001b[0;31m         \u001b[0mself\u001b[0m\u001b[0;34m.\u001b[0m\u001b[0m_engine\u001b[0m \u001b[0;34m=\u001b[0m \u001b[0mself\u001b[0m\u001b[0;34m.\u001b[0m\u001b[0m_make_engine\u001b[0m\u001b[0;34m(\u001b[0m\u001b[0mf\u001b[0m\u001b[0;34m,\u001b[0m \u001b[0mself\u001b[0m\u001b[0;34m.\u001b[0m\u001b[0mengine\u001b[0m\u001b[0;34m)\u001b[0m\u001b[0;34m\u001b[0m\u001b[0;34m\u001b[0m\u001b[0m\n\u001b[0m\u001b[1;32m    934\u001b[0m \u001b[0;34m\u001b[0m\u001b[0m\n\u001b[1;32m    935\u001b[0m     \u001b[0;32mdef\u001b[0m \u001b[0mclose\u001b[0m\u001b[0;34m(\u001b[0m\u001b[0mself\u001b[0m\u001b[0;34m)\u001b[0m\u001b[0;34m:\u001b[0m\u001b[0;34m\u001b[0m\u001b[0;34m\u001b[0m\u001b[0m\n",
      "\u001b[0;32m~/.local/lib/python3.8/site-packages/pandas/io/parsers/readers.py\u001b[0m in \u001b[0;36m_make_engine\u001b[0;34m(self, f, engine)\u001b[0m\n\u001b[1;32m   1215\u001b[0m             \u001b[0;31m# \"Union[str, PathLike[str], ReadCsvBuffer[bytes], ReadCsvBuffer[str]]\"\u001b[0m\u001b[0;34m\u001b[0m\u001b[0;34m\u001b[0m\u001b[0;34m\u001b[0m\u001b[0m\n\u001b[1;32m   1216\u001b[0m             \u001b[0;31m# , \"str\", \"bool\", \"Any\", \"Any\", \"Any\", \"Any\", \"Any\"\u001b[0m\u001b[0;34m\u001b[0m\u001b[0;34m\u001b[0m\u001b[0;34m\u001b[0m\u001b[0m\n\u001b[0;32m-> 1217\u001b[0;31m             self.handles = get_handle(  # type: ignore[call-overload]\n\u001b[0m\u001b[1;32m   1218\u001b[0m                 \u001b[0mf\u001b[0m\u001b[0;34m,\u001b[0m\u001b[0;34m\u001b[0m\u001b[0;34m\u001b[0m\u001b[0m\n\u001b[1;32m   1219\u001b[0m                 \u001b[0mmode\u001b[0m\u001b[0;34m,\u001b[0m\u001b[0;34m\u001b[0m\u001b[0;34m\u001b[0m\u001b[0m\n",
      "\u001b[0;32m~/.local/lib/python3.8/site-packages/pandas/io/common.py\u001b[0m in \u001b[0;36mget_handle\u001b[0;34m(path_or_buf, mode, encoding, compression, memory_map, is_text, errors, storage_options)\u001b[0m\n\u001b[1;32m    787\u001b[0m         \u001b[0;32mif\u001b[0m \u001b[0mioargs\u001b[0m\u001b[0;34m.\u001b[0m\u001b[0mencoding\u001b[0m \u001b[0;32mand\u001b[0m \u001b[0;34m\"b\"\u001b[0m \u001b[0;32mnot\u001b[0m \u001b[0;32min\u001b[0m \u001b[0mioargs\u001b[0m\u001b[0;34m.\u001b[0m\u001b[0mmode\u001b[0m\u001b[0;34m:\u001b[0m\u001b[0;34m\u001b[0m\u001b[0;34m\u001b[0m\u001b[0m\n\u001b[1;32m    788\u001b[0m             \u001b[0;31m# Encoding\u001b[0m\u001b[0;34m\u001b[0m\u001b[0;34m\u001b[0m\u001b[0;34m\u001b[0m\u001b[0m\n\u001b[0;32m--> 789\u001b[0;31m             handle = open(\n\u001b[0m\u001b[1;32m    790\u001b[0m                 \u001b[0mhandle\u001b[0m\u001b[0;34m,\u001b[0m\u001b[0;34m\u001b[0m\u001b[0;34m\u001b[0m\u001b[0m\n\u001b[1;32m    791\u001b[0m                 \u001b[0mioargs\u001b[0m\u001b[0;34m.\u001b[0m\u001b[0mmode\u001b[0m\u001b[0;34m,\u001b[0m\u001b[0;34m\u001b[0m\u001b[0;34m\u001b[0m\u001b[0m\n",
      "\u001b[0;31mFileNotFoundError\u001b[0m: [Errno 2] No such file or directory: './new_text_cleaned.csv'"
     ]
    }
   ],
   "source": [
    "import pandas as pd\n",
    "df = pd.read_csv('./new_text_cleaned.csv')\n",
    "#df = pd.read_csv(\"/content/text_cleaned.csv\")\n",
    "df.drop(columns=\"Unnamed: 0\",inplace=True)\n",
    "df.dropna(inplace=True)"
   ]
  },
  {
   "cell_type": "code",
   "execution_count": 66,
   "metadata": {
    "colab": {
     "base_uri": "https://localhost:8080/"
    },
    "id": "HGd1qp_QfQ53",
    "outputId": "e54a10a3-6747-4e31-c6a5-96ce882869ae"
   },
   "outputs": [
    {
     "data": {
      "text/plain": [
       "(678, 4096)"
      ]
     },
     "execution_count": 66,
     "metadata": {},
     "output_type": "execute_result"
    }
   ],
   "source": [
    "from sklearn.feature_extraction.text import TfidfVectorizer\n",
    "def vectorize(text):\n",
    "    \n",
    "    global vectorizer \n",
    "    X = vectorizer.fit_transform(text)\n",
    "    return X\n",
    "#-----------------------------------------------------------\n",
    "text = df['processed_text'].values\n",
    "vectorizer = TfidfVectorizer(max_features= 2 ** 12)\n",
    "X = vectorize(text)\n",
    "X.shape"
   ]
  },
  {
   "cell_type": "code",
   "execution_count": 67,
   "metadata": {
    "colab": {
     "base_uri": "https://localhost:8080/"
    },
    "id": "QfEYbfXV0y7U",
    "outputId": "cb100e22-5332-45f3-85b6-dadc136e5dd6"
   },
   "outputs": [
    {
     "name": "stderr",
     "output_type": "stream",
     "text": [
      "/home/kamel/.local/lib/python3.8/site-packages/sklearn/utils/deprecation.py:87: FutureWarning: Function get_feature_names is deprecated; get_feature_names is deprecated in 1.0 and will be removed in 1.2. Please use get_feature_names_out instead.\n",
      "  warnings.warn(msg, category=FutureWarning)\n"
     ]
    }
   ],
   "source": [
    "# on doit vérifier si le vectorizer prend 2**12 premiers mots ou bien par nombre d'occurences \n",
    "all_terms_tfidf = vectorizer.get_feature_names()"
   ]
  },
  {
   "cell_type": "markdown",
   "metadata": {
    "id": "HDDmnO7CsN0-"
   },
   "source": [
    "# Coclust"
   ]
  },
  {
   "cell_type": "code",
   "execution_count": 68,
   "metadata": {
    "colab": {
     "base_uri": "https://localhost:8080/"
    },
    "id": "R5l645atkX7d",
    "outputId": "0b5d2a3b-f42e-4935-8d93-b21ce548ae12"
   },
   "outputs": [
    {
     "name": "stdout",
     "output_type": "stream",
     "text": [
      "Computing coclust modularity for a range of cluster numbers =\n",
      " 2 ...\n",
      " 3 ...\n",
      " 4 ...\n",
      " 5 ...\n",
      " 6 ...\n",
      " 7 ...\n",
      " 8 ...\n",
      " 9 ...\n",
      " All done !\n"
     ]
    }
   ],
   "source": [
    "# ** Compute the final coClust modularity on a range of number of clusters **\n",
    "\n",
    "# -- range of number of clusters\n",
    "# ---- get min\n",
    "min_cluster_nbr = 2\n",
    "max_cluster_nbr = 9\n",
    "range_n_clusters = range(min_cluster_nbr, (max_cluster_nbr+1))\n",
    "\n",
    "# -- Number of random initialization per cluster number\n",
    "n_rand_init = 1\n",
    "\n",
    "# --  max modularity for all models\n",
    "model, all_max_modularities = best_modularity_partition(X,range_n_clusters, n_rand_init)"
   ]
  },
  {
   "cell_type": "code",
   "execution_count": 69,
   "metadata": {
    "colab": {
     "base_uri": "https://localhost:8080/",
     "height": 325
    },
    "id": "y9NFtKPmmGsq",
    "outputId": "aadcca86-50dc-419a-db87-61af74053edb"
   },
   "outputs": [
    {
     "data": {
      "image/png": "[encoded data removed]",
      "text/plain": [
       "<Figure size 432x288 with 1 Axes>"
      ]
     },
     "metadata": {},
     "output_type": "display_data"
    }
   ],
   "source": [
    "# ** Plot all final modularities **\n",
    "plot_max_modularities(all_max_modularities, range_n_clusters)"
   ]
  },
  {
   "cell_type": "code",
   "execution_count": 70,
   "metadata": {
    "colab": {
     "base_uri": "https://localhost:8080/",
     "height": 325
    },
    "id": "nt5RSj5vmPcz",
    "outputId": "ebd44929-9e55-4d21-d137-7ef31af730c8"
   },
   "outputs": [
    {
     "data": {
      "image/png": "[encoded data removed]",
      "text/plain": [
       "<Figure size 432x288 with 1 Axes>"
      ]
     },
     "metadata": {},
     "output_type": "display_data"
    }
   ],
   "source": [
    "# ** Plot intermediate modularities for the best CoClust final modularity **\n",
    "plot_intermediate_modularities(model)"
   ]
  },
  {
   "cell_type": "code",
   "execution_count": 71,
   "metadata": {
    "colab": {
     "base_uri": "https://localhost:8080/",
     "height": 1000
    },
    "id": "TWp86PF1mWMN",
    "outputId": "d59b3652-96ca-43d7-a35c-db460fdb4151",
    "scrolled": false
   },
   "outputs": [
    {
     "data": {
      "image/png": "[encoded data removed]",
      "text/plain": [
       "<Figure size 432x576 with 1 Axes>"
      ]
     },
     "metadata": {},
     "output_type": "display_data"
    },
    {
     "data": {
      "image/png": "[encoded data removed]",
      "text/plain": [
       "<Figure size 1440x1440 with 7 Axes>"
      ]
     },
     "metadata": {},
     "output_type": "display_data"
    },
    {
     "name": "stdout",
     "output_type": "stream",
     "text": [
      "taille de chaque cluster :\n"
     ]
    },
    {
     "data": {
      "image/png": "[encoded data removed]",
      "text/plain": [
       "<Figure size 720x576 with 1 Axes>"
      ]
     },
     "metadata": {},
     "output_type": "display_data"
    }
   ],
   "source": [
    "import matplotlib.pyplot as plt\n",
    "plt.rcParams[\"figure.figsize\"] = (6,8)\n",
    "\n",
    "from coclust.visualization import (plot_reorganized_matrix,\n",
    "                                  plot_cluster_top_terms,\n",
    "                                  plot_max_modularities,\n",
    "                                  get_term_graph,\n",
    "                                  plot_convergence)\n",
    "# ** Plot top terms for each cluster and the cluster sizes **\n",
    "n_terms = 20\n",
    "# plot the reorganized matrix\n",
    "\n",
    "plot_reorganized_matrix(X, model, markersize=0.9)\n",
    "# --> top terms\n",
    "plot_cluster_top_terms(X, all_terms_tfidf, n_terms, model)\n",
    "# --> cluster sizes\n",
    "print(\"taille de chaque cluster :\")\n",
    "plot_cluster_sizes(model)"
   ]
  },
  {
   "cell_type": "code",
   "execution_count": 72,
   "metadata": {
    "id": "eGNFFuuonCvs"
   },
   "outputs": [],
   "source": [
    "# ** Plot the term graph for a given cluster of terms **\n",
    "graph = get_term_graph(X,model, all_terms_tfidf, 1, 10, 5)"
   ]
  },
  {
   "cell_type": "code",
   "execution_count": 73,
   "metadata": {
    "colab": {
     "base_uri": "https://localhost:8080/",
     "height": 17
    },
    "id": "VIudim2rp1ii",
    "outputId": "2b53eefb-77a8-41cc-db70-dc4a341340ff"
   },
   "outputs": [
    {
     "data": {
      "application/javascript": [
       "require.config({\n",
       "  paths: {\n",
       "      d3: '//cdnjs.cloudflare.com/ajax/libs/d3/3.4.8/d3.min'\n",
       "  }\n",
       "});\n"
      ],
      "text/plain": [
       "<IPython.core.display.Javascript object>"
      ]
     },
     "metadata": {},
     "output_type": "display_data"
    }
   ],
   "source": [
    "%%javascript\n",
    "require.config({\n",
    "  paths: {\n",
    "      d3: '//cdnjs.cloudflare.com/ajax/libs/d3/3.4.8/d3.min'\n",
    "  }\n",
    "});\n"
   ]
  },
  {
   "cell_type": "code",
   "execution_count": 74,
   "metadata": {
    "colab": {
     "base_uri": "https://localhost:8080/",
     "height": 17
    },
    "id": "thW3FvTXp3i5",
    "outputId": "e3c943ee-2e38-47db-aa42-2f3e930080d5"
   },
   "outputs": [
    {
     "data": {
      "application/javascript": [
       "\n",
       "           window.graph={'nodes': [{'name': 'ace', 'group': 0}, {'name': 'sars', 'group': 0}, {'name': 'cov', 'group': 0}, {'name': 'immune', 'group': 0}, {'name': 'infection', 'group': 0}, {'name': 'cell', 'group': 0}, {'name': 'response', 'group': 0}, {'name': 'angiotensin', 'group': 0}, {'name': 'cytokine', 'group': 0}, {'name': 'inflammation', 'group': 0}, {'name': 'il', 'group': 1}, {'name': 'systemic', 'group': 1}, {'name': 'acute', 'group': 1}, {'name': 'immunology', 'group': 1}, {'name': 'immunometabolism', 'group': 1}, {'name': 'nk', 'group': 1}, {'name': 'relate', 'group': 1}, {'name': 'enzyme', 'group': 1}, {'name': 'renin', 'group': 1}, {'name': 'tnf', 'group': 1}, {'name': 'respiratory', 'group': 1}, {'name': 'inflammatory', 'group': 1}, {'name': 'convert', 'group': 1}, {'name': 'coronavirus', 'group': 1}, {'name': 'expression', 'group': 1}, {'name': 'viral', 'group': 1}, {'name': 'dendritic', 'group': 1}, {'name': 'grade', 'group': 1}, {'name': 'storm', 'group': 1}], 'links': [{'source': 0, 'target': 7, 'value': 0.612974117652779}, {'source': 0, 'target': 10, 'value': 0.5616650186685024}, {'source': 0, 'target': 11, 'value': 0.4936147957848338}, {'source': 0, 'target': 12, 'value': 0.466544867709925}, {'source': 1, 'target': 2, 'value': 0.9929051580480203}, {'source': 1, 'target': 4, 'value': 0.7208602844274938}, {'source': 1, 'target': 13, 'value': 0.6852651561499741}, {'source': 1, 'target': 14, 'value': 0.6017052751638596}, {'source': 2, 'target': 4, 'value': 0.7275795633456443}, {'source': 2, 'target': 14, 'value': 0.6909557687866653}, {'source': 2, 'target': 14, 'value': 0.5933944460343518}, {'source': 3, 'target': 6, 'value': 0.7315784573714192}, {'source': 3, 'target': 4, 'value': 0.6152854844881296}, {'source': 3, 'target': 14, 'value': 0.5529308965465585}, {'source': 3, 'target': 1, 'value': 0.4883696074137499}, {'source': 4, 'target': 14, 'value': 0.6779681599792452}, {'source': 5, 'target': 15, 'value': 0.6488338563942404}, {'source': 5, 'target': 16, 'value': 0.5343721725223275}, {'source': 5, 'target': 17, 'value': 0.5015178526868812}, {'source': 5, 'target': 18, 'value': 0.5015178526868812}, {'source': 6, 'target': 4, 'value': 0.5634083169193147}, {'source': 6, 'target': 19, 'value': 0.560546369765097}, {'source': 6, 'target': 20, 'value': 0.5505153927756335}, {'source': 7, 'target': 20, 'value': 0.851282390384704}, {'source': 7, 'target': 20, 'value': 0.8077014912685869}, {'source': 7, 'target': 21, 'value': 0.6599055453061571}, {'source': 8, 'target': 22, 'value': 0.7311089951996435}, {'source': 8, 'target': 23, 'value': 0.5351792309547907}, {'source': 8, 'target': 24, 'value': 0.49582191959696675}, {'source': 8, 'target': 24, 'value': 0.4837874343403687}, {'source': 9, 'target': 25, 'value': 0.539702999724495}, {'source': 9, 'target': 26, 'value': 0.4594943809172739}, {'source': 9, 'target': 27, 'value': 0.452596628353736}, {'source': 9, 'target': 28, 'value': 0.4500361321454977}]};\n",
       "           "
      ],
      "text/plain": [
       "<IPython.core.display.Javascript object>"
      ]
     },
     "execution_count": 74,
     "metadata": {},
     "output_type": "execute_result"
    }
   ],
   "source": [
    " from IPython.display import Javascript\n",
    " #runs arbitrary javascript, client-side\n",
    " Javascript(\"\"\"\n",
    "            window.graph={};\n",
    "            \"\"\".format(graph))"
   ]
  },
  {
   "cell_type": "code",
   "execution_count": 75,
   "metadata": {
    "id": "5voMukEdp7Us",
    "scrolled": true
   },
   "outputs": [
    {
     "data": {
      "application/javascript": [
       " require(['d3'], function(d3){\n",
       "   //a weird idempotency thing\n",
       "   $(\"#chart1\").remove();\n",
       "   //create canvas\n",
       "   element.append(\"<div id='chart1'></div>\");\n",
       "   $(\"#chart1\").width(\"1160px\");\n",
       "   $(\"#chart1\").height(\"800px\");        \n",
       "   var margin = {top: 20, right: 20, bottom: 30, left: 40};\n",
       "   var width = 1280 - margin.left - margin.right;\n",
       "   var height = 800 - margin.top - margin.bottom;\n",
       "   var svg = d3.select(\"#chart1\").append(\"svg\")\n",
       "     .style(\"position\", \"relative\")\n",
       "     .style(\"max-width\", \"960px\")\n",
       "     .attr(\"width\", width + \"px\")\n",
       "     .attr(\"height\", (height + 50) + \"px\")\n",
       "     .call(d3.behavior.zoom().on(\"zoom\", redraw))\n",
       "     .append(\"g\")\n",
       "     .attr(\"transform\", \"translate(\" + margin.left + \",\" + margin.top + \")\");\n",
       "    \n",
       "    \n",
       "   function redraw() {\n",
       "       svg.attr(\"transform\",\n",
       "                \"translate(\" + d3.event.translate + \")\"\n",
       "                + \" scale(\" + d3.event.scale + \")\");\n",
       "   }   \n",
       "   var color = d3.scale.category20();\n",
       "   var force = d3.layout.force()\n",
       "     .charge(-500)\n",
       "     //.linkDistance(5)\n",
       "     .linkDistance(function(d) { return (1 - d.value); })\n",
       "     .size([width, height]);\n",
       "   var graph = window.graph;\n",
       "   \n",
       "   force\n",
       "       .nodes(graph.nodes)\n",
       "       .links(graph.links)\n",
       "       .start();\n",
       "\n",
       "   var link = svg.selectAll(\".link\")\n",
       "       .data(graph.links)\n",
       "       .enter().append(\"line\")\n",
       "       .attr(\"class\", \"link\")\n",
       "       .style(\"stroke\", \"#999;\")\n",
       "       .style(\"stroke-opacity\", .6)\n",
       "       .style(\"stroke-width\", function(d) { return Math.sqrt(d.value); })\n",
       " \n",
       "       .style(\"stroke\", \"blue\");\n",
       "   var node = svg.selectAll(\".node\")\n",
       "       .data(graph.nodes)\n",
       "       .enter().append(\"g\")\n",
       "       .attr(\"class\", \"node\")\n",
       "       .call(force.drag);\n",
       "   \n",
       "   node.append(\"circle\")\n",
       "       .attr(\"class\", \"node_circle\")\n",
       "       .attr(\"r\", 8)\n",
       "       .style(\"fill\", function(d) { return color(d.group); });\n",
       "   node.append(\"text\")\n",
       "       .attr(\"class\", \"node_text\")\n",
       "       .attr(\"dx\", 12)\n",
       "       .attr(\"dy\", \".35em\")\n",
       "       .text(function(d) { return d.name });\n",
       "   node.append(\"title\")\n",
       "       .text(function(d) { return d.name; });\n",
       "   var node_text = svg.selectAll(\".node_text\");\n",
       "   var node_circle = svg.selectAll(\".node_circle\");\n",
       "   \n",
       "   force.on(\"tick\", function() {\n",
       "     link.attr(\"x1\", function(d) { return d.source.x; })\n",
       "         .attr(\"y1\", function(d) { return d.source.y; })\n",
       "         .attr(\"x2\", function(d) { return d.target.x; })\n",
       "         .attr(\"y2\", function(d) { return d.target.y; });\n",
       "     node_circle.attr(\"cx\", function(d) { return d.x; })\n",
       "         .attr(\"cy\", function(d) { return d.y; });\n",
       "     \n",
       "     node_text.attr(\"x\", function(d) { return d.x; })\n",
       "         .attr(\"y\", function(d) { return d.y; });\n",
       "   });\n",
       " });\n"
      ],
      "text/plain": [
       "<IPython.core.display.Javascript object>"
      ]
     },
     "metadata": {},
     "output_type": "display_data"
    }
   ],
   "source": [
    "%%javascript\n",
    " require(['d3'], function(d3){\n",
    "   //a weird idempotency thing\n",
    "   $(\"#chart1\").remove();\n",
    "   //create canvas\n",
    "   element.append(\"<div id='chart1'></div>\");\n",
    "   $(\"#chart1\").width(\"1160px\");\n",
    "   $(\"#chart1\").height(\"800px\");        \n",
    "   var margin = {top: 20, right: 20, bottom: 30, left: 40};\n",
    "   var width = 1280 - margin.left - margin.right;\n",
    "   var height = 800 - margin.top - margin.bottom;\n",
    "   var svg = d3.select(\"#chart1\").append(\"svg\")\n",
    "     .style(\"position\", \"relative\")\n",
    "     .style(\"max-width\", \"960px\")\n",
    "     .attr(\"width\", width + \"px\")\n",
    "     .attr(\"height\", (height + 50) + \"px\")\n",
    "     .call(d3.behavior.zoom().on(\"zoom\", redraw))\n",
    "     .append(\"g\")\n",
    "     .attr(\"transform\", \"translate(\" + margin.left + \",\" + margin.top + \")\");\n",
    "    \n",
    "    \n",
    "   function redraw() {\n",
    "       svg.attr(\"transform\",\n",
    "                \"translate(\" + d3.event.translate + \")\"\n",
    "                + \" scale(\" + d3.event.scale + \")\");\n",
    "   }   \n",
    "   var color = d3.scale.category20();\n",
    "   var force = d3.layout.force()\n",
    "     .charge(-500)\n",
    "     //.linkDistance(5)\n",
    "     .linkDistance(function(d) { return (1 - d.value); })\n",
    "     .size([width, height]);\n",
    "   var graph = window.graph;\n",
    "   \n",
    "   force\n",
    "       .nodes(graph.nodes)\n",
    "       .links(graph.links)\n",
    "       .start();\n",
    "\n",
    "   var link = svg.selectAll(\".link\")\n",
    "       .data(graph.links)\n",
    "       .enter().append(\"line\")\n",
    "       .attr(\"class\", \"link\")\n",
    "       .style(\"stroke\", \"#999;\")\n",
    "       .style(\"stroke-opacity\", .6)\n",
    "       .style(\"stroke-width\", function(d) { return Math.sqrt(d.value); })\n",
    " \n",
    "       .style(\"stroke\", \"blue\");\n",
    "   var node = svg.selectAll(\".node\")\n",
    "       .data(graph.nodes)\n",
    "       .enter().append(\"g\")\n",
    "       .attr(\"class\", \"node\")\n",
    "       .call(force.drag);\n",
    "   \n",
    "   node.append(\"circle\")\n",
    "       .attr(\"class\", \"node_circle\")\n",
    "       .attr(\"r\", 8)\n",
    "       .style(\"fill\", function(d) { return color(d.group); });\n",
    "   node.append(\"text\")\n",
    "       .attr(\"class\", \"node_text\")\n",
    "       .attr(\"dx\", 12)\n",
    "       .attr(\"dy\", \".35em\")\n",
    "       .text(function(d) { return d.name });\n",
    "   node.append(\"title\")\n",
    "       .text(function(d) { return d.name; });\n",
    "   var node_text = svg.selectAll(\".node_text\");\n",
    "   var node_circle = svg.selectAll(\".node_circle\");\n",
    "   \n",
    "   force.on(\"tick\", function() {\n",
    "     link.attr(\"x1\", function(d) { return d.source.x; })\n",
    "         .attr(\"y1\", function(d) { return d.source.y; })\n",
    "         .attr(\"x2\", function(d) { return d.target.x; })\n",
    "         .attr(\"y2\", function(d) { return d.target.y; });\n",
    "     node_circle.attr(\"cx\", function(d) { return d.x; })\n",
    "         .attr(\"cy\", function(d) { return d.y; });\n",
    "     \n",
    "     node_text.attr(\"x\", function(d) { return d.x; })\n",
    "         .attr(\"y\", function(d) { return d.y; });\n",
    "   });\n",
    " });"
   ]
  },
  {
   "cell_type": "markdown",
   "metadata": {},
   "source": [
    "# NER"
   ]
  },
  {
   "cell_type": "code",
   "execution_count": 76,
   "metadata": {},
   "outputs": [
    {
     "name": "stdout",
     "output_type": "stream",
     "text": [
      "Collecting https://s3-us-west-2.amazonaws.com/ai2-s2-scispacy/releases/v0.4.0/en_ner_bc5cdr_md-0.4.0.tar.gz\n",
      "  Downloading https://s3-us-west-2.amazonaws.com/ai2-s2-scispacy/releases/v0.4.0/en_ner_bc5cdr_md-0.4.0.tar.gz (125.1 MB)\n",
      "\u001b[K     |████████████████████████████████| 125.1 MB 1.2 MB/s eta 0:00:01\n",
      "\u001b[?25hCollecting spacy<3.1.0,>=3.0.1\n",
      "  Using cached spacy-3.0.8-cp38-cp38-manylinux_2_17_x86_64.manylinux2014_x86_64.whl (6.0 MB)\n",
      "Requirement already satisfied: numpy>=1.15.0 in /home/kamel/.local/lib/python3.8/site-packages (from spacy<3.1.0,>=3.0.1->en-ner-bc5cdr-md==0.4.0) (1.22.2)\n",
      "Requirement already satisfied: thinc<8.1.0,>=8.0.3 in /home/kamel/.local/lib/python3.8/site-packages (from spacy<3.1.0,>=3.0.1->en-ner-bc5cdr-md==0.4.0) (8.0.15)\n",
      "Requirement already satisfied: cymem<2.1.0,>=2.0.2 in /home/kamel/.local/lib/python3.8/site-packages (from spacy<3.1.0,>=3.0.1->en-ner-bc5cdr-md==0.4.0) (2.0.6)\n",
      "Requirement already satisfied: tqdm<5.0.0,>=4.38.0 in /home/kamel/.local/lib/python3.8/site-packages (from spacy<3.1.0,>=3.0.1->en-ner-bc5cdr-md==0.4.0) (4.63.1)\n",
      "Requirement already satisfied: pathy>=0.3.5 in /home/kamel/.local/lib/python3.8/site-packages (from spacy<3.1.0,>=3.0.1->en-ner-bc5cdr-md==0.4.0) (0.6.1)\n",
      "Requirement already satisfied: spacy-legacy<3.1.0,>=3.0.5 in /home/kamel/.local/lib/python3.8/site-packages (from spacy<3.1.0,>=3.0.1->en-ner-bc5cdr-md==0.4.0) (3.0.9)\n",
      "Requirement already satisfied: jinja2 in /usr/lib/python3/dist-packages (from spacy<3.1.0,>=3.0.1->en-ner-bc5cdr-md==0.4.0) (2.10.1)\n",
      "Requirement already satisfied: packaging>=20.0 in /home/kamel/.local/lib/python3.8/site-packages (from spacy<3.1.0,>=3.0.1->en-ner-bc5cdr-md==0.4.0) (21.3)\n",
      "Requirement already satisfied: catalogue<2.1.0,>=2.0.4 in /home/kamel/.local/lib/python3.8/site-packages (from spacy<3.1.0,>=3.0.1->en-ner-bc5cdr-md==0.4.0) (2.0.7)\n",
      "Requirement already satisfied: murmurhash<1.1.0,>=0.28.0 in /home/kamel/.local/lib/python3.8/site-packages (from spacy<3.1.0,>=3.0.1->en-ner-bc5cdr-md==0.4.0) (1.0.6)\n",
      "Requirement already satisfied: pydantic!=1.8,!=1.8.1,<1.9.0,>=1.7.4 in /home/kamel/.local/lib/python3.8/site-packages (from spacy<3.1.0,>=3.0.1->en-ner-bc5cdr-md==0.4.0) (1.8.2)\n",
      "Requirement already satisfied: setuptools in /usr/lib/python3/dist-packages (from spacy<3.1.0,>=3.0.1->en-ner-bc5cdr-md==0.4.0) (45.2.0)\n",
      "Requirement already satisfied: blis<0.8.0,>=0.4.0 in /home/kamel/.local/lib/python3.8/site-packages (from spacy<3.1.0,>=3.0.1->en-ner-bc5cdr-md==0.4.0) (0.7.7)\n",
      "Requirement already satisfied: requests<3.0.0,>=2.13.0 in /usr/lib/python3/dist-packages (from spacy<3.1.0,>=3.0.1->en-ner-bc5cdr-md==0.4.0) (2.22.0)\n",
      "Requirement already satisfied: preshed<3.1.0,>=3.0.2 in /home/kamel/.local/lib/python3.8/site-packages (from spacy<3.1.0,>=3.0.1->en-ner-bc5cdr-md==0.4.0) (3.0.6)\n",
      "Requirement already satisfied: srsly<3.0.0,>=2.4.1 in /home/kamel/.local/lib/python3.8/site-packages (from spacy<3.1.0,>=3.0.1->en-ner-bc5cdr-md==0.4.0) (2.4.3)\n",
      "Requirement already satisfied: wasabi<1.1.0,>=0.8.1 in /home/kamel/.local/lib/python3.8/site-packages (from spacy<3.1.0,>=3.0.1->en-ner-bc5cdr-md==0.4.0) (0.9.1)\n",
      "Requirement already satisfied: typer<0.4.0,>=0.3.0 in /home/kamel/.local/lib/python3.8/site-packages (from spacy<3.1.0,>=3.0.1->en-ner-bc5cdr-md==0.4.0) (0.3.2)\n",
      "Requirement already satisfied: smart-open<6.0.0,>=5.0.0 in /home/kamel/.local/lib/python3.8/site-packages (from pathy>=0.3.5->spacy<3.1.0,>=3.0.1->en-ner-bc5cdr-md==0.4.0) (5.2.1)\n",
      "Requirement already satisfied: pyparsing!=3.0.5,>=2.0.2 in /home/kamel/.local/lib/python3.8/site-packages (from packaging>=20.0->spacy<3.1.0,>=3.0.1->en-ner-bc5cdr-md==0.4.0) (3.0.7)\n",
      "Requirement already satisfied: typing-extensions>=3.7.4.3 in /home/kamel/.local/lib/python3.8/site-packages (from pydantic!=1.8,!=1.8.1,<1.9.0,>=1.7.4->spacy<3.1.0,>=3.0.1->en-ner-bc5cdr-md==0.4.0) (4.1.1)\n",
      "Requirement already satisfied: click<7.2.0,>=7.1.1 in /home/kamel/.local/lib/python3.8/site-packages (from typer<0.4.0,>=0.3.0->spacy<3.1.0,>=3.0.1->en-ner-bc5cdr-md==0.4.0) (7.1.2)\n",
      "Building wheels for collected packages: en-ner-bc5cdr-md\n",
      "  Building wheel for en-ner-bc5cdr-md (setup.py) ... \u001b[?25ldone\n",
      "\u001b[?25h  Created wheel for en-ner-bc5cdr-md: filename=en_ner_bc5cdr_md-0.4.0-py3-none-any.whl size=125666882 sha256=996b469cd8112b483f2fbe5e90361d674f7b24dd0e65c9faa201d0c5e8b3e454\n",
      "  Stored in directory: /home/kamel/.cache/pip/wheels/5e/d7/4a/3687ca1af324854b7edb76321c472a2743d778c28094ab2979\n",
      "Successfully built en-ner-bc5cdr-md\n",
      "\u001b[31mERROR: en-core-web-lg 3.2.0 has requirement spacy<3.3.0,>=3.2.0, but you'll have spacy 3.0.8 which is incompatible.\u001b[0m\n",
      "Installing collected packages: spacy, en-ner-bc5cdr-md\n",
      "  Attempting uninstall: spacy\n",
      "    Found existing installation: spacy 3.2.4\n",
      "    Uninstalling spacy-3.2.4:\n",
      "      Successfully uninstalled spacy-3.2.4\n",
      "Successfully installed en-ner-bc5cdr-md-0.4.0 spacy-3.0.8\n"
     ]
    },
    {
     "name": "stderr",
     "output_type": "stream",
     "text": [
      "/home/kamel/.local/lib/python3.8/site-packages/spacy/util.py:833: UserWarning: [W095] Model 'en_ner_bc5cdr_md' (0.4.0) was trained with spaCy v3.0 and may not be 100% compatible with the current version (3.2.4). If you see errors or degraded performance, download a newer compatible model or retrain your custom model with the current spaCy version. For more details and available updates, run: python -m spacy validate\n",
      "  warnings.warn(warn_msg)\n"
     ]
    }
   ],
   "source": [
    "!pip install https://s3-us-west-2.amazonaws.com/ai2-s2-scispacy/releases/v0.4.0/en_ner_bc5cdr_md-0.4.0.tar.gz\n",
    "import en_ner_bc5cdr_md\n",
    "nlp = spacy.load(\"en_ner_bc5cdr_md\")\n",
    "\n"
   ]
  },
  {
   "cell_type": "code",
   "execution_count": 80,
   "metadata": {},
   "outputs": [],
   "source": [
    "\n",
    "nlp = spacy.load(\"en_ner_bc5cdr_md\")\n",
    "clusters_terms=[]\n",
    "for i in range(0,model.n_clusters):\n",
    "    row_indices, col_indices = model.get_indices(i)\n",
    "    clusters_terms.append(np.array(all_terms_tfidf)[col_indices])"
   ]
  },
  {
   "cell_type": "code",
   "execution_count": 102,
   "metadata": {},
   "outputs": [
    {
     "name": "stdout",
     "output_type": "stream",
     "text": [
      "TERM_LIST  0  :  ['anomaly', 'dyslipidaemia', 'fracture', 'haemorrhage', 'hyperglycaemia', 'hyperglycemia', 'hypertension', 'hypokalaemia', 'pandemic', 'parainfluenza', 'schizophrenia', 'tuberculosis']\n",
      "TERM_LIST  1  :  ['arrhythmias', 'endotheliitis', 'hemorrhage', 'hyperandrogenism', 'hypercoagulable', 'hyperinsulinemia', 'hypertrophy', 'leukoencephalopathy', 'nausea', 'necrosis', 'periodontitis', 'sepsis', 'tumor', 'vasculitis']\n",
      "TERM_LIST  2  :  ['abscess', 'anemia', 'apnea', 'asthenia', 'cholestasis', 'coagulopathy', 'fibrosis', 'hypercoagulability', 'hypofibrinolysis', 'hypoxia', 'lymphocytopenia', 'malignancy', 'rash', 'sarcopenia', 'spondylodiscitis', 'steatohepatitis', 'steatosis', 'stroke', 'thrombocytopenia', 'thromboembolic', 'thrombotic', 'tracheomalacia']\n",
      "TERM_LIST  3  :  ['allergy', 'angioedema', 'canada', 'dyslipidemia', 'hdl', 'htn', 'hyperlipidaemia', 'hypertensive', 'hypoalbuminemia', 'infarction', 'jaundice', 'ketoacidosis', 'neuromyelitis', 'pox', 'scurvy', 'transaminitis', 'tumour']\n",
      "TERM_LIST  4  :  ['ageusia', 'anosmia', 'anxiety', 'arthritis', 'cytopenia', 'depression', 'dysgeusia', 'dysphonia', 'fatigue', 'glycaemia', 'headache', 'hla', 'hydronephrosis', 'hypersensitivity', 'hypervigilance', 'insomnia', 'malnutrition', 'myalgia', 'myasthenia', 'pain', 'pneumothorax', 'prematurity', 'psoriasis', 'pyelonephritis', 'rhinitis', 'tachypnea', 'thromboembolism', 'ulcer', 'vte']\n",
      "TERM_LIST  5  :  ['atherosclerosis', 'cardiomyopathy', 'diarrhea', 'endotoxemia', 'hepatitis', 'myocarditis', 'spermatogenesis', 'traumatic']\n",
      "TERM_LIST  6  :  ['acidosis', 'coma', 'comorbidity', 'cough', 'death', 'dementia', 'dyspnea', 'dyspnoea', 'embolism', 'fever', 'fibrillation', 'hyperlipidemia', 'hypothyroidism', 'hypoxemia', 'lymphopenia', 'msl', 'obesity', 'pneumonia', 'preeclampsia', 'seizure', 'septic', 'shock', 'sore', 'throat', 'thrombosis']\n"
     ]
    }
   ],
   "source": [
    "deseases_per_cluster=  {}\n",
    "desease=[]\n",
    "\n",
    "for j in range(0,len(clusters_terms)):\n",
    "    for i in clusters_terms[j]:\n",
    "        doc = nlp(str(i))  \n",
    "        word = [e.text for e in doc.ents if (e.label_ == \"DISEASE\")]\n",
    "        if len(word)!=0 : desease.append(word[0])\n",
    "    deseases_per_cluster[j] =desease\n",
    "    print(\"TERM_LIST \",j, \" : \" ,desease)\n",
    "    desease=[]\n",
    " "
   ]
  },
  {
   "cell_type": "code",
   "execution_count": 82,
   "metadata": {},
   "outputs": [
    {
     "name": "stdout",
     "output_type": "stream",
     "text": [
      "12  deseases\n",
      "14  deseases\n",
      "22  deseases\n",
      "17  deseases\n",
      "29  deseases\n",
      "8  deseases\n",
      "25  deseases\n"
     ]
    }
   ],
   "source": [
    "for i in deseases_per_cluster:\n",
    "    print(len(deseases_per_cluster[i]),\" deseases\")"
   ]
  },
  {
   "cell_type": "code",
   "execution_count": 83,
   "metadata": {},
   "outputs": [
    {
     "data": {
      "text/plain": [
       "matrix([[0.15326068, 0.22040926, 0.21713486, 0.23954396, 0.50456925,\n",
       "         0.57091718, 0.25133246, 0.35442391, 0.3853598 , 0.4223667 ,\n",
       "         9.57415097, 0.61612089, 0.41529715, 0.53428086, 0.77638478,\n",
       "         1.56254278, 0.74646256, 3.79474609, 0.62215856, 0.18874999,\n",
       "         0.64430528, 0.27995205, 1.77394902, 0.75836386, 0.31261583,\n",
       "         0.15290147, 2.08102119, 0.22477354, 0.31303665, 0.89383604,\n",
       "         0.36924733, 0.15349758, 0.15326068, 0.7605321 , 0.27812873,\n",
       "         0.77666306, 1.18620888, 1.09009341, 0.66544258, 0.87554758,\n",
       "         0.3519679 , 0.2083241 , 0.19972193, 0.21588392, 0.11250359,\n",
       "         0.27189582, 0.75301086, 4.91862422, 0.46572795, 0.17250565,\n",
       "         1.42485935, 0.36239438, 0.18322687, 0.85380448, 0.38056347,\n",
       "         0.21713486, 0.17847657, 0.10460618, 0.31321724, 0.69105328,\n",
       "         0.14321971, 0.46551243, 0.09332289, 0.43543715, 0.24395347,\n",
       "         0.26363375, 0.72104387, 0.35740802, 0.26556095, 0.35408126,\n",
       "         0.44189875, 0.12213782, 0.35424998, 1.286967  , 0.34426315,\n",
       "         0.43648367, 0.58146543, 0.19894945, 0.09727566, 0.23032494,\n",
       "         0.54887457, 0.98874602, 0.55811405, 0.61917934, 0.59388907,\n",
       "         0.48549002, 0.45668222, 0.21560262, 0.43777647, 1.59572758,\n",
       "         0.50548711, 0.46661443, 0.42141906, 0.15569179, 0.42034785,\n",
       "         0.56950155, 0.13904519, 0.46751911, 0.40356262, 0.18355994,\n",
       "         0.18761242, 2.85231428, 0.39589458, 0.14588291, 0.33063031,\n",
       "         0.11940079, 0.67693953, 3.2884059 , 0.23842977, 1.38077432,\n",
       "         0.13910206, 5.63605663, 1.53818298, 0.50168569, 0.38487791,\n",
       "         0.13607757, 0.28936625, 0.40817888, 0.53890192, 0.17148178,\n",
       "         0.1555003 , 0.16255518, 0.12282453, 0.56636089, 0.15432481,\n",
       "         0.57248045, 0.29458547, 0.28205343, 0.14514572, 0.56950155,\n",
       "         0.11603062, 0.28074311, 0.51465839, 0.06900083, 0.15344933,\n",
       "         0.55538087, 0.17766543, 0.52619847, 0.11045503, 0.11911949,\n",
       "         0.13594571, 0.07243464, 1.27915834, 0.09895864, 0.06955103,\n",
       "         0.18798114, 0.0695226 , 0.13090489, 0.12769204, 0.15170693,\n",
       "         0.15745801, 0.28982077, 0.05260862, 0.12693938, 0.11815177,\n",
       "         0.07294145, 0.11913601, 0.20532338, 0.14514572, 0.59033987,\n",
       "         0.72438328, 2.25807511, 1.01220143, 0.46777282, 0.12122703,\n",
       "         0.397999  , 0.71260852, 0.9340579 , 0.29077871, 0.37716774,\n",
       "         0.45269558, 0.19437298, 0.55954408, 2.66192776, 0.67336663,\n",
       "         0.1573539 , 0.42275011, 0.29959676, 2.77161364, 4.62169349,\n",
       "         0.39541894, 0.25874597, 0.1364374 , 0.20523043, 7.73348001,\n",
       "         0.8468427 , 0.40353943, 0.2570382 , 0.12984921, 0.08852032,\n",
       "         0.12122703, 0.09434727, 0.0695226 , 0.12769204, 0.08852188,\n",
       "         4.86551325, 0.08464371, 1.72799511, 0.20573312, 0.09493763,\n",
       "         0.14846783, 0.0695226 , 0.33061389, 0.09141363, 0.33095796,\n",
       "         0.11722417, 1.51794517, 0.1529446 , 0.87438906, 0.34011338,\n",
       "         0.35626528, 0.22941294, 0.84373678, 0.16851259, 0.24719354,\n",
       "         0.15344933, 0.65960188, 0.1520673 , 0.50595898, 0.33496505,\n",
       "         0.94337905, 1.15467234, 1.97739819, 1.03082664, 0.2881932 ,\n",
       "         0.27561082, 0.45998138, 0.13476844, 0.21799719, 0.41551752,\n",
       "         0.25660448, 2.07872377, 1.49854698, 0.68429448, 0.20781881,\n",
       "         0.40371545, 0.31518878, 1.08249615, 0.19439839, 0.68517967,\n",
       "         0.54055   , 0.23545956, 0.23273331, 0.25588212, 0.2692915 ,\n",
       "         0.27640684, 0.46136494, 0.28256311, 0.14552456, 0.24918281,\n",
       "         1.33192897, 0.35837203, 2.17497879, 0.57403461, 0.64067392,\n",
       "         0.26677428, 1.73284118, 0.25754676, 0.65884175, 0.43334246,\n",
       "         2.44438659, 0.72287916, 0.39294539, 0.26789978, 0.21475064,\n",
       "         0.17121381, 0.22690552, 0.90476895, 0.23879244, 0.13075781,\n",
       "         2.31825243, 0.28177233, 0.76112398, 0.12480676, 0.98252114,\n",
       "         0.23464233, 0.16810578, 0.8473127 , 1.74082252, 0.52791962,\n",
       "         0.21436444, 3.25252871, 0.55200664, 0.36520867, 0.17704063,\n",
       "         0.51985543, 0.95582667, 0.44665459, 0.3155276 , 0.17704063,\n",
       "         0.47759215, 1.13038109, 0.48752607, 0.18692755, 0.69774493,\n",
       "         0.28837587, 0.86268546, 0.34677261, 0.54641739, 0.11940079,\n",
       "         0.47153185, 0.73069401, 0.10913988, 0.25309299, 0.26396187,\n",
       "         1.44817045, 0.49577823, 0.13500235, 0.8905432 , 4.4834148 ,\n",
       "         0.18764291, 0.3725457 , 0.42229088, 0.38763535, 0.2096928 ,\n",
       "         0.22951414, 0.32706704, 1.75995913, 0.31347266, 0.39152155,\n",
       "         0.14853447, 0.16400906, 0.11113505, 0.1468119 , 0.20358404,\n",
       "         0.23630353, 0.10615662, 0.77109135, 0.14588291, 0.39965056,\n",
       "         0.08505241, 0.82410244, 1.49802217, 0.42987139, 1.1348294 ,\n",
       "         0.80481417, 0.41709477, 1.7876375 , 0.50598646, 1.88631295,\n",
       "         0.57205937, 0.22989103, 0.63136201, 0.42090801, 0.15407239,\n",
       "         1.07288901, 0.22477354, 0.67237984, 0.15738658, 0.20219484,\n",
       "         1.13635135, 0.13075781, 0.14552456, 0.18258631, 0.61412104,\n",
       "         0.64429355, 0.51182465, 0.71739046, 0.29894352, 0.26584433,\n",
       "         0.29482473, 0.14810701, 0.9578344 , 1.34134013, 0.5967651 ,\n",
       "         0.11197297, 0.59964156, 0.34724691, 0.12082266, 0.32475344,\n",
       "         0.28481288, 0.37101104, 0.32439108, 0.22473997, 0.24403389,\n",
       "         0.20784317, 3.13698838, 1.54191719, 0.49907369, 0.30261143,\n",
       "         0.39519097, 0.31516083, 0.20348375, 0.37460299, 0.65034074,\n",
       "         0.19286986, 0.17002464, 1.1807457 , 0.11722417, 0.49402824,\n",
       "         0.41704033, 0.59390745, 0.26947331, 0.86535088, 3.06772634,\n",
       "         0.20856779, 0.10521725, 0.75146018, 6.71166195, 1.74554075,\n",
       "         0.1468119 , 0.44307669, 0.12480676, 0.26537332, 0.63018467,\n",
       "         0.27990076, 0.74361674, 0.69409609, 0.96793932, 0.69668981,\n",
       "         0.11250359, 0.21570345, 0.09964013, 0.12764859, 0.1468119 ,\n",
       "         0.37773536, 2.21975065, 0.31916059, 0.29176581, 1.23620997,\n",
       "         5.82916205, 0.13500235, 0.44045514, 4.62891671, 4.44817239,\n",
       "         1.43029642, 0.15326068, 0.16400906, 0.42725289, 0.83400749,\n",
       "         1.14113106, 0.23491293, 0.15290147, 0.84502184, 0.12490035,\n",
       "         0.26481022, 0.48363744, 0.33486404, 0.53016061, 0.8115353 ,\n",
       "         0.14515988, 0.24721263, 0.2447855 , 0.18161695, 0.25134271,\n",
       "         0.12359343, 0.14433639, 0.12764859, 0.25407434, 0.99324883,\n",
       "         0.21752032, 0.83237683, 0.48705945, 0.28481288, 0.18987525,\n",
       "         0.98072081, 0.29324448, 0.30312594, 0.31031169, 1.28677283,\n",
       "         0.91226949, 0.8433026 , 0.16773242, 0.29518337, 2.68473823,\n",
       "         0.4615312 , 1.74516762, 0.36055362, 0.13075781, 0.19485207,\n",
       "         0.7906439 , 0.59275444, 1.37854578, 2.34463698, 0.32330742,\n",
       "         0.33927272, 1.3589487 , 1.22127095, 3.71324238, 0.56991762,\n",
       "         0.21653176, 1.50068567, 0.10341734, 0.15668141, 0.40215086,\n",
       "         0.11144979, 0.20856615, 0.33052202, 0.09332289, 0.49542776,\n",
       "         3.4230395 , 1.26006435, 1.18295599, 0.25538408, 0.82196365,\n",
       "         0.36847359, 0.25045029, 3.49036065, 1.55409882, 1.73590987,\n",
       "         0.13075781, 0.26771486, 0.88571945, 0.15738658, 0.10521725,\n",
       "         1.11689943, 0.44191304, 0.14552456, 0.64848905, 1.17650961,\n",
       "         0.41411424, 0.22934688, 1.04048196, 1.01074353, 0.08598482,\n",
       "         0.79462341, 0.17745468, 0.56212637, 0.64701105, 0.44644371,\n",
       "         0.39175593, 0.33725106, 0.93282574, 0.22934688, 0.81199589,\n",
       "         0.30410707, 0.35408126, 0.1717585 , 0.13734468, 0.11940079,\n",
       "         0.46603087, 0.23702629, 0.48705945, 0.1468119 , 0.18583383,\n",
       "         0.24417031, 0.11327218, 0.35002939, 0.27305181, 0.11148759,\n",
       "         0.44878777, 1.77761883, 0.6771497 , 0.38878875, 0.79015789,\n",
       "         0.30329227, 0.34272672, 0.26521003, 1.14249307, 0.21395408,\n",
       "         0.12213782, 0.21959214, 0.15761366, 0.30157698, 0.23940352,\n",
       "         0.25552444, 0.79515923, 0.1468119 , 0.14269747, 0.16147031,\n",
       "         0.30962312, 0.11493213, 0.22618123, 0.06539384, 0.19943269,\n",
       "         1.92968724, 0.68329928, 0.31775955, 0.4721396 , 0.41706607,\n",
       "         0.72969355, 1.31166541, 1.13453893, 0.91044241, 0.33586213,\n",
       "         0.13904519, 1.36083178, 0.47173634, 0.20864585, 0.8256132 ,\n",
       "         0.64078539, 0.12990138, 0.24395347, 0.60573808, 0.10521725,\n",
       "         0.21309173, 0.31223983, 0.27260627, 0.20949476, 0.67353837,\n",
       "         0.5425341 , 0.14862648, 1.95256028, 0.32804507, 0.17179941,\n",
       "         0.84356787, 0.36939164, 1.00090594, 0.65614151, 0.49792658,\n",
       "         0.52878168, 2.58997989, 0.72274653, 0.12082266, 0.23433292,\n",
       "         0.25387875, 0.3006187 , 0.67310117, 0.11805691, 0.14260744,\n",
       "         0.31370866, 0.94419167, 0.341862  , 0.20779353, 1.52243459,\n",
       "         0.36460762, 0.19445078, 0.36320994, 0.10460618, 1.22703734,\n",
       "         0.33129729, 0.42880995, 0.6921474 , 0.59818116, 0.75826443,\n",
       "         0.17748143, 0.83988837, 0.19929527, 0.1089312 , 0.71379762,\n",
       "         0.28160365, 0.8236066 , 0.64445561, 2.29285219, 0.36494853,\n",
       "         0.13949492, 0.46015078, 0.39152155, 0.60844214, 0.13949492,\n",
       "         0.66428652, 0.24601359, 0.14607695, 0.30214904, 0.97948087,\n",
       "         0.62713599, 2.71742568, 0.18987525, 0.76391799, 3.8069612 ,\n",
       "         1.06871206, 0.37696445, 0.09897786, 0.11250359, 2.28782475,\n",
       "         0.56095036, 0.15150834, 0.30191134, 0.19319523, 0.36837965,\n",
       "         0.14770763, 0.70451789, 0.81117109, 0.13657407, 2.08949775,\n",
       "         0.95336638, 0.320435  , 1.91623079, 0.32367937, 0.79004929,\n",
       "         0.14755868, 0.18260619, 0.29569217, 0.69501031, 0.68264125,\n",
       "         0.29964423, 4.00106537, 4.96893324, 0.88029243, 0.21827976,\n",
       "         0.35187719, 0.14588291, 0.77180398, 0.74772735, 0.11960671,\n",
       "         3.12632648, 0.33536148, 0.20143533, 0.73667436, 7.73383471,\n",
       "         0.14321971, 0.17859908, 0.42128147, 0.1468119 , 0.24146136,\n",
       "         0.63618912, 0.11603062, 0.10593108, 0.09487523, 0.82110964,\n",
       "         1.13033441, 0.15134843, 0.18869454, 0.10876016, 0.13090489,\n",
       "         0.3419122 , 0.16934449, 0.21882436, 0.20646368, 0.33319644,\n",
       "         0.48913657, 0.2905686 , 0.04948434, 0.23066085, 0.11402768,\n",
       "         0.32801812, 0.27802689, 0.57573939, 0.46152496, 0.3274112 ,\n",
       "         0.12010876, 0.57433011, 0.19424854, 0.18569007, 0.42658543,\n",
       "         0.292892  , 0.12359343, 0.21925048, 0.72862875, 0.23837354,\n",
       "         0.67557021, 0.15344933, 0.06955103, 0.20338645, 0.06955103,\n",
       "         0.35143913, 0.15668141, 0.09493763, 0.10042689, 0.14830219,\n",
       "         0.10471557, 0.10776914, 1.71553538, 0.1077177 , 0.68376371,\n",
       "         0.30086293, 0.26496232, 0.27716407, 0.13722073, 0.37258402,\n",
       "         0.14933199, 2.3194479 , 0.09042235, 0.12984921, 1.34314323,\n",
       "         0.07666356, 0.32896884, 0.37179214, 0.13607757, 0.26577474,\n",
       "         0.09921499, 0.10471557, 0.56994969, 0.47041706, 0.15011722,\n",
       "         0.17704063, 0.22284937, 1.87437777, 0.08326334, 0.91490892,\n",
       "         0.13598305, 0.08914237, 0.61951712, 0.26591862, 0.27126705,\n",
       "         2.33491493, 0.10521725, 0.25387875, 0.61729924, 4.43304356,\n",
       "         3.8093187 , 2.17200336, 0.25271319, 0.35183556, 0.31177429,\n",
       "         1.35425903, 1.77199512, 1.49007012, 1.74470144, 0.16627208,\n",
       "         0.22232591, 0.1856658 , 0.49716813, 0.38166829, 3.91397706,\n",
       "         0.13719569, 1.36856081, 0.58027113, 0.21782489, 0.30753601,\n",
       "         0.38541343, 0.42228282, 0.65488221, 0.24925066, 0.59861543,\n",
       "         0.12764859, 0.23936816, 0.59350303, 0.14750824, 0.22992097,\n",
       "         0.13075781, 0.65113717, 0.30157707, 0.35515642, 0.35946564,\n",
       "         0.51059017, 0.29176581, 1.77441189, 0.16652667, 0.15660862,\n",
       "         0.11204531, 0.20360576, 1.54103947, 0.6917066 , 0.17437513,\n",
       "         1.03216691, 0.20209275, 0.24427564, 0.07368826, 0.21879597,\n",
       "         0.15747719, 0.15332713, 0.89948916, 0.36397481, 0.19140602,\n",
       "         0.55257535, 0.32598729, 0.49674034, 0.44094334, 0.84008636,\n",
       "         0.26630654, 0.24746107, 0.50553777, 0.14283592, 0.22989893,\n",
       "         0.26079243, 3.98893096, 0.23471489, 3.64170005, 0.35085891,\n",
       "         0.60743069, 0.67198814, 0.73649173, 0.1468119 , 0.24561051,\n",
       "         0.29921469, 0.21289169]])"
      ]
     },
     "execution_count": 83,
     "metadata": {},
     "output_type": "execute_result"
    }
   ],
   "source": [
    "cluster1 = model.get_submatrix(X, 1)\n",
    "p = cluster1.sum(0)\n",
    "p"
   ]
  },
  {
   "cell_type": "code",
   "execution_count": 85,
   "metadata": {},
   "outputs": [],
   "source": [
    "def plot_cluster_deseases_terms(X, all_terms, deseases_per_cluster):\n",
    "    pass\n",
    "    "
   ]
  },
  {
   "cell_type": "code",
   "execution_count": 86,
   "metadata": {},
   "outputs": [],
   "source": [
    "#plot_cluster_deseases_terms(X, all_terms_tfidf, deseases_per_cluster, model)"
   ]
  },
  {
   "cell_type": "markdown",
   "metadata": {
    "id": "yaUiP7VlvIB4"
   },
   "source": [
    "### Compute spectral co-clustering with the CoclustSpecMod approach "
   ]
  },
  {
   "cell_type": "code",
   "execution_count": 87,
   "metadata": {
    "id": "_swhcHk_p_82"
   },
   "outputs": [
    {
     "name": "stderr",
     "output_type": "stream",
     "text": [
      "/home/kamel/.local/lib/python3.8/site-packages/sklearn/utils/validation.py:593: FutureWarning: np.matrix usage is deprecated in 1.0 and will raise a TypeError in 1.2. Please convert to a numpy array with np.asarray. For more information see: https://numpy.org/doc/stable/reference/generated/numpy.matrix.html\n",
      "  warnings.warn(\n"
     ]
    }
   ],
   "source": [
    "# ** Compute spectral co-clustering with the CoclustSpecMod approach **\n",
    "\n",
    "n_clusters = model.n_clusters\n",
    "# Perform co-clustering\n",
    "coclust_specMod_model = CoclustSpecMod(n_clusters=3, random_state=0)\n",
    "coclust_specMod_model.fit(X)"
   ]
  },
  {
   "cell_type": "markdown",
   "metadata": {
    "id": "v_0MB7oLyh2Y"
   },
   "source": [
    "problem RAM si bcp d'articles"
   ]
  },
  {
   "cell_type": "code",
   "execution_count": 88,
   "metadata": {
    "id": "QCFaNwMWqOh7"
   },
   "outputs": [
    {
     "data": {
      "image/png": "[encoded data removed]",
      "text/plain": [
       "<Figure size 720x576 with 1 Axes>"
      ]
     },
     "metadata": {},
     "output_type": "display_data"
    }
   ],
   "source": [
    "# ** Plot top terms for each cluster and the cluster sizes **\n",
    "\n",
    "n_terms = 10\n",
    "\n",
    "# --> top terms\n",
    "#plot_cluster_top_terms(X, all_terms_tfidf, n_terms, coclust_specMod_model)\n",
    "# --> cluster sizes\n",
    "plot_cluster_sizes(coclust_specMod_model)"
   ]
  },
  {
   "cell_type": "code",
   "execution_count": 89,
   "metadata": {},
   "outputs": [],
   "source": [
    "# > 2 co-cluster ca renvoie une err"
   ]
  },
  {
   "cell_type": "code",
   "execution_count": 90,
   "metadata": {},
   "outputs": [
    {
     "data": {
      "text/plain": [
       "4096"
      ]
     },
     "execution_count": 90,
     "metadata": {},
     "output_type": "execute_result"
    }
   ],
   "source": [
    "len(all_terms_tfidf)"
   ]
  },
  {
   "cell_type": "markdown",
   "metadata": {
    "id": "wyYX8YfCvOkU"
   },
   "source": [
    "### Compute spectral co-clustering with the CoclustInfo approach "
   ]
  },
  {
   "cell_type": "code",
   "execution_count": 91,
   "metadata": {
    "id": "bZyVmBiGqPNY"
   },
   "outputs": [
    {
     "data": {
      "text/plain": [
       "CoclustInfo(n_col_clusters=7, n_init=2, n_row_clusters=7, random_state=0)"
      ]
     },
     "execution_count": 91,
     "metadata": {},
     "output_type": "execute_result"
    }
   ],
   "source": [
    "# ** Compute co-clustering with the CoclustInfo approach **\n",
    "\n",
    "n_clusters = model.n_clusters\n",
    "n_rand_init = 2\n",
    "# Perform co-clustering\n",
    "coclust_info_model = CoclustInfo(n_row_clusters = n_clusters, n_col_clusters = n_clusters,\n",
    "                                 n_init = n_rand_init, random_state = 0)\n",
    "coclust_info_model.fit(X)"
   ]
  },
  {
   "cell_type": "code",
   "execution_count": null,
   "metadata": {},
   "outputs": [],
   "source": []
  },
  {
   "cell_type": "code",
   "execution_count": 95,
   "metadata": {},
   "outputs": [],
   "source": [
    "from sklearn.preprocessing import normalize\n",
    "def get_term_graph_2(X, model, terms, n_cluster, n_top_terms=10, n_neighbors=2,\n",
    "                   stopwords=[]):\n",
    "    \"\"\"Get a graph of terms.\n",
    "\n",
    "    Parameters\n",
    "    ----------\n",
    "    X:\n",
    "        input matrix\n",
    "    model: :class:`coclust.coclustering.BaseDiagonalCoclust`\n",
    "        a co-clustering model\n",
    "    terms: list of string\n",
    "        list of terms\n",
    "    n_cluster: int\n",
    "        Id of the cluster\n",
    "    n_top_terms: int, optional, default: 10\n",
    "        Number of terms\n",
    "    n_neighbors: int, optional, default: 2\n",
    "        Number of neighbors\n",
    "    stopwords: list of string, optional, default: []\n",
    "        Words to remove\n",
    "\n",
    "    \"\"\"\n",
    "\n",
    "    # The dictionary to be returned\n",
    "    graph = {\"nodes\": [], \"links\": []}\n",
    "\n",
    "    if terms is None:\n",
    "        logger.warning(\"Term labels cannot be found. Use input argument \"\n",
    "                       \"'term_labels_filepath' in function \"\n",
    "                       \"'load_doc_term_data' if term labels are available.\")\n",
    "        return graph\n",
    "    factors = [\"age\",\"factor\",\"severe\",\"severity\"]\n",
    "    index_list = []\n",
    "    for i in factors:\n",
    "        index_list.append(terms.index(i))\n",
    "        \n",
    "    # get submatrix and local kist of terms\n",
    "    row_indices, col_indices = model.get_indices(n_cluster)\n",
    "    cluster = model.get_submatrix(X, n_cluster)\n",
    "    terms = np.array(terms)[col_indices]\n",
    "\n",
    "    # identify most frequent words\n",
    "    p = cluster.sum(0)\n",
    "    t = p.getA().flatten()\n",
    "    top_term_indices = index_list\n",
    "\n",
    "    # create tt sim matrix\n",
    "    cluster_norm = normalize(cluster, norm='l2', axis=0, copy=True)\n",
    "    sim = cluster_norm.T * cluster_norm\n",
    "\n",
    "    # to be able to compute the final index of a neighbor which is also a\n",
    "    # top term\n",
    "    d = {t: i for i, t in enumerate(top_term_indices)}\n",
    "\n",
    "    # identify best neighbors of frequent terms\n",
    "    pointed_by = dict()\n",
    "    graph = {\"nodes\": [], \"links\": []}\n",
    "    all_neighbors = set()\n",
    "    links = []\n",
    "    for idx_tt, t in enumerate(top_term_indices):\n",
    "        best_neighbors = np.argsort(sim.toarray()[t])[::-1][:n_neighbors]\n",
    "        for n in best_neighbors:\n",
    "            if len(stopwords) > 0:\n",
    "                if terms[n] in stopwords:\n",
    "                    continue\n",
    "            if (terms[n].endswith(\"ed\") or terms[n].endswith(\"ing\") or\n",
    "                    terms[n].endswith(\"ly\")):\n",
    "                continue\n",
    "\n",
    "            # if  terms[dico_tt[n]].lower() in stopwords: continue\n",
    "            if t == n:\n",
    "                continue\n",
    "            if n in top_term_indices and t in pointed_by.get(n, []):\n",
    "                # t was already pointed by n\n",
    "                continue\n",
    "            if n in top_term_indices:\n",
    "                # n will be able to check that is has been pointed by t\n",
    "                pointed_by.setdefault(t, []).append(n)\n",
    "            else:\n",
    "                # a \"pure\" neighbor\n",
    "                all_neighbors.add(n)\n",
    "            if n in top_term_indices:\n",
    "                # n is a (not yet handled) top term. Lookup in dictionary to\n",
    "                # find the d3 index.\n",
    "                # Also record original indices using couples.\n",
    "                links.append(((idx_tt, t), (d[n], n)))\n",
    "            else:\n",
    "                # n is a pure neighbor. Compute its d3 index by an addition\n",
    "                # use indices suitable for d3 links\n",
    "                links.append(((idx_tt, t),\n",
    "                              (len(top_term_indices) + len(all_neighbors) - 1,\n",
    "                               n)))\n",
    "\n",
    "    for top_term in top_term_indices:\n",
    "        graph[\"nodes\"].append({\"name\": terms[top_term], \"group\": 0})\n",
    "\n",
    "    for neighbor in all_neighbors:\n",
    "        graph[\"nodes\"].append({\"name\": terms[neighbor], \"group\": 1})\n",
    "\n",
    "    for a, b in links:\n",
    "        graph[\"links\"].append({\"source\": a[0],\n",
    "                               \"target\": b[0],\n",
    "                               \"value\": sim[a[1], b[1]]})\n",
    "    return graph"
   ]
  },
  {
   "cell_type": "code",
   "execution_count": 96,
   "metadata": {},
   "outputs": [
    {
     "ename": "IndexError",
     "evalue": "index 1421 is out of bounds for axis 0 with size 857",
     "output_type": "error",
     "traceback": [
      "\u001b[0;31m---------------------------------------------------------------------------\u001b[0m",
      "\u001b[0;31mIndexError\u001b[0m                                Traceback (most recent call last)",
      "\u001b[0;32m<ipython-input-96-bd62f6d7516d>\u001b[0m in \u001b[0;36m<module>\u001b[0;34m\u001b[0m\n\u001b[0;32m----> 1\u001b[0;31m \u001b[0mgraph2\u001b[0m \u001b[0;34m=\u001b[0m \u001b[0mget_term_graph_2\u001b[0m\u001b[0;34m(\u001b[0m\u001b[0mX\u001b[0m\u001b[0;34m,\u001b[0m\u001b[0mmodel\u001b[0m\u001b[0;34m,\u001b[0m \u001b[0mall_terms_tfidf\u001b[0m\u001b[0;34m,\u001b[0m \u001b[0;36m1\u001b[0m\u001b[0;34m,\u001b[0m \u001b[0;36m10\u001b[0m\u001b[0;34m,\u001b[0m \u001b[0;36m5\u001b[0m\u001b[0;34m)\u001b[0m\u001b[0;34m\u001b[0m\u001b[0;34m\u001b[0m\u001b[0m\n\u001b[0m",
      "\u001b[0;32m<ipython-input-95-07cde56516b4>\u001b[0m in \u001b[0;36mget_term_graph_2\u001b[0;34m(X, model, terms, n_cluster, n_top_terms, n_neighbors, stopwords)\u001b[0m\n\u001b[1;32m     60\u001b[0m     \u001b[0mlinks\u001b[0m \u001b[0;34m=\u001b[0m \u001b[0;34m[\u001b[0m\u001b[0;34m]\u001b[0m\u001b[0;34m\u001b[0m\u001b[0;34m\u001b[0m\u001b[0m\n\u001b[1;32m     61\u001b[0m     \u001b[0;32mfor\u001b[0m \u001b[0midx_tt\u001b[0m\u001b[0;34m,\u001b[0m \u001b[0mt\u001b[0m \u001b[0;32min\u001b[0m \u001b[0menumerate\u001b[0m\u001b[0;34m(\u001b[0m\u001b[0mtop_term_indices\u001b[0m\u001b[0;34m)\u001b[0m\u001b[0;34m:\u001b[0m\u001b[0;34m\u001b[0m\u001b[0;34m\u001b[0m\u001b[0m\n\u001b[0;32m---> 62\u001b[0;31m         \u001b[0mbest_neighbors\u001b[0m \u001b[0;34m=\u001b[0m \u001b[0mnp\u001b[0m\u001b[0;34m.\u001b[0m\u001b[0margsort\u001b[0m\u001b[0;34m(\u001b[0m\u001b[0msim\u001b[0m\u001b[0;34m.\u001b[0m\u001b[0mtoarray\u001b[0m\u001b[0;34m(\u001b[0m\u001b[0;34m)\u001b[0m\u001b[0;34m[\u001b[0m\u001b[0mt\u001b[0m\u001b[0;34m]\u001b[0m\u001b[0;34m)\u001b[0m\u001b[0;34m[\u001b[0m\u001b[0;34m:\u001b[0m\u001b[0;34m:\u001b[0m\u001b[0;34m-\u001b[0m\u001b[0;36m1\u001b[0m\u001b[0;34m]\u001b[0m\u001b[0;34m[\u001b[0m\u001b[0;34m:\u001b[0m\u001b[0mn_neighbors\u001b[0m\u001b[0;34m]\u001b[0m\u001b[0;34m\u001b[0m\u001b[0;34m\u001b[0m\u001b[0m\n\u001b[0m\u001b[1;32m     63\u001b[0m         \u001b[0;32mfor\u001b[0m \u001b[0mn\u001b[0m \u001b[0;32min\u001b[0m \u001b[0mbest_neighbors\u001b[0m\u001b[0;34m:\u001b[0m\u001b[0;34m\u001b[0m\u001b[0;34m\u001b[0m\u001b[0m\n\u001b[1;32m     64\u001b[0m             \u001b[0;32mif\u001b[0m \u001b[0mlen\u001b[0m\u001b[0;34m(\u001b[0m\u001b[0mstopwords\u001b[0m\u001b[0;34m)\u001b[0m \u001b[0;34m>\u001b[0m \u001b[0;36m0\u001b[0m\u001b[0;34m:\u001b[0m\u001b[0;34m\u001b[0m\u001b[0;34m\u001b[0m\u001b[0m\n",
      "\u001b[0;31mIndexError\u001b[0m: index 1421 is out of bounds for axis 0 with size 857"
     ]
    }
   ],
   "source": [
    "graph2 = get_term_graph_2(X,model, all_terms_tfidf, 1, 10, 5)"
   ]
  },
  {
   "cell_type": "code",
   "execution_count": 97,
   "metadata": {},
   "outputs": [],
   "source": [
    "graph = get_term_graph(X,model, all_terms_tfidf, 0, 30, 5)"
   ]
  },
  {
   "cell_type": "code",
   "execution_count": 98,
   "metadata": {
    "colab": {
     "base_uri": "https://localhost:8080/",
     "height": 17
    },
    "id": "VIudim2rp1ii",
    "outputId": "2b53eefb-77a8-41cc-db70-dc4a341340ff"
   },
   "outputs": [
    {
     "data": {
      "application/javascript": [
       "require.config({\n",
       "  paths: {\n",
       "      d3: '//cdnjs.cloudflare.com/ajax/libs/d3/3.4.8/d3.min'\n",
       "  }\n",
       "});\n"
      ],
      "text/plain": [
       "<IPython.core.display.Javascript object>"
      ]
     },
     "metadata": {},
     "output_type": "display_data"
    }
   ],
   "source": [
    "%%javascript\n",
    "require.config({\n",
    "  paths: {\n",
    "      d3: '//cdnjs.cloudflare.com/ajax/libs/d3/3.4.8/d3.min'\n",
    "  }\n",
    "});\n"
   ]
  },
  {
   "cell_type": "code",
   "execution_count": 99,
   "metadata": {
    "colab": {
     "base_uri": "https://localhost:8080/",
     "height": 17
    },
    "id": "thW3FvTXp3i5",
    "outputId": "e3c943ee-2e38-47db-aa42-2f3e930080d5"
   },
   "outputs": [
    {
     "data": {
      "application/javascript": [
       "\n",
       "           window.graph={'nodes': [{'name': 'covid', 'group': 0}, {'name': 'vitamin', 'group': 0}, {'name': 'diabetes', 'group': 0}, {'name': 'increase', 'group': 0}, {'name': 'severity', 'group': 0}, {'name': 'individual', 'group': 0}, {'name': 'review', 'group': 0}, {'name': 'pandemic', 'group': 0}, {'name': 'link', 'group': 0}, {'name': 'course', 'group': 0}, {'name': 'treatment', 'group': 0}, {'name': 'antibody', 'group': 0}, {'name': 'datum', 'group': 0}, {'name': 'prevalence', 'group': 0}, {'name': 'nutrition', 'group': 0}, {'name': 'hypertension', 'group': 0}, {'name': 'important', 'group': 0}, {'name': 'management', 'group': 0}, {'name': 'nutritional', 'group': 0}, {'name': 'diabete', 'group': 0}, {'name': 'status', 'group': 0}, {'name': 'chronic', 'group': 0}, {'name': 'show', 'group': 0}, {'name': 'fatality', 'group': 0}, {'name': 'control', 'group': 0}, {'name': 'country', 'group': 0}, {'name': 'pituitary', 'group': 0}, {'name': 'deficiency', 'group': 0}, {'name': 'prognosis', 'group': 0}, {'name': 'vaccine', 'group': 0}, {'name': 'micronutrient', 'group': 1}, {'name': 'accurate', 'group': 1}, {'name': 'neutralization', 'group': 1}, {'name': 'strict', 'group': 1}, {'name': 'evaluation', 'group': 1}, {'name': 'antidiabetic', 'group': 1}, {'name': 'supplementation', 'group': 1}, {'name': 'observe', 'group': 1}, {'name': 'oncological', 'group': 1}, {'name': 'assure', 'group': 1}, {'name': 'tau', 'group': 1}, {'name': 'field', 'group': 1}, {'name': 'today', 'group': 1}, {'name': 'trace', 'group': 1}, {'name': 'frail', 'group': 1}, {'name': 'fracture', 'group': 1}, {'name': 'pair', 'group': 1}, {'name': 'peptidase', 'group': 1}, {'name': 'global', 'group': 1}, {'name': 'persist', 'group': 1}, {'name': 'glycaemic', 'group': 1}, {'name': 'glycemic', 'group': 1}, {'name': 'uneven', 'group': 1}, {'name': 'good', 'group': 1}, {'name': 'gland', 'group': 1}, {'name': 'chadox', 'group': 1}, {'name': 'practical', 'group': 1}, {'name': 'vertebral', 'group': 1}, {'name': 'probability', 'group': 1}, {'name': 'concern', 'group': 1}, {'name': 'prophylactic', 'group': 1}, {'name': 'importance', 'group': 1}, {'name': 'controversial', 'group': 1}, {'name': 'convalescent', 'group': 1}, {'name': 'rbd', 'group': 1}, {'name': 'cvd', 'group': 1}, {'name': 'injection', 'group': 1}, {'name': 'database', 'group': 1}, {'name': 'integral', 'group': 1}, {'name': 'deficient', 'group': 1}, {'name': 'deficit', 'group': 1}, {'name': 'density', 'group': 1}, {'name': 'romanian', 'group': 1}, {'name': 'scarce', 'group': 1}, {'name': 'direct', 'group': 1}, {'name': 'latitude', 'group': 1}, {'name': 'sector', 'group': 1}, {'name': 'diverge', 'group': 1}, {'name': 'linkage', 'group': 1}, {'name': 'domain', 'group': 1}, {'name': 'dpp', 'group': 1}, {'name': 'liter', 'group': 1}, {'name': 'serologic', 'group': 1}, {'name': 'mention', 'group': 1}, {'name': 'element', 'group': 1}, {'name': 'email', 'group': 1}], 'links': [{'source': 0, 'target': 4, 'value': 0.7208033641038176}, {'source': 0, 'target': 6, 'value': 0.6558366291060563}, {'source': 0, 'target': 3, 'value': 0.6330524074889171}, {'source': 0, 'target': 7, 'value': 0.6203664859225976}, {'source': 1, 'target': 27, 'value': 0.8811137685857112}, {'source': 1, 'target': 30, 'value': 0.7842520760743641}, {'source': 1, 'target': 31, 'value': 0.578604581223163}, {'source': 1, 'target': 32, 'value': 0.4731792676399244}, {'source': 2, 'target': 19, 'value': 0.6705323413153599}, {'source': 2, 'target': 17, 'value': 0.576388639046617}, {'source': 2, 'target': 0, 'value': 0.575861723630486}, {'source': 2, 'target': 33, 'value': 0.5757452233033075}, {'source': 3, 'target': 4, 'value': 0.5056639635470643}, {'source': 3, 'target': 5, 'value': 0.4767765396102777}, {'source': 4, 'target': 7, 'value': 0.5424769127450149}, {'source': 4, 'target': 15, 'value': 0.5212678493451616}, {'source': 5, 'target': 34, 'value': 0.7779027314271071}, {'source': 5, 'target': 35, 'value': 0.6082721001538194}, {'source': 5, 'target': 36, 'value': 0.6023762856010401}, {'source': 5, 'target': 37, 'value': 0.6023762856010401}, {'source': 6, 'target': 7, 'value': 0.5740768267142266}, {'source': 6, 'target': 4, 'value': 0.4680904537534552}, {'source': 6, 'target': 22, 'value': 0.4661471381505618}, {'source': 7, 'target': 38, 'value': 0.5248606905527031}, {'source': 8, 'target': 39, 'value': 0.5158630715144313}, {'source': 8, 'target': 40, 'value': 0.47018384052897644}, {'source': 8, 'target': 2, 'value': 0.4599977728892182}, {'source': 9, 'target': 41, 'value': 0.5475809510985774}, {'source': 9, 'target': 42, 'value': 0.48754699837893495}, {'source': 9, 'target': 43, 'value': 0.46433478311713977}, {'source': 9, 'target': 44, 'value': 0.46433478311713977}, {'source': 10, 'target': 0, 'value': 0.48940995438621787}, {'source': 10, 'target': 45, 'value': 0.4773211523188478}, {'source': 11, 'target': 46, 'value': 0.8133702835881272}, {'source': 11, 'target': 47, 'value': 0.7601355497316094}, {'source': 11, 'target': 48, 'value': 0.7250051959864996}, {'source': 11, 'target': 49, 'value': 0.6099857797511362}, {'source': 12, 'target': 0, 'value': 0.4854736299087998}, {'source': 12, 'target': 50, 'value': 0.4601793961735018}, {'source': 12, 'target': 51, 'value': 0.45443126271211615}, {'source': 12, 'target': 52, 'value': 0.4521185318426243}, {'source': 13, 'target': 22, 'value': 0.569452511512714}, {'source': 13, 'target': 0, 'value': 0.5327301296961989}, {'source': 13, 'target': 53, 'value': 0.5227132304830475}, {'source': 13, 'target': 25, 'value': 0.5082456740855104}, {'source': 14, 'target': 54, 'value': 0.8111108126831071}, {'source': 14, 'target': 55, 'value': 0.7606827700791736}, {'source': 14, 'target': 56, 'value': 0.6306141374451273}, {'source': 15, 'target': 0, 'value': 0.5225272060902133}, {'source': 15, 'target': 21, 'value': 0.5201731324372841}, {'source': 15, 'target': 57, 'value': 0.4891288375896257}, {'source': 16, 'target': 58, 'value': 0.47032116216308095}, {'source': 16, 'target': 2, 'value': 0.41688764295066605}, {'source': 16, 'target': 59, 'value': 0.3993203404350549}, {'source': 16, 'target': 60, 'value': 0.39788793465560124}, {'source': 17, 'target': 60, 'value': 0.6512497918395523}, {'source': 17, 'target': 60, 'value': 0.6009812896522804}, {'source': 17, 'target': 61, 'value': 0.527992816192797}, {'source': 18, 'target': 20, 'value': 0.8482613295115589}, {'source': 18, 'target': 62, 'value': 0.6238390499771415}, {'source': 18, 'target': 63, 'value': 0.6238390499771415}, {'source': 18, 'target': 64, 'value': 0.6078349242336806}, {'source': 19, 'target': 65, 'value': 0.5884068431918965}, {'source': 19, 'target': 66, 'value': 0.5180850419688252}, {'source': 20, 'target': 67, 'value': 0.6584629199784382}, {'source': 20, 'target': 67, 'value': 0.6339732545927449}, {'source': 20, 'target': 67, 'value': 0.6339732545927449}, {'source': 21, 'target': 68, 'value': 0.5183364586055509}, {'source': 21, 'target': 0, 'value': 0.48941510034253277}, {'source': 21, 'target': 68, 'value': 0.47687456052610416}, {'source': 22, 'target': 23, 'value': 0.5322438568795816}, {'source': 22, 'target': 25, 'value': 0.5250946545625744}, {'source': 22, 'target': 0, 'value': 0.47123523890305075}, {'source': 23, 'target': 69, 'value': 0.5270403260265084}, {'source': 23, 'target': 70, 'value': 0.5126450700426752}, {'source': 23, 'target': 71, 'value': 0.5126450700426752}, {'source': 24, 'target': 2, 'value': 0.5529235012359016}, {'source': 24, 'target': 71, 'value': 0.5438506956491033}, {'source': 24, 'target': 72, 'value': 0.5162560609709761}, {'source': 24, 'target': 19, 'value': 0.510697122776236}, {'source': 25, 'target': 73, 'value': 0.5721242659947141}, {'source': 25, 'target': 73, 'value': 0.4834174770063542}, {'source': 26, 'target': 74, 'value': 0.9883519628275874}, {'source': 26, 'target': 75, 'value': 0.815735813899348}, {'source': 26, 'target': 76, 'value': 0.815735813899348}, {'source': 27, 'target': 76, 'value': 0.8191657434688867}, {'source': 27, 'target': 76, 'value': 0.7510761288921821}, {'source': 27, 'target': 77, 'value': 0.5710277258440505}, {'source': 28, 'target': 78, 'value': 0.5840586587646002}, {'source': 28, 'target': 79, 'value': 0.5840586587646002}, {'source': 28, 'target': 80, 'value': 0.5840586587646002}, {'source': 28, 'target': 81, 'value': 0.5840586587646002}, {'source': 29, 'target': 82, 'value': 0.7565048749237296}, {'source': 29, 'target': 83, 'value': 0.7565048749237296}, {'source': 29, 'target': 84, 'value': 0.7565048749237296}, {'source': 29, 'target': 85, 'value': 0.7565048749237296}]};\n",
       "           "
      ],
      "text/plain": [
       "<IPython.core.display.Javascript object>"
      ]
     },
     "execution_count": 99,
     "metadata": {},
     "output_type": "execute_result"
    }
   ],
   "source": [
    " from IPython.display import Javascript\n",
    " #runs arbitrary javascript, client-side\n",
    " Javascript(\"\"\"\n",
    "            window.graph={};\n",
    "            \"\"\".format(graph))"
   ]
  },
  {
   "cell_type": "code",
   "execution_count": 100,
   "metadata": {
    "id": "5voMukEdp7Us",
    "scrolled": false
   },
   "outputs": [
    {
     "data": {
      "application/javascript": [
       " require(['d3'], function(d3){\n",
       "   //a weird idempotency thing\n",
       "   $(\"#chart1\").remove();\n",
       "   //create canvas\n",
       "   element.append(\"<div id='chart1'></div>\");\n",
       "   $(\"#chart1\").width(\"1160px\");\n",
       "   $(\"#chart1\").height(\"800px\");        \n",
       "   var margin = {top: 20, right: 20, bottom: 30, left: 40};\n",
       "   var width = 1280 - margin.left - margin.right;\n",
       "   var height = 800 - margin.top - margin.bottom;\n",
       "   var svg = d3.select(\"#chart1\").append(\"svg\")\n",
       "     .style(\"position\", \"relative\")\n",
       "     .style(\"max-width\", \"960px\")\n",
       "     .attr(\"width\", width + \"px\")\n",
       "     .attr(\"height\", (height + 50) + \"px\")\n",
       "     .call(d3.behavior.zoom().on(\"zoom\", redraw))\n",
       "     .append(\"g\")\n",
       "     .attr(\"transform\", \"translate(\" + margin.left + \",\" + margin.top + \")\");\n",
       "    \n",
       "    \n",
       "   function redraw() {\n",
       "       svg.attr(\"transform\",\n",
       "                \"translate(\" + d3.event.translate + \")\"\n",
       "                + \" scale(\" + d3.event.scale + \")\");\n",
       "   }   \n",
       "   var color = d3.scale.category20();\n",
       "   var force = d3.layout.force()\n",
       "     .charge(-500)\n",
       "     //.linkDistance(5)\n",
       "     .linkDistance(function(d) { return (1 - d.value); })\n",
       "     .size([width, height]);\n",
       "   var graph = window.graph;\n",
       "   \n",
       "   force\n",
       "       .nodes(graph.nodes)\n",
       "       .links(graph.links)\n",
       "       .start();\n",
       "\n",
       "   var link = svg.selectAll(\".link\")\n",
       "       .data(graph.links)\n",
       "       .enter().append(\"line\")\n",
       "       .attr(\"class\", \"link\")\n",
       "       .style(\"stroke\", \"#999;\")\n",
       "       .style(\"stroke-opacity\", .6)\n",
       "       .style(\"stroke-width\", function(d) { return Math.sqrt(d.value); })\n",
       " \n",
       "       .style(\"stroke\", \"blue\");\n",
       "   var node = svg.selectAll(\".node\")\n",
       "       .data(graph.nodes)\n",
       "       .enter().append(\"g\")\n",
       "       .attr(\"class\", \"node\")\n",
       "       .call(force.drag);\n",
       "   \n",
       "   node.append(\"circle\")\n",
       "       .attr(\"class\", \"node_circle\")\n",
       "       .attr(\"r\", 8)\n",
       "       .style(\"fill\", function(d) { return color(d.group); });\n",
       "   node.append(\"text\")\n",
       "       .attr(\"class\", \"node_text\")\n",
       "       .attr(\"dx\", 12)\n",
       "       .attr(\"dy\", \".35em\")\n",
       "       .text(function(d) { return d.name });\n",
       "   node.append(\"title\")\n",
       "       .text(function(d) { return d.name; });\n",
       "   var node_text = svg.selectAll(\".node_text\");\n",
       "   var node_circle = svg.selectAll(\".node_circle\");\n",
       "   \n",
       "   force.on(\"tick\", function() {\n",
       "     link.attr(\"x1\", function(d) { return d.source.x; })\n",
       "         .attr(\"y1\", function(d) { return d.source.y; })\n",
       "         .attr(\"x2\", function(d) { return d.target.x; })\n",
       "         .attr(\"y2\", function(d) { return d.target.y; });\n",
       "     node_circle.attr(\"cx\", function(d) { return d.x; })\n",
       "         .attr(\"cy\", function(d) { return d.y; });\n",
       "     \n",
       "     node_text.attr(\"x\", function(d) { return d.x; })\n",
       "         .attr(\"y\", function(d) { return d.y; });\n",
       "   });\n",
       " });\n"
      ],
      "text/plain": [
       "<IPython.core.display.Javascript object>"
      ]
     },
     "metadata": {},
     "output_type": "display_data"
    }
   ],
   "source": [
    "%%javascript\n",
    " require(['d3'], function(d3){\n",
    "   //a weird idempotency thing\n",
    "   $(\"#chart1\").remove();\n",
    "   //create canvas\n",
    "   element.append(\"<div id='chart1'></div>\");\n",
    "   $(\"#chart1\").width(\"1160px\");\n",
    "   $(\"#chart1\").height(\"800px\");        \n",
    "   var margin = {top: 20, right: 20, bottom: 30, left: 40};\n",
    "   var width = 1280 - margin.left - margin.right;\n",
    "   var height = 800 - margin.top - margin.bottom;\n",
    "   var svg = d3.select(\"#chart1\").append(\"svg\")\n",
    "     .style(\"position\", \"relative\")\n",
    "     .style(\"max-width\", \"960px\")\n",
    "     .attr(\"width\", width + \"px\")\n",
    "     .attr(\"height\", (height + 50) + \"px\")\n",
    "     .call(d3.behavior.zoom().on(\"zoom\", redraw))\n",
    "     .append(\"g\")\n",
    "     .attr(\"transform\", \"translate(\" + margin.left + \",\" + margin.top + \")\");\n",
    "    \n",
    "    \n",
    "   function redraw() {\n",
    "       svg.attr(\"transform\",\n",
    "                \"translate(\" + d3.event.translate + \")\"\n",
    "                + \" scale(\" + d3.event.scale + \")\");\n",
    "   }   \n",
    "   var color = d3.scale.category20();\n",
    "   var force = d3.layout.force()\n",
    "     .charge(-500)\n",
    "     //.linkDistance(5)\n",
    "     .linkDistance(function(d) { return (1 - d.value); })\n",
    "     .size([width, height]);\n",
    "   var graph = window.graph;\n",
    "   \n",
    "   force\n",
    "       .nodes(graph.nodes)\n",
    "       .links(graph.links)\n",
    "       .start();\n",
    "\n",
    "   var link = svg.selectAll(\".link\")\n",
    "       .data(graph.links)\n",
    "       .enter().append(\"line\")\n",
    "       .attr(\"class\", \"link\")\n",
    "       .style(\"stroke\", \"#999;\")\n",
    "       .style(\"stroke-opacity\", .6)\n",
    "       .style(\"stroke-width\", function(d) { return Math.sqrt(d.value); })\n",
    " \n",
    "       .style(\"stroke\", \"blue\");\n",
    "   var node = svg.selectAll(\".node\")\n",
    "       .data(graph.nodes)\n",
    "       .enter().append(\"g\")\n",
    "       .attr(\"class\", \"node\")\n",
    "       .call(force.drag);\n",
    "   \n",
    "   node.append(\"circle\")\n",
    "       .attr(\"class\", \"node_circle\")\n",
    "       .attr(\"r\", 8)\n",
    "       .style(\"fill\", function(d) { return color(d.group); });\n",
    "   node.append(\"text\")\n",
    "       .attr(\"class\", \"node_text\")\n",
    "       .attr(\"dx\", 12)\n",
    "       .attr(\"dy\", \".35em\")\n",
    "       .text(function(d) { return d.name });\n",
    "   node.append(\"title\")\n",
    "       .text(function(d) { return d.name; });\n",
    "   var node_text = svg.selectAll(\".node_text\");\n",
    "   var node_circle = svg.selectAll(\".node_circle\");\n",
    "   \n",
    "   force.on(\"tick\", function() {\n",
    "     link.attr(\"x1\", function(d) { return d.source.x; })\n",
    "         .attr(\"y1\", function(d) { return d.source.y; })\n",
    "         .attr(\"x2\", function(d) { return d.target.x; })\n",
    "         .attr(\"y2\", function(d) { return d.target.y; });\n",
    "     node_circle.attr(\"cx\", function(d) { return d.x; })\n",
    "         .attr(\"cy\", function(d) { return d.y; });\n",
    "     \n",
    "     node_text.attr(\"x\", function(d) { return d.x; })\n",
    "         .attr(\"y\", function(d) { return d.y; });\n",
    "   });\n",
    " });"
   ]
  },
  {
   "cell_type": "code",
   "execution_count": null,
   "metadata": {},
   "outputs": [],
   "source": []
  },
  {
   "cell_type": "code",
   "execution_count": null,
   "metadata": {},
   "outputs": [],
   "source": []
  },
  {
   "cell_type": "code",
   "execution_count": null,
   "metadata": {},
   "outputs": [],
   "source": []
  }
 ],
 "metadata": {
  "accelerator": "GPU",
  "colab": {
   "collapsed_sections": [
    "ogpQOKxMeIzn",
    "h5poRtkuGdWn",
    "wyhzey_1GdWq",
    "G4vZi8C1GdWs",
    "ftrYJq7xGdW0",
    "uyanCizrGdW2",
    "eQlh6HQWGdW2",
    "cXlRaj-3GdW3",
    "MFMzbLH4GdW4",
    "0Z6kHFa5GdW7",
    "U-brgMCWewo-",
    "yaUiP7VlvIB4",
    "wyYX8YfCvOkU"
   ],
   "include_colab_link": true,
   "name": "PPD_Fouille_de_texte_pour_lexploration_des_facteurs_de_sévérité_du_COVID19.ipynb",
   "provenance": []
  },
  "kernelspec": {
   "display_name": "Python 3",
   "language": "python",
   "name": "python3"
  },
  "language_info": {
   "codemirror_mode": {
    "name": "ipython",
    "version": 3
   },
   "file_extension": ".py",
   "mimetype": "text/x-python",
   "name": "python",
   "nbconvert_exporter": "python",
   "pygments_lexer": "ipython3",
   "version": "3.8.10"
  }
 },
 "nbformat": 4,
 "nbformat_minor": 1
}
