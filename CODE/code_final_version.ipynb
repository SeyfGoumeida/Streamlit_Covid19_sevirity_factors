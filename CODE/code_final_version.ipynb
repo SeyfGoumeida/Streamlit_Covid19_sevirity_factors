{
 "cells": [
  {
   "cell_type": "markdown",
   "metadata": {
    "colab_type": "text",
    "id": "view-in-github"
   },
   "source": [
    "<a href=\"https://colab.research.google.com/github/Erifai/NLP_TEXT_MINING_COVID_SEVERITY_FACTORS/blob/main/Code_new_version.ipynb\" target=\"_parent\"><img src=\"https://colab.research.google.com/assets/colab-badge.svg\" alt=\"Open In Colab\"/></a>"
   ]
  },
  {
   "cell_type": "markdown",
   "metadata": {
    "id": "wJ5Rg27yGdWd"
   },
   "source": [
    "# COVID-19 Severity Factors"
   ]
  },
  {
   "cell_type": "markdown",
   "metadata": {},
   "source": [
    "### Authors :\n",
    "        - Ryad Lotfi MAHTAL\n",
    "        - Kamel MESBAHI\n",
    "        - Ahmed Seyfeddine GOUMEIDA\n",
    "        - Mohammed Erifai MAAMIR\n",
    "### Supervisors : \n",
    "        - Mme Severine AFFELDT\n",
    "        - Mr Lazhar LABIOD\n",
    "### Objective :\n",
    "        - This project aims first of all to identify the profiles of patients likely to develop a severe form of the cov-19 disease. In parallel to this work, it is also requested to identify the main comorbidities related to COVID19. More precisely, the aim is to identify predictive markers of interest for the severity of the disease"
   ]
  },
  {
   "cell_type": "markdown",
   "metadata": {
    "id": "ogpQOKxMeIzn"
   },
   "source": [
    "## Environnement Preparation"
   ]
  },
  {
   "cell_type": "code",
   "execution_count": 10,
   "metadata": {
    "id": "4M_HY5CFGdWl"
   },
   "outputs": [],
   "source": [
    "import numpy as np # linear algebra\n",
    "import pandas as pd # data processing, CSV file I/O (e.g. pd.read_csv)\n",
    "import glob\n",
    "import json\n",
    "#!pip install Bio\n",
    "import Bio\n",
    "from Bio import Entrez\n",
    "from Bio import Medline\n",
    "#!pip install matplotlib==3.2.0\n",
    "import matplotlib.pyplot as plt\n",
    "plt.style.use('ggplot')\n",
    "#----------------------------------------------\n",
    "#Download the spacy bio parser\n",
    "from IPython.utils import io\n",
    "#with io.capture_output() as captured:\n",
    "#    !pip install https://s3-us-west-2.amazonaws.com/ai2-s2-scispacy/releases/v0.4.0/en_core_sci_lg-0.4.0.tar.gz\n",
    "#----------------------------\n",
    "#import spacy.cli\n",
    "##spacy.cli.download(\"en_core_web_lg\")\n",
    "#import en_core_web_lg\n",
    "#nlp = en_core_web_lg.load()\n",
    "#----------------------------\n",
    "#NLP \n",
    "import spacy\n",
    "from spacy.lang.en.stop_words import STOP_WORDS\n",
    "#import en_core_sci_lg  # model downloaded in previous step\n",
    "#--------------------------------------------------\n",
    "#import nltk\n",
    "#nltk.download('wordnet')\n",
    "#nltk.download('averaged_perceptron_tagger')\n",
    "from nltk.corpus import wordnet\n",
    "from nltk.stem import WordNetLemmatizer\n",
    "from wordcloud import WordCloud\n",
    "#-----------------------------------------------------\n",
    "#!pip install tqdm\n",
    "import tqdm\n",
    "#!pip install langdetect\n",
    "import langdetect\n",
    "from tqdm import tqdm\n",
    "from langdetect import detect\n",
    "from langdetect import DetectorFactory\n",
    "import seaborn as sns"
   ]
  },
  {
   "cell_type": "code",
   "execution_count": 11,
   "metadata": {
    "id": "F8K_cxaskMUF",
    "scrolled": false
   },
   "outputs": [],
   "source": [
    "#%matplotlib inline\n",
    "#!pip install coclust\n",
    "from scipy.io import loadmat\n",
    "from sklearn.metrics import (adjusted_rand_score as ari,\n",
    "                             normalized_mutual_info_score as nmi)\n",
    "#!pip install coclust\n",
    "from coclust.coclustering import (CoclustMod, CoclustSpecMod, CoclustInfo)\n",
    "from coclust.io.data_loading import load_doc_term_data\n",
    "from coclust.evaluation.internal import best_modularity_partition\n",
    "#from coclust.evaluation.external import accuracy\n",
    "from coclust.io.notebook import(input_with_default_int, input_with_default_str)\n",
    "from coclust.visualization import (plot_max_modularities, \n",
    "                                   plot_intermediate_modularities,\n",
    "                                   plot_cluster_top_terms, \n",
    "                                   get_term_graph, \n",
    "                                   plot_cluster_sizes)\n",
    "\n",
    "\n",
    "from coclust.coclustering import CoclustMod\n",
    "from coclust.io.data_loading import load_doc_term_data\n",
    "from coclust.visualization import (plot_reorganized_matrix,\n",
    "                                  plot_cluster_top_terms,\n",
    "                                  plot_max_modularities,\n",
    "                                  get_term_graph,\n",
    "                                  plot_convergence)\n",
    "from coclust.evaluation.internal import best_modularity_partition\n",
    "from coclust.coclustering import CoclustMod\n",
    "import matplotlib.pyplot as plt\n",
    "import numpy as np"
   ]
  },
  {
   "cell_type": "code",
   "execution_count": null,
   "metadata": {
    "id": "3gFH3Z-uGdWm"
   },
   "outputs": [],
   "source": [
    "def get_breaks(content, length):\n",
    "    data = \"\"\n",
    "    words = content.split(' ')\n",
    "    total_chars = 0\n",
    "\n",
    "    # add break every length characters\n",
    "    for i in range(len(words)):\n",
    "        total_chars += len(words[i])\n",
    "        if total_chars > length:\n",
    "            data = data + \"<br>\" + words[i]\n",
    "            total_chars = 0\n",
    "        else:\n",
    "            data = data + \" \" + words[i]\n",
    "    return data"
   ]
  },
  {
   "cell_type": "markdown",
   "metadata": {
    "id": "h5poRtkuGdWn"
   },
   "source": [
    "### Number of articles : "
   ]
  },
  {
   "cell_type": "code",
   "execution_count": null,
   "metadata": {
    "id": "B7dg7LQ8GdWo"
   },
   "outputs": [],
   "source": [
    "max_searchs = 10000\n",
    "terms = \"coronavirus covid covid19 severity hypertension\""
   ]
  },
  {
   "cell_type": "code",
   "execution_count": null,
   "metadata": {
    "colab": {
     "base_uri": "https://localhost:8080/"
    },
    "id": "FYVl_5GdGdWp",
    "outputId": "b4ecd334-9024-4f1a-d1a1-848c8f4ed8b1"
   },
   "outputs": [
    {
     "name": "stdout",
     "output_type": "stream",
     "text": [
      "max_searchs :  10000\n",
      "0  100  200  300  400  500  600  700  800  900  1000  1100  1200  1300  1400  1500  1600  1700  1800  1900  2000  2100  2200  2300  2400  2500  2600  2700  2800  2900  3000  3100  3200  3300  3400  3500  3600  3700  3800  3900  4000  4100  4200  4300  4400  4500  4600  4700  4800  4900  5000  5100  5200  5300  5400  5500  5600  5700  5800  5900  6000  6100  6200  6300  6400  6500  6600  6700  6800  6900  7000  7100  7200  7300  7400  7500  7600  7700  7800  7900  8000  8100  8200  8300  8400  8500  8600  8700  8800  8900  9000  9100  9200  9300  9400  9500  9600  9700  9800  9900  "
     ]
    }
   ],
   "source": [
    "Entrez.email = 'A.N.Other@example.com'\n",
    "ids=[[]]\n",
    "print(\"max_searchs : \",max_searchs)\n",
    "for i in range(0,max_searchs,100):\n",
    "    print(i,\" \", end='')\n",
    "    h = Entrez.esearch(db='pubmed', retmax=100,retstart=i, term=terms)\n",
    "    result = Entrez.read(h)\n",
    "    ids.append(result['IdList'])\n",
    "h = Entrez.efetch(db='pubmed', id=ids, rettype='medline', retmode='json')\n",
    "records = Medline.parse(h)"
   ]
  },
  {
   "cell_type": "markdown",
   "metadata": {},
   "source": [
    "### Data Transformation :"
   ]
  },
  {
   "cell_type": "code",
   "execution_count": null,
   "metadata": {
    "id": "l4ZLlyHTLPMu"
   },
   "outputs": [],
   "source": [
    "# dict_ = {'paper_id': [], 'abstract': [], 'body_text': [], 'authors': [], 'title': [], 'journal': [], 'abstract_summary': []}\n",
    "\n",
    "def append_records(records):\n",
    "    dict_ = {'paper_id': [], 'abstract': [], 'body_text': [], 'authors': [], 'title': [], 'journal': [], 'abstract_summary': []}\n",
    "    for idx, entry in enumerate(records):\n",
    "\n",
    "        if idx >max_searchs:\n",
    "            break\n",
    "        #--------------------------------------------------\n",
    "        try:\n",
    "            dict_['paper_id'].append(entry[\"PMID\"])\n",
    "        except Exception as e:\n",
    "            dict_['paper_id'].append(\"\")\n",
    "        #--------------------------------------------------      \n",
    "        try:\n",
    "            dict_['abstract'].append(entry[\"AB\"])\n",
    "            # also create a column for the summary of abstract to be used in a plot\n",
    "            if len(entry[\"AB\"]) == 0: \n",
    "                # no abstract provided\n",
    "                dict_['abstract_summary'].append(\"Not provided.\")\n",
    "            elif len(entry[\"AB\"].split(' ')) > 100:\n",
    "                # abstract provided is too long for plot, take first 100 words append with ...\n",
    "                info = entry[\"AB\"].split(' ')[:100]\n",
    "                summary = get_breaks(' '.join(info), 40)\n",
    "                dict_['abstract_summary'].append(summary + \"...\")\n",
    "            else:\n",
    "                # abstract is short enough\n",
    "                summary = get_breaks(entry[\"AB\"], 40)\n",
    "                dict_['abstract_summary'].append(summary)\n",
    "        except Exception as e:\n",
    "            dict_['abstract'].append(\"\")  \n",
    "            dict_['abstract_summary'].append(\"Not provided.\")\n",
    "\n",
    "        #--------------------------------------------------      \n",
    "        try:\n",
    "            dict_['body_text'].append(entry[\"AB\"])\n",
    "        except Exception as e:\n",
    "            dict_['body_text'].append(\"\") \n",
    "        #--------------------------------------------------\n",
    "        try:\n",
    "            # if more than one author\n",
    "            authors = entry['AU'][0].split(',')\n",
    "            if len(authors) > 2:\n",
    "                # if more than 2 authors, take them all with html tag breaks in between\n",
    "                dict_['authors'].append(get_breaks('. '.join(authors), 40))\n",
    "            else:\n",
    "                # authors will fit in plot\n",
    "                dict_['authors'].append(\". \".join(authors))\n",
    "        except Exception as e:\n",
    "            # if only one author - or Null valie\n",
    "            try : \n",
    "                dict_['authors'].append(entry['AU'][0])\n",
    "            except Exception as e:\n",
    "                dict_['authors'].append(\"\")\n",
    "\n",
    "\n",
    "        #-------------------------------------------------- \n",
    "        # add the title information, add breaks when needed\n",
    "        try:\n",
    "            title = get_breaks(entry['TI'][0], 40)\n",
    "            dict_['title'].append(title)\n",
    "        # if title was not provided\n",
    "        except Exception as e:\n",
    "            try:\n",
    "                dict_['title'].append(entry['TI'][0])\n",
    "            except Exception as e:\n",
    "                dict_['title'].append(\"\")\n",
    "        #-------------------------------------------------- \n",
    "        # add the journal information\n",
    "        try:\n",
    "            dict_['journal'].append(entry['PT'][0])\n",
    "        except Exception as e:\n",
    "            dict_['journal'].append(\"\")\n",
    "\n",
    "\n",
    "    return dict_"
   ]
  },
  {
   "cell_type": "code",
   "execution_count": null,
   "metadata": {
    "colab": {
     "base_uri": "https://localhost:8080/"
    },
    "id": "s8peedbYLaus",
    "outputId": "6a15c7ab-6866-40b7-816e-6f06d2c994e0",
    "scrolled": true
   },
   "outputs": [
    {
     "name": "stdout",
     "output_type": "stream",
     "text": [
      "max iterations :  101\n"
     ]
    }
   ],
   "source": [
    "dict_1 = {'paper_id': [], 'abstract': [], 'body_text': [], 'authors': [], 'title': [], 'journal': [], 'abstract_summary': []}\n",
    "print(\"max iterations : \",len(ids))\n",
    "for i in range(1,len(ids)):\n",
    "    h = Entrez.efetch(db='pubmed', id=ids[i], rettype='medline', retmode='json')\n",
    "    records = Medline.parse(h)\n",
    "    token = append_records(records)\n",
    "    dict_1[\"paper_id\"] = dict_1[\"paper_id\"]+token[\"paper_id\"]\n",
    "    dict_1[\"abstract\"] = dict_1[\"abstract\"] + token[\"abstract\"]\n",
    "    dict_1[\"body_text\"] =  dict_1[\"body_text\"] +token[\"body_text\"]\n",
    "    dict_1[\"authors\"] = dict_1[\"authors\"] + token[\"authors\"]\n",
    "    dict_1[\"title\"] =dict_1[\"title\"] + token[\"title\"]\n",
    "    dict_1[\"journal\"] =dict_1[\"journal\"] +token[\"journal\"]\n",
    "    dict_1[\"abstract_summary\"]=dict_1[\"abstract_summary\"]+token[\"abstract_summary\"]"
   ]
  },
  {
   "cell_type": "code",
   "execution_count": null,
   "metadata": {
    "id": "VTQ_DpMWqBvd",
    "outputId": "d81e3a59-9be6-4d56-b524-1ff53315c511"
   },
   "outputs": [
    {
     "data": {
      "text/plain": [
       "(1255, 1255, 1255, 1255, 1255, 1255, 1255)"
      ]
     },
     "execution_count": 199,
     "metadata": {},
     "output_type": "execute_result"
    }
   ],
   "source": [
    "len(dict_1[\"paper_id\"]),len(dict_1[\"abstract\"]),len(dict_1[\"body_text\"])  ,len(dict_1[\"authors\"]) ,len(dict_1[\"title\"]) ,len(dict_1[\"journal\"]),len(dict_1[\"abstract_summary\"])"
   ]
  },
  {
   "cell_type": "code",
   "execution_count": null,
   "metadata": {
    "id": "uX3e5AC_Ldkk"
   },
   "outputs": [],
   "source": [
    "df_covid = pd.DataFrame(dict_1, columns=['paper_id', 'abstract', 'body_text', 'authors', 'title', 'journal', 'abstract_summary'])"
   ]
  },
  {
   "cell_type": "markdown",
   "metadata": {
    "id": "wyhzey_1GdWq"
   },
   "source": [
    "## Some feature engineering\n",
    "Adding word count columns for both abstract and body_text can be useful parameters later:"
   ]
  },
  {
   "cell_type": "code",
   "execution_count": null,
   "metadata": {
    "colab": {
     "base_uri": "https://localhost:8080/",
     "height": 496
    },
    "id": "xqMfwG5pGdWr",
    "outputId": "5431a515-2925-4a9e-c745-c984429c3c14"
   },
   "outputs": [
    {
     "data": {
      "text/html": [
       "<div>\n",
       "<style scoped>\n",
       "    .dataframe tbody tr th:only-of-type {\n",
       "        vertical-align: middle;\n",
       "    }\n",
       "\n",
       "    .dataframe tbody tr th {\n",
       "        vertical-align: top;\n",
       "    }\n",
       "\n",
       "    .dataframe thead th {\n",
       "        text-align: right;\n",
       "    }\n",
       "</style>\n",
       "<table border=\"1\" class=\"dataframe\">\n",
       "  <thead>\n",
       "    <tr style=\"text-align: right;\">\n",
       "      <th></th>\n",
       "      <th>paper_id</th>\n",
       "      <th>abstract</th>\n",
       "      <th>body_text</th>\n",
       "      <th>authors</th>\n",
       "      <th>title</th>\n",
       "      <th>journal</th>\n",
       "      <th>abstract_summary</th>\n",
       "      <th>abstract_word_count</th>\n",
       "      <th>body_word_count</th>\n",
       "      <th>body_unique_words</th>\n",
       "    </tr>\n",
       "  </thead>\n",
       "  <tbody>\n",
       "    <tr>\n",
       "      <th>0</th>\n",
       "      <td>35490309</td>\n",
       "      <td>The consequences of SARS-CoV-2 infection inclu...</td>\n",
       "      <td>The consequences of SARS-CoV-2 infection inclu...</td>\n",
       "      <td>Parums DV</td>\n",
       "      <td>E</td>\n",
       "      <td>Editorial</td>\n",
       "      <td>The consequences of SARS-CoV-2 infection&lt;br&gt;i...</td>\n",
       "      <td>191</td>\n",
       "      <td>191</td>\n",
       "      <td>131</td>\n",
       "    </tr>\n",
       "    <tr>\n",
       "      <th>1</th>\n",
       "      <td>35481554</td>\n",
       "      <td>BACKGROUND &amp; AIMS: Severe acute respiratory sy...</td>\n",
       "      <td>BACKGROUND &amp; AIMS: Severe acute respiratory sy...</td>\n",
       "      <td>Kumar S</td>\n",
       "      <td>S</td>\n",
       "      <td>Journal Article</td>\n",
       "      <td>BACKGROUND &amp; AIMS: Severe acute respiratory&lt;b...</td>\n",
       "      <td>394</td>\n",
       "      <td>394</td>\n",
       "      <td>204</td>\n",
       "    </tr>\n",
       "    <tr>\n",
       "      <th>2</th>\n",
       "      <td>35476841</td>\n",
       "      <td>INTRODUCTION: Inherent differences as well as ...</td>\n",
       "      <td>INTRODUCTION: Inherent differences as well as ...</td>\n",
       "      <td>Pachpande V</td>\n",
       "      <td>D</td>\n",
       "      <td>Journal Article</td>\n",
       "      <td>INTRODUCTION: Inherent differences as well as...</td>\n",
       "      <td>275</td>\n",
       "      <td>275</td>\n",
       "      <td>169</td>\n",
       "    </tr>\n",
       "    <tr>\n",
       "      <th>3</th>\n",
       "      <td>35473558</td>\n",
       "      <td>OBJECTIVES: This study aims to further investi...</td>\n",
       "      <td>OBJECTIVES: This study aims to further investi...</td>\n",
       "      <td>Yao Y</td>\n",
       "      <td>P</td>\n",
       "      <td>Journal Article</td>\n",
       "      <td>OBJECTIVES: This study aims to further&lt;br&gt;inv...</td>\n",
       "      <td>243</td>\n",
       "      <td>243</td>\n",
       "      <td>152</td>\n",
       "    </tr>\n",
       "    <tr>\n",
       "      <th>4</th>\n",
       "      <td>35469713</td>\n",
       "      <td>BACKGROUND: The role of angiotensin-converting...</td>\n",
       "      <td>BACKGROUND: The role of angiotensin-converting...</td>\n",
       "      <td>Yoshihara F</td>\n",
       "      <td>R</td>\n",
       "      <td>Journal Article</td>\n",
       "      <td>BACKGROUND: The role of&lt;br&gt;angiotensin-conver...</td>\n",
       "      <td>255</td>\n",
       "      <td>255</td>\n",
       "      <td>148</td>\n",
       "    </tr>\n",
       "  </tbody>\n",
       "</table>\n",
       "</div>"
      ],
      "text/plain": [
       "   paper_id                                           abstract  \\\n",
       "0  35490309  The consequences of SARS-CoV-2 infection inclu...   \n",
       "1  35481554  BACKGROUND & AIMS: Severe acute respiratory sy...   \n",
       "2  35476841  INTRODUCTION: Inherent differences as well as ...   \n",
       "3  35473558  OBJECTIVES: This study aims to further investi...   \n",
       "4  35469713  BACKGROUND: The role of angiotensin-converting...   \n",
       "\n",
       "                                           body_text      authors title  \\\n",
       "0  The consequences of SARS-CoV-2 infection inclu...    Parums DV     E   \n",
       "1  BACKGROUND & AIMS: Severe acute respiratory sy...      Kumar S     S   \n",
       "2  INTRODUCTION: Inherent differences as well as ...  Pachpande V     D   \n",
       "3  OBJECTIVES: This study aims to further investi...        Yao Y     P   \n",
       "4  BACKGROUND: The role of angiotensin-converting...  Yoshihara F     R   \n",
       "\n",
       "           journal                                   abstract_summary  \\\n",
       "0        Editorial   The consequences of SARS-CoV-2 infection<br>i...   \n",
       "1  Journal Article   BACKGROUND & AIMS: Severe acute respiratory<b...   \n",
       "2  Journal Article   INTRODUCTION: Inherent differences as well as...   \n",
       "3  Journal Article   OBJECTIVES: This study aims to further<br>inv...   \n",
       "4  Journal Article   BACKGROUND: The role of<br>angiotensin-conver...   \n",
       "\n",
       "   abstract_word_count  body_word_count  body_unique_words  \n",
       "0                  191              191                131  \n",
       "1                  394              394                204  \n",
       "2                  275              275                169  \n",
       "3                  243              243                152  \n",
       "4                  255              255                148  "
      ]
     },
     "execution_count": 202,
     "metadata": {},
     "output_type": "execute_result"
    }
   ],
   "source": [
    "df_covid['abstract_word_count'] = df_covid['abstract'].apply(lambda x: len(x.strip().split()))  # word count in abstract\n",
    "df_covid['body_word_count'] = df_covid['body_text'].apply(lambda x: len(x.strip().split()))  # word count in body\n",
    "df_covid['body_unique_words']=df_covid['body_text'].apply(lambda x:len(set(str(x).split())))  # number of unique words in body\n",
    "df_covid.head()"
   ]
  },
  {
   "cell_type": "markdown",
   "metadata": {
    "id": "G4vZi8C1GdWs"
   },
   "source": [
    "## Handle Possible Duplicates"
   ]
  },
  {
   "cell_type": "markdown",
   "metadata": {
    "id": "d027A619GdWt"
   },
   "source": [
    "When we look at the unique values above, we can see that there are duplicates. It may have caused because of author submiting the article to multiple journals. Let's remove the duplicats from our dataset:"
   ]
  },
  {
   "cell_type": "code",
   "execution_count": null,
   "metadata": {
    "colab": {
     "base_uri": "https://localhost:8080/"
    },
    "id": "aFhtgIDDGdWy",
    "outputId": "4c9418ff-9c45-4467-9cfe-00cf231d1f71"
   },
   "outputs": [
    {
     "data": {
      "text/plain": [
       "count                                                  1132\n",
       "unique                                                 1132\n",
       "top       Diabetes is one of the most important comorbid...\n",
       "freq                                                      1\n",
       "Name: abstract, dtype: object"
      ]
     },
     "execution_count": 205,
     "metadata": {},
     "output_type": "execute_result"
    }
   ],
   "source": [
    "df_covid.drop_duplicates(['abstract', 'body_text'], inplace=True)\n",
    "df_covid['abstract'].describe(include='all')"
   ]
  },
  {
   "cell_type": "code",
   "execution_count": null,
   "metadata": {
    "colab": {
     "base_uri": "https://localhost:8080/"
    },
    "id": "Ec-Q6244GdWz",
    "outputId": "59da6615-42ee-49ce-edca-af71263d31b4"
   },
   "outputs": [
    {
     "data": {
      "text/plain": [
       "count                                                  1132\n",
       "unique                                                 1132\n",
       "top       Diabetes is one of the most important comorbid...\n",
       "freq                                                      1\n",
       "Name: body_text, dtype: object"
      ]
     },
     "execution_count": 206,
     "metadata": {},
     "output_type": "execute_result"
    }
   ],
   "source": [
    "df_covid['body_text'].describe(include='all')"
   ]
  },
  {
   "cell_type": "markdown",
   "metadata": {
    "id": "gQwDVNJUGdW0"
   },
   "source": [
    "It looks like we didn't have duplicates. Instead, it was articles without Abstracts."
   ]
  },
  {
   "cell_type": "markdown",
   "metadata": {
    "id": "uyanCizrGdW2"
   },
   "source": [
    "# Data Pre-processing"
   ]
  },
  {
   "cell_type": "code",
   "execution_count": null,
   "metadata": {
    "id": "UsE-eeIFGdW3"
   },
   "outputs": [],
   "source": [
    "df = df_covid"
   ]
  },
  {
   "cell_type": "markdown",
   "metadata": {
    "id": "cXlRaj-3GdW3"
   },
   "source": [
    "### Delete Null values   :"
   ]
  },
  {
   "cell_type": "markdown",
   "metadata": {
    "id": "FPzUrJjrGdW3"
   },
   "source": [
    "Now that we have our dataset loaded, we need to clean-up the text to improve any clustering or classification efforts. First, let's drop Null vales:"
   ]
  },
  {
   "cell_type": "code",
   "execution_count": null,
   "metadata": {
    "colab": {
     "base_uri": "https://localhost:8080/"
    },
    "id": "Cu-44fZZGdW3",
    "outputId": "e2defb25-d7f6-46a0-ca11-280dc3a5b6bf"
   },
   "outputs": [
    {
     "name": "stdout",
     "output_type": "stream",
     "text": [
      "<class 'pandas.core.frame.DataFrame'>\n",
      "Int64Index: 1132 entries, 0 to 1166\n",
      "Data columns (total 10 columns):\n",
      " #   Column               Non-Null Count  Dtype \n",
      "---  ------               --------------  ----- \n",
      " 0   paper_id             1132 non-null   object\n",
      " 1   abstract             1132 non-null   object\n",
      " 2   body_text            1132 non-null   object\n",
      " 3   authors              1132 non-null   object\n",
      " 4   title                1132 non-null   object\n",
      " 5   journal              1132 non-null   object\n",
      " 6   abstract_summary     1132 non-null   object\n",
      " 7   abstract_word_count  1132 non-null   int64 \n",
      " 8   body_word_count      1132 non-null   int64 \n",
      " 9   body_unique_words    1132 non-null   int64 \n",
      "dtypes: int64(3), object(7)\n",
      "memory usage: 97.3+ KB\n"
     ]
    }
   ],
   "source": [
    "df[\"body_text\"].dropna(inplace=True)\n",
    "df.info()"
   ]
  },
  {
   "cell_type": "markdown",
   "metadata": {
    "id": "MFMzbLH4GdW4"
   },
   "source": [
    "### Handling multiple languages\n",
    "Next we are going to determine the language of each paper in the dataframe. Not all of the sources are English and the language needs to be identified so that we know how handle these instances"
   ]
  },
  {
   "cell_type": "code",
   "execution_count": null,
   "metadata": {
    "colab": {
     "base_uri": "https://localhost:8080/"
    },
    "id": "bcE7FbU9GdW4",
    "outputId": "d3c8daa0-00b0-46a9-85d7-17470b5bdef0"
   },
   "outputs": [
    {
     "name": "stderr",
     "output_type": "stream",
     "text": [
      "100%|██████████| 1132/1132 [00:18<00:00, 60.72it/s]\n"
     ]
    }
   ],
   "source": [
    "# set seed\n",
    "DetectorFactory.seed = 0\n",
    "# hold label - language\n",
    "languages = []\n",
    "# go through each text\n",
    "for ii in tqdm(range(0,len(df))):\n",
    "    # split by space into list, take the first x intex, join with space\n",
    "    text = df.iloc[ii]['body_text'].split(\" \")\n",
    "    lang = \"en\"\n",
    "    try:\n",
    "        if len(text) > 50:\n",
    "            lang = detect(\" \".join(text[:50]))\n",
    "        elif len(text) > 0:\n",
    "            lang = detect(\" \".join(text[:len(text)]))\n",
    "    # ught... beginning of the document was not in a good format\n",
    "    except Exception as e:\n",
    "        all_words = set(text)\n",
    "        try:\n",
    "            lang = detect(\" \".join(all_words))\n",
    "        # what!! :( let's see if we can find any text in abstract...\n",
    "        except Exception as e: \n",
    "            try:\n",
    "                # let's try to label it through the abstract then\n",
    "                lang = detect(df.iloc[ii]['abstract_summary'])\n",
    "            except Exception as e:\n",
    "                lang = \"unknown\"\n",
    "                pass\n",
    "    # get the language    \n",
    "    languages.append(lang)"
   ]
  },
  {
   "cell_type": "code",
   "execution_count": null,
   "metadata": {
    "colab": {
     "base_uri": "https://localhost:8080/"
    },
    "id": "NemBurd8GdW5",
    "outputId": "0e12e54b-cb0e-4f84-b2d0-6a1c4dece43e"
   },
   "outputs": [
    {
     "name": "stdout",
     "output_type": "stream",
     "text": [
      "Total: 1132\n",
      "\n",
      "{'en': 1131, 'fr': 1}\n"
     ]
    }
   ],
   "source": [
    "from pprint import pprint\n",
    "languages_dict = {}\n",
    "for lang in set(languages):\n",
    "    languages_dict[lang] = languages.count(lang) \n",
    "print(\"Total: {}\\n\".format(len(languages)))\n",
    "pprint(languages_dict)"
   ]
  },
  {
   "cell_type": "markdown",
   "metadata": {
    "id": "pU5nSAiPGdW5"
   },
   "source": [
    "Lets take a look at the language distribution in the dataset"
   ]
  },
  {
   "cell_type": "code",
   "execution_count": null,
   "metadata": {
    "colab": {
     "base_uri": "https://localhost:8080/",
     "height": 282
    },
    "id": "0R5MVtGdGdW5",
    "outputId": "2540a649-8c3d-45e0-f324-0df5bff13e1b"
   },
   "outputs": [
    {
     "data": {
      "image/png": "[encoded data removed]",
      "text/plain": [
       "<Figure size 432x288 with 1 Axes>"
      ]
     },
     "metadata": {},
     "output_type": "display_data"
    }
   ],
   "source": [
    "df['language'] = languages\n",
    "plt.bar(range(len(languages_dict)), list(languages_dict.values()), align='center')\n",
    "plt.xticks(range(len(languages_dict)), list(languages_dict.keys()))\n",
    "plt.title(\"Distribution of Languages in Dataset\")\n",
    "plt.show()"
   ]
  },
  {
   "cell_type": "markdown",
   "metadata": {
    "id": "D1y8e4mXGdW6"
   },
   "source": [
    "\n",
    "We will be dropping any language that is not English. Attempting to translate foreign texts gave the following problems:\n",
    "\n",
    "1. API calls were limited\n",
    "\n",
    "2. Translating the language may not carry over the true semantic meaning of the text\n"
   ]
  },
  {
   "cell_type": "code",
   "execution_count": null,
   "metadata": {
    "colab": {
     "base_uri": "https://localhost:8080/"
    },
    "id": "0VaqWVbFGdW6",
    "outputId": "871680d8-2f3c-4a81-ee45-ff77abb59654"
   },
   "outputs": [
    {
     "name": "stdout",
     "output_type": "stream",
     "text": [
      "<class 'pandas.core.frame.DataFrame'>\n",
      "Int64Index: 1131 entries, 0 to 1166\n",
      "Data columns (total 11 columns):\n",
      " #   Column               Non-Null Count  Dtype \n",
      "---  ------               --------------  ----- \n",
      " 0   paper_id             1131 non-null   object\n",
      " 1   abstract             1131 non-null   object\n",
      " 2   body_text            1131 non-null   object\n",
      " 3   authors              1131 non-null   object\n",
      " 4   title                1131 non-null   object\n",
      " 5   journal              1131 non-null   object\n",
      " 6   abstract_summary     1131 non-null   object\n",
      " 7   abstract_word_count  1131 non-null   int64 \n",
      " 8   body_word_count      1131 non-null   int64 \n",
      " 9   body_unique_words    1131 non-null   int64 \n",
      " 10  language             1131 non-null   object\n",
      "dtypes: int64(3), object(8)\n",
      "memory usage: 106.0+ KB\n"
     ]
    }
   ],
   "source": [
    "df = df[df['language'] == 'en'] \n",
    "df.info()"
   ]
  },
  {
   "cell_type": "markdown",
   "metadata": {
    "id": "0Z6kHFa5GdW7"
   },
   "source": [
    "### Stopwords\n",
    "\n",
    "Part of the preprocessing will be finding and removing stopwords (common words that will act as noise in the clustering step)."
   ]
  },
  {
   "cell_type": "code",
   "execution_count": null,
   "metadata": {
    "id": "Jr5l1GxpGdW7"
   },
   "outputs": [],
   "source": [
    "import string\n",
    "#punctuations\n",
    "punctuations = string.punctuation\n",
    "#stopwords\n",
    "stopwords = list(STOP_WORDS)\n"
   ]
  },
  {
   "cell_type": "markdown",
   "metadata": {
    "id": "cGzgeg9dGdW8"
   },
   "source": [
    "Now the above stopwords are used in everyday english text. Research papers will often frequently use words that don't actually contribute to the meaning and are not considered everyday stopwords.\n"
   ]
  },
  {
   "cell_type": "code",
   "execution_count": null,
   "metadata": {
    "id": "jIWi1cUBGdW8"
   },
   "outputs": [],
   "source": [
    "custom_stop_words = [\n",
    "    'doi', 'preprint', 'copyright', 'peer', 'reviewed', 'org', 'https', 'et', 'al', 'author', 'figure', \n",
    "    'rights', 'reserved', 'permission', 'used', 'using', 'biorxiv', 'medrxiv', 'license', 'fig', 'fig.', \n",
    "    'al.', 'Elsevier', 'PMC', 'CZI', 'www' , 'the' , 'THE' ,\"19\" ,\"-\"]\n",
    "\n",
    "for w in custom_stop_words:\n",
    "    if w not in stopwords:\n",
    "        stopwords.append(w)"
   ]
  },
  {
   "cell_type": "markdown",
   "metadata": {
    "id": "Vqksra4AGdW8"
   },
   "source": [
    "### Next lets create a function that will process the text data for us. "
   ]
  },
  {
   "cell_type": "markdown",
   "metadata": {
    "id": "1_pK3UIauipA"
   },
   "source": [
    "#### Stop words , Ponctuation and Lemmatizing"
   ]
  },
  {
   "cell_type": "code",
   "execution_count": null,
   "metadata": {
    "colab": {
     "base_uri": "https://localhost:8080/"
    },
    "id": "VXz-7XXYGdW9",
    "outputId": "ae63e9e8-b7ca-4106-8a1d-7a8a6cf96333"
   },
   "outputs": [
    {
     "name": "stderr",
     "output_type": "stream",
     "text": [
      "<ipython-input-217-6ab7ca468df0>:17: SettingWithCopyWarning: \n",
      "A value is trying to be set on a copy of a slice from a DataFrame.\n",
      "Try using .loc[row_indexer,col_indexer] = value instead\n",
      "\n",
      "See the caveats in the documentation: https://pandas.pydata.org/pandas-docs/stable/user_guide/indexing.html#returning-a-view-versus-a-copy\n",
      "  df[\"processed_text\"] = df[\"body_text\"].apply(spacy_process)\n"
     ]
    }
   ],
   "source": [
    "import spacy\n",
    "import re\n",
    "nlp = en_core_web_lg.load()\n",
    "def spacy_process(texte):\n",
    "\n",
    "    #URLs\n",
    "    string = re.sub(r\"https?://\\S+|www.\\S+\",'',texte)\n",
    "    #html \n",
    "    string = re.sub(r'<.*?>','',string)\n",
    "    #Numbers\n",
    "    string = re.sub(r'[0-9]+','',string) \n",
    "\n",
    "    mytokens = nlp(string)\n",
    "    mytokens2 = [word.lemma_.lower().strip() for word in mytokens if word.pos_ != \"PUNCT\" and word.text.lower() not in stopwords and word.text.lower() not in punctuations]\n",
    "    mytokens2 = \" \".join([i for i in mytokens2])\n",
    "    return mytokens2\n",
    "df[\"processed_text\"] = df[\"body_text\"].apply(spacy_process)"
   ]
  },
  {
   "cell_type": "markdown",
   "metadata": {},
   "source": [
    "### Data Saving (to avoid data cleaning every time you load data)"
   ]
  },
  {
   "cell_type": "code",
   "execution_count": null,
   "metadata": {
    "id": "RNCjwjtVZ2Mq"
   },
   "outputs": [],
   "source": [
    "df[\"processed_text\"].to_csv(\"./data_covid_hypertension/text_cleaned_hypertension_onlytext.csv\")"
   ]
  },
  {
   "cell_type": "code",
   "execution_count": null,
   "metadata": {
    "id": "LYl0_UhObjt0"
   },
   "outputs": [],
   "source": [
    "df.to_csv(\"./data_covid_hypertension/text_cleaned_hypertension_alldf.csv\")"
   ]
  },
  {
   "cell_type": "markdown",
   "metadata": {
    "id": "ADe6yiQUGdXK"
   },
   "source": [
    "### Let's take a look at word count in the papers"
   ]
  },
  {
   "cell_type": "code",
   "execution_count": null,
   "metadata": {
    "colab": {
     "base_uri": "https://localhost:8080/",
     "height": 497
    },
    "id": "CEkqhYSoGdXL",
    "outputId": "6e1f3add-937f-463d-b1aa-1bd2153b7319"
   },
   "outputs": [
    {
     "name": "stderr",
     "output_type": "stream",
     "text": [
      "C:\\Users\\moham\\anaconda3\\lib\\site-packages\\seaborn\\distributions.py:2551: FutureWarning: `distplot` is a deprecated function and will be removed in a future version. Please adapt your code to use either `displot` (a figure-level function with similar flexibility) or `histplot` (an axes-level function for histograms).\n",
      "  warnings.warn(msg, FutureWarning)\n"
     ]
    },
    {
     "data": {
      "text/plain": [
       "count    1131.000000\n",
       "mean      261.469496\n",
       "std        97.355655\n",
       "min         0.000000\n",
       "25%       209.500000\n",
       "50%       251.000000\n",
       "75%       288.500000\n",
       "max      1112.000000\n",
       "Name: body_word_count, dtype: float64"
      ]
     },
     "execution_count": 222,
     "metadata": {},
     "output_type": "execute_result"
    },
    {
     "data": {
      "image/png": "[encoded data removed]",
      "text/plain": [
       "<Figure size 432x288 with 1 Axes>"
      ]
     },
     "metadata": {},
     "output_type": "display_data"
    }
   ],
   "source": [
    "sns.distplot(df['body_word_count'])\n",
    "df['body_word_count'].describe()"
   ]
  },
  {
   "cell_type": "code",
   "execution_count": null,
   "metadata": {
    "colab": {
     "base_uri": "https://localhost:8080/",
     "height": 493
    },
    "id": "UJl1yVcGGdXL",
    "outputId": "972d012a-93be-41d1-daae-23c68170bca7"
   },
   "outputs": [
    {
     "name": "stderr",
     "output_type": "stream",
     "text": [
      "C:\\Users\\moham\\anaconda3\\lib\\site-packages\\seaborn\\distributions.py:2551: FutureWarning: `distplot` is a deprecated function and will be removed in a future version. Please adapt your code to use either `displot` (a figure-level function with similar flexibility) or `histplot` (an axes-level function for histograms).\n",
      "  warnings.warn(msg, FutureWarning)\n"
     ]
    },
    {
     "data": {
      "text/plain": [
       "count    1131.000000\n",
       "mean      163.179487\n",
       "std        50.503418\n",
       "min         0.000000\n",
       "25%       137.000000\n",
       "50%       159.000000\n",
       "75%       181.000000\n",
       "max       573.000000\n",
       "Name: body_unique_words, dtype: float64"
      ]
     },
     "execution_count": 223,
     "metadata": {},
     "output_type": "execute_result"
    },
    {
     "data": {
      "image/png": "[encoded data removed]",
      "text/plain": [
       "<Figure size 432x288 with 1 Axes>"
      ]
     },
     "metadata": {},
     "output_type": "display_data"
    }
   ],
   "source": [
    "sns.distplot(df['body_unique_words'])\n",
    "df['body_unique_words'].describe()"
   ]
  },
  {
   "cell_type": "markdown",
   "metadata": {
    "id": "alMrEpYlvnwn"
   },
   "source": []
  },
  {
   "cell_type": "markdown",
   "metadata": {
    "id": "lBU6WWsjqBvl"
   },
   "source": [
    "## Data Loading (already cleaned data) "
   ]
  },
  {
   "cell_type": "code",
   "execution_count": 468,
   "metadata": {
    "id": "4YGzci-ikDEr"
   },
   "outputs": [],
   "source": [
    "import pandas as pd\n",
    "df = pd.read_csv('./data_covid_asthma/text_cleaned_asthma_alldf.csv')\n",
    "#df = pd.read_csv(\"/content/text_cleaned.csv\")\n",
    "df.drop(columns=\"Unnamed: 0\",inplace=True)\n",
    "df.dropna(inplace=True)"
   ]
  },
  {
   "cell_type": "code",
   "execution_count": 525,
   "metadata": {
    "id": "LEtJ35u2qBvl",
    "outputId": "392cf9bd-56ee-479f-e75a-9add76595d27"
   },
   "outputs": [
    {
     "data": {
      "text/html": [
       "<div>\n",
       "<style scoped>\n",
       "    .dataframe tbody tr th:only-of-type {\n",
       "        vertical-align: middle;\n",
       "    }\n",
       "\n",
       "    .dataframe tbody tr th {\n",
       "        vertical-align: top;\n",
       "    }\n",
       "\n",
       "    .dataframe thead th {\n",
       "        text-align: right;\n",
       "    }\n",
       "</style>\n",
       "<table border=\"1\" class=\"dataframe\">\n",
       "  <thead>\n",
       "    <tr style=\"text-align: right;\">\n",
       "      <th></th>\n",
       "      <th>paper_id</th>\n",
       "      <th>abstract</th>\n",
       "      <th>body_text</th>\n",
       "      <th>authors</th>\n",
       "      <th>title</th>\n",
       "      <th>journal</th>\n",
       "      <th>abstract_summary</th>\n",
       "      <th>abstract_word_count</th>\n",
       "      <th>body_word_count</th>\n",
       "      <th>body_unique_words</th>\n",
       "      <th>language</th>\n",
       "      <th>processed_text</th>\n",
       "    </tr>\n",
       "  </thead>\n",
       "  <tbody>\n",
       "    <tr>\n",
       "      <th>0</th>\n",
       "      <td>35502514</td>\n",
       "      <td>INTRODUCTION: It is not clear whether asthma, ...</td>\n",
       "      <td>INTRODUCTION: It is not clear whether asthma, ...</td>\n",
       "      <td>Aytekin ES</td>\n",
       "      <td>O</td>\n",
       "      <td>Journal Article</td>\n",
       "      <td>INTRODUCTION: It is not clear whether asthma,...</td>\n",
       "      <td>321</td>\n",
       "      <td>321</td>\n",
       "      <td>189</td>\n",
       "      <td>en</td>\n",
       "      <td>introduction clear asthma frequent chronic dis...</td>\n",
       "    </tr>\n",
       "    <tr>\n",
       "      <th>1</th>\n",
       "      <td>35501222</td>\n",
       "      <td>On March 11, 2020, the World Health Organizati...</td>\n",
       "      <td>On March 11, 2020, the World Health Organizati...</td>\n",
       "      <td>Chiner-Vives E</td>\n",
       "      <td>S</td>\n",
       "      <td>Journal Article</td>\n",
       "      <td>On March 11, 2020, the World Health&lt;br&gt;Organi...</td>\n",
       "      <td>205</td>\n",
       "      <td>205</td>\n",
       "      <td>141</td>\n",
       "      <td>en</td>\n",
       "      <td>march world health organization declare corona...</td>\n",
       "    </tr>\n",
       "    <tr>\n",
       "      <th>2</th>\n",
       "      <td>35442470</td>\n",
       "      <td>OBJECTIVE: During the coronavirus disease 2019...</td>\n",
       "      <td>OBJECTIVE: During the coronavirus disease 2019...</td>\n",
       "      <td>Lee KH</td>\n",
       "      <td>P</td>\n",
       "      <td>Journal Article</td>\n",
       "      <td>OBJECTIVE: During the coronavirus disease&lt;br&gt;...</td>\n",
       "      <td>256</td>\n",
       "      <td>256</td>\n",
       "      <td>151</td>\n",
       "      <td>en</td>\n",
       "      <td>objective coronavirus disease  covid- pandemic...</td>\n",
       "    </tr>\n",
       "    <tr>\n",
       "      <th>3</th>\n",
       "      <td>35438754</td>\n",
       "      <td>Importance: SARS-CoV-2 entry requires the TMPR...</td>\n",
       "      <td>Importance: SARS-CoV-2 entry requires the TMPR...</td>\n",
       "      <td>Nickols NG</td>\n",
       "      <td>E</td>\n",
       "      <td>Journal Article</td>\n",
       "      <td>Importance: SARS-CoV-2 entry requires the&lt;br&gt;...</td>\n",
       "      <td>448</td>\n",
       "      <td>448</td>\n",
       "      <td>275</td>\n",
       "      <td>en</td>\n",
       "      <td>importance sars cov- entry require tmprss cell...</td>\n",
       "    </tr>\n",
       "    <tr>\n",
       "      <th>4</th>\n",
       "      <td>35342017</td>\n",
       "      <td>BACKGROUND: Several chronic conditions have be...</td>\n",
       "      <td>BACKGROUND: Several chronic conditions have be...</td>\n",
       "      <td>Ludwig A</td>\n",
       "      <td>A</td>\n",
       "      <td>Journal Article</td>\n",
       "      <td>BACKGROUND: Several chronic conditions have&lt;b...</td>\n",
       "      <td>272</td>\n",
       "      <td>272</td>\n",
       "      <td>175</td>\n",
       "      <td>en</td>\n",
       "      <td>background chronic condition associate high ri...</td>\n",
       "    </tr>\n",
       "    <tr>\n",
       "      <th>...</th>\n",
       "      <td>...</td>\n",
       "      <td>...</td>\n",
       "      <td>...</td>\n",
       "      <td>...</td>\n",
       "      <td>...</td>\n",
       "      <td>...</td>\n",
       "      <td>...</td>\n",
       "      <td>...</td>\n",
       "      <td>...</td>\n",
       "      <td>...</td>\n",
       "      <td>...</td>\n",
       "      <td>...</td>\n",
       "    </tr>\n",
       "    <tr>\n",
       "      <th>260</th>\n",
       "      <td>32396996</td>\n",
       "      <td>As a zoonotic disease that has already spread ...</td>\n",
       "      <td>As a zoonotic disease that has already spread ...</td>\n",
       "      <td>Azkur AK</td>\n",
       "      <td>I</td>\n",
       "      <td>Journal Article</td>\n",
       "      <td>As a zoonotic disease that has already spread...</td>\n",
       "      <td>362</td>\n",
       "      <td>362</td>\n",
       "      <td>207</td>\n",
       "      <td>en</td>\n",
       "      <td>zoonotic disease spread globally million human...</td>\n",
       "    </tr>\n",
       "    <tr>\n",
       "      <th>261</th>\n",
       "      <td>32389590</td>\n",
       "      <td>The novel coronavirus disease 2019 has rapidly...</td>\n",
       "      <td>The novel coronavirus disease 2019 has rapidly...</td>\n",
       "      <td>Maggi E</td>\n",
       "      <td>C</td>\n",
       "      <td>Journal Article</td>\n",
       "      <td>The novel coronavirus disease 2019 has rapidl...</td>\n",
       "      <td>167</td>\n",
       "      <td>167</td>\n",
       "      <td>111</td>\n",
       "      <td>en</td>\n",
       "      <td>novel coronavirus disease  rapidly increase pa...</td>\n",
       "    </tr>\n",
       "    <tr>\n",
       "      <th>262</th>\n",
       "      <td>32294485</td>\n",
       "      <td>BACKGROUND: In December 2019, the coronavirus ...</td>\n",
       "      <td>BACKGROUND: In December 2019, the coronavirus ...</td>\n",
       "      <td>Li X</td>\n",
       "      <td>R</td>\n",
       "      <td>Journal Article</td>\n",
       "      <td>BACKGROUND: In December 2019, the coronavirus...</td>\n",
       "      <td>247</td>\n",
       "      <td>247</td>\n",
       "      <td>149</td>\n",
       "      <td>en</td>\n",
       "      <td>background december coronavirus disease  covid...</td>\n",
       "    </tr>\n",
       "    <tr>\n",
       "      <th>263</th>\n",
       "      <td>32224232</td>\n",
       "      <td>In the event of a global infectious pandemic, ...</td>\n",
       "      <td>In the event of a global infectious pandemic, ...</td>\n",
       "      <td>Shaker MS</td>\n",
       "      <td>C</td>\n",
       "      <td>Journal Article</td>\n",
       "      <td>In the event of a global infectious pandemic,...</td>\n",
       "      <td>231</td>\n",
       "      <td>231</td>\n",
       "      <td>160</td>\n",
       "      <td>en</td>\n",
       "      <td>event global infectious pandemic drastic measu...</td>\n",
       "    </tr>\n",
       "    <tr>\n",
       "      <th>264</th>\n",
       "      <td>32077115</td>\n",
       "      <td>BACKGROUND: Coronavirus disease 2019 (COVID-19...</td>\n",
       "      <td>BACKGROUND: Coronavirus disease 2019 (COVID-19...</td>\n",
       "      <td>Zhang JJ</td>\n",
       "      <td>C</td>\n",
       "      <td>Journal Article</td>\n",
       "      <td>BACKGROUND: Coronavirus disease 2019&lt;br&gt;(COVI...</td>\n",
       "      <td>279</td>\n",
       "      <td>279</td>\n",
       "      <td>189</td>\n",
       "      <td>en</td>\n",
       "      <td>background coronavirus disease  covid- cause s...</td>\n",
       "    </tr>\n",
       "  </tbody>\n",
       "</table>\n",
       "<p>264 rows × 12 columns</p>\n",
       "</div>"
      ],
      "text/plain": [
       "     paper_id                                           abstract  \\\n",
       "0    35502514  INTRODUCTION: It is not clear whether asthma, ...   \n",
       "1    35501222  On March 11, 2020, the World Health Organizati...   \n",
       "2    35442470  OBJECTIVE: During the coronavirus disease 2019...   \n",
       "3    35438754  Importance: SARS-CoV-2 entry requires the TMPR...   \n",
       "4    35342017  BACKGROUND: Several chronic conditions have be...   \n",
       "..        ...                                                ...   \n",
       "260  32396996  As a zoonotic disease that has already spread ...   \n",
       "261  32389590  The novel coronavirus disease 2019 has rapidly...   \n",
       "262  32294485  BACKGROUND: In December 2019, the coronavirus ...   \n",
       "263  32224232  In the event of a global infectious pandemic, ...   \n",
       "264  32077115  BACKGROUND: Coronavirus disease 2019 (COVID-19...   \n",
       "\n",
       "                                             body_text         authors title  \\\n",
       "0    INTRODUCTION: It is not clear whether asthma, ...      Aytekin ES     O   \n",
       "1    On March 11, 2020, the World Health Organizati...  Chiner-Vives E     S   \n",
       "2    OBJECTIVE: During the coronavirus disease 2019...          Lee KH     P   \n",
       "3    Importance: SARS-CoV-2 entry requires the TMPR...      Nickols NG     E   \n",
       "4    BACKGROUND: Several chronic conditions have be...        Ludwig A     A   \n",
       "..                                                 ...             ...   ...   \n",
       "260  As a zoonotic disease that has already spread ...        Azkur AK     I   \n",
       "261  The novel coronavirus disease 2019 has rapidly...         Maggi E     C   \n",
       "262  BACKGROUND: In December 2019, the coronavirus ...            Li X     R   \n",
       "263  In the event of a global infectious pandemic, ...       Shaker MS     C   \n",
       "264  BACKGROUND: Coronavirus disease 2019 (COVID-19...        Zhang JJ     C   \n",
       "\n",
       "             journal                                   abstract_summary  \\\n",
       "0    Journal Article   INTRODUCTION: It is not clear whether asthma,...   \n",
       "1    Journal Article   On March 11, 2020, the World Health<br>Organi...   \n",
       "2    Journal Article   OBJECTIVE: During the coronavirus disease<br>...   \n",
       "3    Journal Article   Importance: SARS-CoV-2 entry requires the<br>...   \n",
       "4    Journal Article   BACKGROUND: Several chronic conditions have<b...   \n",
       "..               ...                                                ...   \n",
       "260  Journal Article   As a zoonotic disease that has already spread...   \n",
       "261  Journal Article   The novel coronavirus disease 2019 has rapidl...   \n",
       "262  Journal Article   BACKGROUND: In December 2019, the coronavirus...   \n",
       "263  Journal Article   In the event of a global infectious pandemic,...   \n",
       "264  Journal Article   BACKGROUND: Coronavirus disease 2019<br>(COVI...   \n",
       "\n",
       "     abstract_word_count  body_word_count  body_unique_words language  \\\n",
       "0                    321              321                189       en   \n",
       "1                    205              205                141       en   \n",
       "2                    256              256                151       en   \n",
       "3                    448              448                275       en   \n",
       "4                    272              272                175       en   \n",
       "..                   ...              ...                ...      ...   \n",
       "260                  362              362                207       en   \n",
       "261                  167              167                111       en   \n",
       "262                  247              247                149       en   \n",
       "263                  231              231                160       en   \n",
       "264                  279              279                189       en   \n",
       "\n",
       "                                        processed_text  \n",
       "0    introduction clear asthma frequent chronic dis...  \n",
       "1    march world health organization declare corona...  \n",
       "2    objective coronavirus disease  covid- pandemic...  \n",
       "3    importance sars cov- entry require tmprss cell...  \n",
       "4    background chronic condition associate high ri...  \n",
       "..                                                 ...  \n",
       "260  zoonotic disease spread globally million human...  \n",
       "261  novel coronavirus disease  rapidly increase pa...  \n",
       "262  background december coronavirus disease  covid...  \n",
       "263  event global infectious pandemic drastic measu...  \n",
       "264  background coronavirus disease  covid- cause s...  \n",
       "\n",
       "[264 rows x 12 columns]"
      ]
     },
     "execution_count": 525,
     "metadata": {},
     "output_type": "execute_result"
    }
   ],
   "source": [
    "df"
   ]
  },
  {
   "cell_type": "markdown",
   "metadata": {
    "id": "U-brgMCWewo-"
   },
   "source": [
    "## Vectorisation (TF-IDF)"
   ]
  },
  {
   "cell_type": "code",
   "execution_count": 470,
   "metadata": {
    "colab": {
     "base_uri": "https://localhost:8080/"
    },
    "id": "HGd1qp_QfQ53",
    "outputId": "e54a10a3-6747-4e31-c6a5-96ce882869ae"
   },
   "outputs": [
    {
     "data": {
      "text/plain": [
       "(264, 4004)"
      ]
     },
     "execution_count": 470,
     "metadata": {},
     "output_type": "execute_result"
    }
   ],
   "source": [
    "from sklearn.feature_extraction.text import TfidfVectorizer\n",
    "def vectorize(text):\n",
    "    \n",
    "    global vectorizer \n",
    "    X = vectorizer.fit_transform(text)\n",
    "    return X\n",
    "#-----------------------------------------------------------\n",
    "text = df['processed_text'].values\n",
    "vectorizer = TfidfVectorizer(max_features= 2 ** 12)\n",
    "X = vectorize(text)\n",
    "X.shape"
   ]
  },
  {
   "cell_type": "markdown",
   "metadata": {
    "id": "v6_olh28qBvm"
   },
   "source": [
    "### Features names : "
   ]
  },
  {
   "cell_type": "code",
   "execution_count": 471,
   "metadata": {
    "id": "QfEYbfXV0y7U"
   },
   "outputs": [],
   "source": [
    "# on doit vérifier si le vectorizer prend 2**12 premiers mots ou bien par nombre d'occurences \n",
    "all_terms_tfidf = vectorizer.get_feature_names()"
   ]
  },
  {
   "cell_type": "markdown",
   "metadata": {
    "id": "HDDmnO7CsN0-"
   },
   "source": [
    "# Coclustering"
   ]
  },
  {
   "cell_type": "code",
   "execution_count": 472,
   "metadata": {
    "colab": {
     "base_uri": "https://localhost:8080/"
    },
    "id": "R5l645atkX7d",
    "outputId": "0b5d2a3b-f42e-4935-8d93-b21ce548ae12"
   },
   "outputs": [
    {
     "name": "stdout",
     "output_type": "stream",
     "text": [
      "Computing coclust modularity for a range of cluster numbers =\n",
      " 2 ...\n",
      " 3 ...\n",
      " 4 ...\n",
      " 5 ...\n",
      " 6 ...\n",
      " 7 ...\n",
      " 8 ...\n",
      " 9 ...\n",
      " All done !\n"
     ]
    }
   ],
   "source": [
    "# ** Compute the final coClust modularity on a range of number of clusters **\n",
    "\n",
    "# -- range of number of clusters\n",
    "# ---- get min\n",
    "min_cluster_nbr = 2\n",
    "max_cluster_nbr = 9\n",
    "range_n_clusters = range(min_cluster_nbr, (max_cluster_nbr+1))\n",
    "\n",
    "# -- Number of random initialization per cluster number\n",
    "n_rand_init = 1\n",
    "\n",
    "# --  max modularity for all models\n",
    "model, all_max_modularities = best_modularity_partition(X,range_n_clusters, n_rand_init)"
   ]
  },
  {
   "cell_type": "markdown",
   "metadata": {},
   "source": [
    "### Number of Co-clusters"
   ]
  },
  {
   "cell_type": "code",
   "execution_count": 473,
   "metadata": {
    "colab": {
     "base_uri": "https://localhost:8080/",
     "height": 325
    },
    "id": "y9NFtKPmmGsq",
    "outputId": "aadcca86-50dc-419a-db87-61af74053edb"
   },
   "outputs": [
    {
     "data": {
      "image/png": "[encoded data removed]",
      "text/plain": [
       "<Figure size 432x576 with 1 Axes>"
      ]
     },
     "metadata": {},
     "output_type": "display_data"
    }
   ],
   "source": [
    "# ** Plot all final modularities **\n",
    "plot_max_modularities(all_max_modularities, range_n_clusters)"
   ]
  },
  {
   "cell_type": "code",
   "execution_count": 474,
   "metadata": {
    "colab": {
     "base_uri": "https://localhost:8080/",
     "height": 325
    },
    "id": "nt5RSj5vmPcz",
    "outputId": "ebd44929-9e55-4d21-d137-7ef31af730c8"
   },
   "outputs": [
    {
     "data": {
      "image/png": "[encoded data removed]",
      "text/plain": [
       "<Figure size 432x576 with 1 Axes>"
      ]
     },
     "metadata": {},
     "output_type": "display_data"
    }
   ],
   "source": [
    "# ** Plot intermediate modularities for the best CoClust final modularity **\n",
    "plot_intermediate_modularities(model)"
   ]
  },
  {
   "cell_type": "markdown",
   "metadata": {},
   "source": [
    "## Co-clusters Mining"
   ]
  },
  {
   "cell_type": "markdown",
   "metadata": {},
   "source": [
    "### Top frequent words & co-clusters sizes"
   ]
  },
  {
   "cell_type": "code",
   "execution_count": 475,
   "metadata": {
    "colab": {
     "base_uri": "https://localhost:8080/",
     "height": 1000
    },
    "id": "TWp86PF1mWMN",
    "outputId": "d59b3652-96ca-43d7-a35c-db460fdb4151",
    "scrolled": false
   },
   "outputs": [
    {
     "data": {
      "image/png": "[encoded data removed]",
      "text/plain": [
       "<Figure size 432x576 with 1 Axes>"
      ]
     },
     "metadata": {},
     "output_type": "display_data"
    },
    {
     "data": {
      "image/png": "[encoded data removed]",
      "text/plain": [
       "<Figure size 1080x1080 with 9 Axes>"
      ]
     },
     "metadata": {},
     "output_type": "display_data"
    },
    {
     "name": "stdout",
     "output_type": "stream",
     "text": [
      "taille de chaque cluster :\n"
     ]
    },
    {
     "data": {
      "image/png": "[encoded data removed]",
      "text/plain": [
       "<Figure size 720x576 with 1 Axes>"
      ]
     },
     "metadata": {},
     "output_type": "display_data"
    }
   ],
   "source": [
    "import matplotlib.pyplot as plt\n",
    "plt.rcParams[\"figure.figsize\"] = (6,8)\n",
    "\n",
    "from coclust.visualization import (plot_reorganized_matrix,\n",
    "                                  plot_cluster_top_terms,\n",
    "                                  plot_max_modularities,\n",
    "                                  get_term_graph,\n",
    "                                  plot_convergence)\n",
    "# ** Plot top terms for each cluster and the cluster sizes **\n",
    "n_terms = 15\n",
    "# plot the reorganized matrix\n",
    "\n",
    "plot_reorganized_matrix(X, model, markersize=0.9)\n",
    "# --> top terms\n",
    "list_df = plot_cluster_top_terms(X, all_terms_tfidf, n_terms, model)\n",
    "# --> cluster sizes\n",
    "print(\"taille de chaque cluster :\")\n",
    "plot_cluster_sizes(model)"
   ]
  },
  {
   "cell_type": "code",
   "execution_count": 476,
   "metadata": {
    "id": "kF1CRUVeqBvp"
   },
   "outputs": [],
   "source": [
    "#for i in range(1,len(list_df)+1):\n",
    "#    df_tmp = list_df[i-1]\n",
    "#    df_tmp.to_csv(\"./data_covid_asthma/top_words_asthma_cocluster_\"+str(i)+\".csv\",columns = df_tmp.columns,index=False)"
   ]
  },
  {
   "cell_type": "markdown",
   "metadata": {
    "id": "7bWMhf_nqBvp"
   },
   "source": [
    "## NER (NAMED ENTITY RECOGNITION)"
   ]
  },
  {
   "cell_type": "markdown",
   "metadata": {},
   "source": [
    "### Searching desease names in every co-cluster"
   ]
  },
  {
   "cell_type": "code",
   "execution_count": 478,
   "metadata": {
    "id": "zumwqnduqBvp"
   },
   "outputs": [],
   "source": [
    "#!pip install --user https://s3-us-west-2.amazonaws.com/ai2-s2-scispacy/releases/v0.4.0/en_ner_bc5cdr_md-0.4.0.tar.gz\n",
    "import en_ner_bc5cdr_md\n",
    "nlp = spacy.load(\"en_ner_bc5cdr_md\")"
   ]
  },
  {
   "cell_type": "code",
   "execution_count": 128,
   "metadata": {
    "id": "-_uFz0RWqBvp"
   },
   "outputs": [],
   "source": [
    "#nlp = spacy.load(\"en_ner_bc5cdr_md\")\n",
    "clusters_terms=[]\n",
    "for i in range(0,model.n_clusters):\n",
    "    row_indices, col_indices = model.get_indices(i)\n",
    "    clusters_terms.append(np.array(all_terms_tfidf)[col_indices])"
   ]
  },
  {
   "cell_type": "code",
   "execution_count": 129,
   "metadata": {
    "id": "t8qVG5McqBvq",
    "outputId": "2c87d1bf-ea06-41c1-99eb-b88874bdc47c"
   },
   "outputs": [
    {
     "name": "stdout",
     "output_type": "stream",
     "text": [
      "TERM_LIST  0  :  ['anomaly', 'apnea', 'atherosclerosis', 'diarrhea', 'dyspnea', 'eosinopenia', 'erythema', 'fibrosis', 'fracture', 'ischemia', 'kawasaki', 'lethargy', 'malnutrition', 'morbilliform', 'necrotic', 'pruritus', 'purpuric', 'vasculitis']\n",
      "TERM_LIST  1  :  ['angioedema', 'bronchiolitis', 'bronchitis', 'desaturation', 'diarrhoea', 'fever', 'headache', 'lymphopenia', 'necrosis', 'pes', 'pneumothorax', 'poisoning', 'sore', 'stomachache', 'sympotomatic', 'throat', 'trauma', 'tumor']\n",
      "TERM_LIST  2  :  ['anorexia', 'arthritis', 'bradyarrhythmia', 'epilepsy', 'hla', 'nervosa', 'palsy', 'tumour']\n",
      "TERM_LIST  3  :  ['allergy', 'anaphylaxis', 'anemia', 'htn', 'hypercholesterolemia', 'hyperlipidemia', 'hypersensitivity', 'hypocalcemia', 'nausea', 'ricket', 'thrombocytopenia', 'urticaria']\n",
      "TERM_LIST  4  :  ['ageusia', 'anosmia', 'bradycardia', 'cardiopathy', 'dyspnoea', 'eosinophilia', 'febrile', 'lymphocytopenia', 'puberty']\n",
      "TERM_LIST  5  :  ['alopecia', 'canada', 'coagulopathy', 'coma', 'conjunctivitis', 'dementia', 'embolism', 'hyperandrogenism', 'hypertensive', 'pneumonia', 'prodrome', 'rash', 'seizure', 'tachypnea', 'thromboembolism', 'thrombosis', 'vte']\n",
      "TERM_LIST  6  :  ['amoebiasis', 'anxiety', 'apathy', 'death', 'dyslipidaemia', 'dyslipidemia', 'fibrillation', 'hyperglycemia', 'hypoglycaemia', 'infarct', 'infections', 'insomnia', 'ketoacidosis', 'leukopenia', 'maculopathy', 'myasthenia', 'neutropenia', 'polyposis', 'porphyria', 'prematurity', 'psoriasis', 'retinopathy', 'rhinosinusitis', 'sarcopenia', 'thromboembolic', 'tuberculosis']\n",
      "TERM_LIST  7  :  ['allergies', 'comorbidity', 'depression', 'dermatitis', 'eczema', 'hepatomegaly', 'hypertension', 'hypoxemia', 'hypoxia', 'infarction', 'irritability', 'malignancy', 'neutrophilia', 'pandemic', 'rhinitis', 'shock', 'stroke']\n",
      "TERM_LIST  8  :  ['cough', 'dysgeusia', 'fatigue', 'hypoalbuminemia', 'hypothyroidism', 'hypoxaemia', 'malperfusion', 'myalgia', 'obesity', 'pain', 'sepsis']\n"
     ]
    }
   ],
   "source": [
    "deseases_per_cluster=  {}\n",
    "desease=[]\n",
    "\n",
    "for j in range(0,len(clusters_terms)):\n",
    "    for i in clusters_terms[j]:\n",
    "        doc = nlp(str(i))  \n",
    "        word = [e.text for e in doc.ents if (e.label_ == \"DISEASE\")]\n",
    "        if len(word)!=0 : desease.append(word[0])\n",
    "    deseases_per_cluster[j] =desease\n",
    "    print(\"TERM_LIST \",j, \" : \" ,desease)\n",
    "    desease=[]\n",
    " "
   ]
  },
  {
   "cell_type": "code",
   "execution_count": 130,
   "metadata": {},
   "outputs": [],
   "source": [
    "for i in range(1,len(deseases_per_cluster)+1):\n",
    "    text = \" \".join(word for word in deseases_per_cluster[i-1])\n",
    "    word_cloud = WordCloud(collocations = False, background_color = 'white').generate(text)\n",
    "    word_cloud.to_file(\"./data_covid_asthma/NER_asthma_cocluster_\"+str(i)+\".png\")\n",
    "    #------\n",
    "    df_tmp = pd.DataFrame(deseases_per_cluster[i-1],columns =['DESEASE'])\n",
    "    df_tmp.to_csv(\"./data_covid_asthma/NER_asthma_cocluster_\"+str(i)+\".csv\",columns = df_tmp.columns,index=False)"
   ]
  },
  {
   "cell_type": "markdown",
   "metadata": {
    "id": "IYs7SDPOqBvq"
   },
   "source": [
    "## Similarity Graph"
   ]
  },
  {
   "cell_type": "code",
   "execution_count": 416,
   "metadata": {},
   "outputs": [],
   "source": [
    "import json\n",
    "\n",
    "def save_pet(filename,pet):\n",
    "    with open(filename, 'w') as f:\n",
    "        f.write(json.dumps(pet))\n",
    "        \n",
    "#---------------------------------\n",
    "\n",
    "def load_pet(filename):\n",
    "    with open(filename) as f:\n",
    "        pet = json.loads(f.read())\n",
    "    return pet\n"
   ]
  },
  {
   "cell_type": "code",
   "execution_count": 177,
   "metadata": {},
   "outputs": [
    {
     "name": "stdout",
     "output_type": "stream",
     "text": [
      "./data_covid_obesity/graph_obesity_cocluster_1\n",
      "./data_covid_obesity/graph_obesity_cocluster_2\n",
      "./data_covid_obesity/graph_obesity_cocluster_3\n",
      "./data_covid_obesity/graph_obesity_cocluster_4\n"
     ]
    }
   ],
   "source": [
    "for i in range(1,model.n_clusters+1):\n",
    "    print(\"./data_covid_obesity/graph_obesity_cocluster_\"+str(i))"
   ]
  },
  {
   "cell_type": "code",
   "execution_count": 238,
   "metadata": {},
   "outputs": [],
   "source": [
    "nb_voisin = 3\n",
    "nb_top_words = 15\n",
    "for i in range(1,model.n_clusters+1):\n",
    "    graph = get_term_graph(X,model, all_terms_tfidf, i-1, nb_top_words, nb_voisin)\n",
    "    for j in range(len(graph[\"nodes\"])):\n",
    "        doc = nlp(str(graph[\"nodes\"][j][\"name\"]))\n",
    "        if len(doc.ents) != 0:\n",
    "            if doc.ents[0].label_ == \"DISEASE\":\n",
    "                graph[\"nodes\"][i][\"group\"] = 2\n",
    "    save_pet(\"./data_covid_asthma/graph_asthma_cocluster_\"+str(i),graph)"
   ]
  },
  {
   "cell_type": "code",
   "execution_count": 519,
   "metadata": {
    "id": "eGNFFuuonCvs"
   },
   "outputs": [],
   "source": [
    "# ** Plot the term graph for a given cluster of terms **\n",
    "graph = get_term_graph(X,model, all_terms_tfidf, 8, 15, 3)"
   ]
  },
  {
   "cell_type": "code",
   "execution_count": 520,
   "metadata": {
    "id": "VlHinUXJqBvq"
   },
   "outputs": [],
   "source": [
    "for i in range(len(graph[\"nodes\"])):\n",
    "    doc = nlp(str(graph[\"nodes\"][i][\"name\"]))\n",
    "    if len(doc.ents) != 0:\n",
    "        if doc.ents[0].label_ == \"DISEASE\":\n",
    "            graph[\"nodes\"][i][\"group\"] = 2"
   ]
  },
  {
   "cell_type": "code",
   "execution_count": 521,
   "metadata": {
    "colab": {
     "base_uri": "https://localhost:8080/",
     "height": 17
    },
    "id": "VIudim2rp1ii",
    "outputId": "2b53eefb-77a8-41cc-db70-dc4a341340ff"
   },
   "outputs": [
    {
     "data": {
      "application/javascript": [
       "require.config({\n",
       "  paths: {\n",
       "      d3: '//cdnjs.cloudflare.com/ajax/libs/d3/3.4.8/d3.min'\n",
       "  }\n",
       "});\n"
      ],
      "text/plain": [
       "<IPython.core.display.Javascript object>"
      ]
     },
     "metadata": {},
     "output_type": "display_data"
    }
   ],
   "source": [
    "%%javascript\n",
    "require.config({\n",
    "  paths: {\n",
    "      d3: '//cdnjs.cloudflare.com/ajax/libs/d3/3.4.8/d3.min'\n",
    "  }\n",
    "});"
   ]
  },
  {
   "cell_type": "code",
   "execution_count": 522,
   "metadata": {
    "colab": {
     "base_uri": "https://localhost:8080/",
     "height": 17
    },
    "id": "thW3FvTXp3i5",
    "outputId": "e3c943ee-2e38-47db-aa42-2f3e930080d5"
   },
   "outputs": [
    {
     "data": {
      "application/javascript": [
       "\n",
       "           window.graph={'nodes': [{'name': 'pregnancy', 'group': 0}, {'name': 'coronavirus', 'group': 0}, {'name': 'obesity', 'group': 2}, {'name': 'ar', 'group': 0}, {'name': 'adult', 'group': 0}, {'name': 'score', 'group': 0}, {'name': 'individual', 'group': 0}, {'name': 'hae', 'group': 0}, {'name': 'preterm', 'group': 0}, {'name': 'predictor', 'group': 0}, {'name': 'rate', 'group': 0}, {'name': 'cinh', 'group': 0}, {'name': 'birth', 'group': 0}, {'name': 'eosinophil', 'group': 0}, {'name': 'infect', 'group': 0}, {'name': 'paper', 'group': 1}, {'name': 'ameliorate', 'group': 1}, {'name': 'arouse', 'group': 1}, {'name': 'attribute', 'group': 1}, {'name': 'height', 'group': 1}, {'name': 'bmi', 'group': 1}, {'name': 'ratio', 'group': 1}, {'name': 'childhood', 'group': 1}, {'name': 'interest', 'group': 1}, {'name': 'clearance', 'group': 1}, {'name': 'kallikrein', 'group': 1}, {'name': 'kinin', 'group': 1}, {'name': 'conclusive', 'group': 1}, {'name': 'confidence', 'group': 1}, {'name': 'leishenshan', 'group': 1}, {'name': 'malperfusion', 'group': 2}, {'name': 'cxr', 'group': 1}, {'name': 'state', 'group': 1}, {'name': 'subcutaneous', 'group': 1}, {'name': 'depend', 'group': 1}, {'name': 'symptomatology', 'group': 1}, {'name': 'despite', 'group': 1}], 'links': [{'source': 1, 'target': 15, 'value': 0.7510629794854323}, {'source': 1, 'target': 10, 'value': 0.740163142726873}, {'source': 2, 'target': 16, 'value': 0.753107945352099}, {'source': 2, 'target': 17, 'value': 0.727509732285867}, {'source': 3, 'target': 18, 'value': 1.0}, {'source': 3, 'target': 19, 'value': 1.0}, {'source': 4, 'target': 20, 'value': 0.6689493208130447}, {'source': 4, 'target': 21, 'value': 0.6689493208130447}, {'source': 5, 'target': 22, 'value': 0.7114331887165158}, {'source': 5, 'target': 23, 'value': 0.7114331887165158}, {'source': 6, 'target': 24, 'value': 0.8634540983688609}, {'source': 6, 'target': 25, 'value': 0.8538249541407472}, {'source': 7, 'target': 26, 'value': 1.0}, {'source': 7, 'target': 27, 'value': 1.0}, {'source': 7, 'target': 28, 'value': 1.0}, {'source': 8, 'target': 12, 'value': 0.9979073166990835}, {'source': 8, 'target': 29, 'value': 0.9605511849297892}, {'source': 9, 'target': 30, 'value': 0.7983025705560227}, {'source': 9, 'target': 31, 'value': 0.735622428424396}, {'source': 10, 'target': 32, 'value': 0.8531891608548116}, {'source': 10, 'target': 33, 'value': 0.8531891608548116}, {'source': 11, 'target': 33, 'value': 1.0}, {'source': 11, 'target': 33, 'value': 1.0}, {'source': 11, 'target': 33, 'value': 1.0}, {'source': 12, 'target': 33, 'value': 0.976523366197881}, {'source': 13, 'target': 33, 'value': 1.0}, {'source': 13, 'target': 34, 'value': 1.0}, {'source': 13, 'target': 35, 'value': 1.0}, {'source': 14, 'target': 35, 'value': 0.8181829454869617}, {'source': 14, 'target': 36, 'value': 0.8181829454869617}]};\n",
       "           "
      ],
      "text/plain": [
       "<IPython.core.display.Javascript object>"
      ]
     },
     "execution_count": 522,
     "metadata": {},
     "output_type": "execute_result"
    }
   ],
   "source": [
    " from IPython.display import Javascript\n",
    " #runs arbitrary javascript, client-side\n",
    " Javascript(\"\"\"\n",
    "            window.graph={};\n",
    "            \"\"\".format(graph))"
   ]
  },
  {
   "cell_type": "code",
   "execution_count": 523,
   "metadata": {
    "id": "5voMukEdp7Us",
    "outputId": "63eb975d-743c-40ee-f106-26740acf2e4e",
    "scrolled": false
   },
   "outputs": [
    {
     "data": {
      "application/javascript": [
       " require(['d3'], function(d3){\n",
       "   //a weird idempotency thing\n",
       "   $(\"#chart1\").remove();\n",
       "   //create canvas\n",
       "   element.append(\"<div id='chart1'></div>\");\n",
       "   $(\"#chart1\").width(\"1160px\");\n",
       "   $(\"#chart1\").height(\"800px\");        \n",
       "   var margin = {top: 20, right: 20, bottom: 30, left: 40};\n",
       "   var width = 1280 - margin.left - margin.right;\n",
       "   var height = 800 - margin.top - margin.bottom;\n",
       "   var svg = d3.select(\"#chart1\").append(\"svg\")\n",
       "     .style(\"position\", \"relative\")\n",
       "     .style(\"max-width\", \"960px\")\n",
       "     .attr(\"width\", width + \"px\")\n",
       "     .attr(\"height\", (height + 50) + \"px\")\n",
       "     .call(d3.behavior.zoom().on(\"zoom\", redraw))\n",
       "     .append(\"g\")\n",
       "     .attr(\"transform\", \"translate(\" + margin.left + \",\" + margin.top + \")\");\n",
       "    \n",
       "    \n",
       "   function redraw() {\n",
       "       svg.attr(\"transform\",\n",
       "                \"translate(\" + d3.event.translate + \")\"\n",
       "                + \" scale(\" + d3.event.scale + \")\");\n",
       "   }   \n",
       "   var color = d3.scale.category20();\n",
       "   var force = d3.layout.force()\n",
       "     .charge(-500)\n",
       "     //.linkDistance(5)\n",
       "     .linkDistance(function(d) { return (1 - d.value); })\n",
       "     .size([width, height]);\n",
       "   var graph = window.graph;\n",
       "   \n",
       "   force\n",
       "       .nodes(graph.nodes)\n",
       "       .links(graph.links)\n",
       "       .start();\n",
       "\n",
       "   var link = svg.selectAll(\".link\")\n",
       "       .data(graph.links)\n",
       "       .enter().append(\"line\")\n",
       "       .attr(\"class\", \"link\")\n",
       "       .style(\"stroke\", \"#999;\")\n",
       "       .style(\"stroke-opacity\", .6)\n",
       "       .style(\"stroke-width\", function(d) { return Math.sqrt(d.value); })\n",
       " \n",
       "       .style(\"stroke\", \"blue\");\n",
       "   var node = svg.selectAll(\".node\")\n",
       "       .data(graph.nodes)\n",
       "       .enter().append(\"g\")\n",
       "       .attr(\"class\", \"node\")\n",
       "       .call(force.drag);\n",
       "   \n",
       "   node.append(\"circle\")\n",
       "       .attr(\"class\", \"node_circle\")\n",
       "       .attr(\"r\", 8)\n",
       "       .style(\"fill\", function(d) { if (d.group == \"2\") {return \"red\";} else{return color(d.group);} });\n",
       "   node.append(\"text\")\n",
       "       .attr(\"class\", \"node_text\")\n",
       "       .attr(\"dx\", 12)\n",
       "       .attr(\"dy\", \".35em\")\n",
       "       .text(function(d) { return d.name });\n",
       "   node.append(\"title\")\n",
       "       .text(function(d) { return d.name; });\n",
       "   var node_text = svg.selectAll(\".node_text\");\n",
       "   var node_circle = svg.selectAll(\".node_circle\");\n",
       "   \n",
       "   force.on(\"tick\", function() {\n",
       "     link.attr(\"x1\", function(d) { return d.source.x; })\n",
       "         .attr(\"y1\", function(d) { return d.source.y; })\n",
       "         .attr(\"x2\", function(d) { return d.target.x; })\n",
       "         .attr(\"y2\", function(d) { return d.target.y; });\n",
       "     node_circle.attr(\"cx\", function(d) { return d.x; })\n",
       "         .attr(\"cy\", function(d) { return d.y; });\n",
       "     \n",
       "     node_text.attr(\"x\", function(d) { return d.x; })\n",
       "         .attr(\"y\", function(d) { return d.y; });\n",
       "   });\n",
       "       \n",
       " });\n"
      ],
      "text/plain": [
       "<IPython.core.display.Javascript object>"
      ]
     },
     "metadata": {},
     "output_type": "display_data"
    }
   ],
   "source": [
    "%%javascript\n",
    " require(['d3'], function(d3){\n",
    "   //a weird idempotency thing\n",
    "   $(\"#chart1\").remove();\n",
    "   //create canvas\n",
    "   element.append(\"<div id='chart1'></div>\");\n",
    "   $(\"#chart1\").width(\"1160px\");\n",
    "   $(\"#chart1\").height(\"800px\");        \n",
    "   var margin = {top: 20, right: 20, bottom: 30, left: 40};\n",
    "   var width = 1280 - margin.left - margin.right;\n",
    "   var height = 800 - margin.top - margin.bottom;\n",
    "   var svg = d3.select(\"#chart1\").append(\"svg\")\n",
    "     .style(\"position\", \"relative\")\n",
    "     .style(\"max-width\", \"960px\")\n",
    "     .attr(\"width\", width + \"px\")\n",
    "     .attr(\"height\", (height + 50) + \"px\")\n",
    "     .call(d3.behavior.zoom().on(\"zoom\", redraw))\n",
    "     .append(\"g\")\n",
    "     .attr(\"transform\", \"translate(\" + margin.left + \",\" + margin.top + \")\");\n",
    "    \n",
    "    \n",
    "   function redraw() {\n",
    "       svg.attr(\"transform\",\n",
    "                \"translate(\" + d3.event.translate + \")\"\n",
    "                + \" scale(\" + d3.event.scale + \")\");\n",
    "   }   \n",
    "   var color = d3.scale.category20();\n",
    "   var force = d3.layout.force()\n",
    "     .charge(-500)\n",
    "     //.linkDistance(5)\n",
    "     .linkDistance(function(d) { return (1 - d.value); })\n",
    "     .size([width, height]);\n",
    "   var graph = window.graph;\n",
    "   \n",
    "   force\n",
    "       .nodes(graph.nodes)\n",
    "       .links(graph.links)\n",
    "       .start();\n",
    "\n",
    "   var link = svg.selectAll(\".link\")\n",
    "       .data(graph.links)\n",
    "       .enter().append(\"line\")\n",
    "       .attr(\"class\", \"link\")\n",
    "       .style(\"stroke\", \"#999;\")\n",
    "       .style(\"stroke-opacity\", .6)\n",
    "       .style(\"stroke-width\", function(d) { return Math.sqrt(d.value); })\n",
    " \n",
    "       .style(\"stroke\", \"blue\");\n",
    "   var node = svg.selectAll(\".node\")\n",
    "       .data(graph.nodes)\n",
    "       .enter().append(\"g\")\n",
    "       .attr(\"class\", \"node\")\n",
    "       .call(force.drag);\n",
    "   \n",
    "   node.append(\"circle\")\n",
    "       .attr(\"class\", \"node_circle\")\n",
    "       .attr(\"r\", 8)\n",
    "       .style(\"fill\", function(d) { if (d.group == \"2\") {return \"red\";} else{return color(d.group);} });\n",
    "   node.append(\"text\")\n",
    "       .attr(\"class\", \"node_text\")\n",
    "       .attr(\"dx\", 12)\n",
    "       .attr(\"dy\", \".35em\")\n",
    "       .text(function(d) { return d.name });\n",
    "   node.append(\"title\")\n",
    "       .text(function(d) { return d.name; });\n",
    "   var node_text = svg.selectAll(\".node_text\");\n",
    "   var node_circle = svg.selectAll(\".node_circle\");\n",
    "   \n",
    "   force.on(\"tick\", function() {\n",
    "     link.attr(\"x1\", function(d) { return d.source.x; })\n",
    "         .attr(\"y1\", function(d) { return d.source.y; })\n",
    "         .attr(\"x2\", function(d) { return d.target.x; })\n",
    "         .attr(\"y2\", function(d) { return d.target.y; });\n",
    "     node_circle.attr(\"cx\", function(d) { return d.x; })\n",
    "         .attr(\"cy\", function(d) { return d.y; });\n",
    "     \n",
    "     node_text.attr(\"x\", function(d) { return d.x; })\n",
    "         .attr(\"y\", function(d) { return d.y; });\n",
    "   });\n",
    "       \n",
    " });"
   ]
  },
  {
   "cell_type": "markdown",
   "metadata": {
    "id": "qI7iLi0eqIAC"
   },
   "source": [
    "## DATAVIZ (APP Streamlit ) : "
   ]
  },
  {
   "cell_type": "code",
   "execution_count": 2,
   "metadata": {
    "colab": {
     "base_uri": "https://localhost:8080/",
     "height": 1000
    },
    "id": "lc6rXqKzqHzG",
    "outputId": "55ba0f25-218c-42d0-f771-25f7950ea1eb"
   },
   "outputs": [],
   "source": [
    "!pip install streamlit\n",
    "from google.colab import drive\n",
    "drive.mount('/content/drive')"
   ]
  },
  {
   "cell_type": "code",
   "execution_count": 8,
   "metadata": {
    "colab": {
     "base_uri": "https://localhost:8080/"
    },
    "id": "B7_ySUJRqEEv",
    "outputId": "0b59f6b0-da3b-4edd-cfad-fcfcbd3845bb"
   },
   "outputs": [
    {
     "name": "stdout",
     "output_type": "stream",
     "text": [
      "Writing app.py\n"
     ]
    }
   ],
   "source": [
    "%%writefile app.py\n",
    "from os import sep\n",
    "import streamlit as st\n",
    "from datetime import datetime\n",
    "import streamlit as st\n",
    "from vega_datasets import data\n",
    "import pandas as pd\n",
    "from PIL import Image\n",
    "import matplotlib.pyplot as plt\n",
    "import seaborn as sns\n",
    "\n",
    "#--------------------------------------------------------------------------------\n",
    "st.set_page_config(layout=\"wide\", page_icon=\"microbe\", page_title=\"Covid19 Severity app\")\n",
    "st.title(\"🦠 Covid-19 severity factors\")\n",
    "st.sidebar.title(\" 🦠 Covid-19 severity factors\")\n",
    "\n",
    "with st.expander(\"ℹ️ - About this app\", expanded=False):\n",
    "\n",
    "    st.write(\n",
    "        \"\"\"     \n",
    "Ce projet vise tout d’abord à identifier les profils de patients susceptibles de développer une forme grave de la maladie. Parallèlement à ce travail, il est également demander d’identifier les comorbidités principales en lien avec la COVID19. Plus précisémment, il s’agit d’identifier des marqueurs de prédictions d’intérêt pour la sévérité de la maladies\n",
    "-   (1) Ce PPD a pour premier objectif d’analyser une corpus biomédical autour de la COVID19, et plus particulièrement des comorbidités et des facteurs de sévérité de la maladie.\n",
    "-   (2) Le second objectif de ce projet est l’exploitation d’approche de fouille de texte et de NLP pour l’identification de ces facteurs et de leurs interactions..\n",
    "\t    \"\"\"\n",
    "    )\n",
    "    \n",
    "st.markdown(\"\")\n",
    "st.markdown(\"## 📄 Articles : \")\n",
    "#--------------------------------------------------------------------------------\n",
    "#--------------------------------Functions---------------------------------------\n",
    "#--------------------------------------------------------------------------------\n",
    "\n",
    "def space(num_lines=1):\n",
    "    \"\"\"Adds empty lines to the Streamlit app.\"\"\"\n",
    "    for _ in range(num_lines):\n",
    "        st.write(\"\")\n",
    "\n",
    "#---------------------------------------------------------------------------------\n",
    "# Key words\n",
    "option = st.sidebar.selectbox(\n",
    "     'Choose words to creat dataset :',\n",
    "     #('Covid19 & Severity',\n",
    "      ('Covid19 & Severity & Obesity',\n",
    "      'Covid19 & Severity & Asthma',\n",
    "      'Covid19 & Severity & Cancer',\n",
    "      'Covid19 & Severity & Pneumonia',\n",
    "      'Covid19 & Severity & Diabetes',\n",
    "      'Covid19 & Severity & Hypertension')\n",
    "     )\n",
    "st.sidebar.write('You selected   :', option)\n",
    "\n",
    "#---------------------------------------------------------------------------------\n",
    "# number of articles to fetch\n",
    "nb = st.sidebar.slider('choose the number of articles to fetch', 0,10000,500)\n",
    "st.sidebar.write(\"You choosed    :\", nb, ' articles')\n",
    "space(1)\n",
    "\n",
    "#--------------------------------------------------------------------------------------------------------------------------------\n",
    "#--------------------------------------------------------------------------------------------------------------------------------\n",
    "#----------------------------------------\"Covid19 & Severity & Asthma\"-----------------------------------------------------------\n",
    "#--------------------------------------------------------------------------------------------------------------------------------\n",
    "#--------------------------------------------------------------------------------------------------------------------------------\n",
    "  \n",
    "if (option==\"Covid19 & Severity & Asthma\"):\n",
    "    df = pd.read_csv(\"/content/drive/MyDrive/PPD 2022/Datasets/Covid19 & Severity & Asthma/text_cleaned_asthma_alldf.csv\") \n",
    "    df.drop(columns=\"Unnamed: 0\",inplace=True) \n",
    "    linkTopWords = \"/content/drive/MyDrive/PPD 2022/Datasets/Covid19 & Severity & Asthma/top_words_asthma_cocluster_\"\n",
    "    nbClusters = 9\n",
    "    expander = st.expander(\"See all articles :\", expanded=True)\n",
    "    with expander:\n",
    "    st.dataframe(df.head(nb))\n",
    "    #--------------------------------------------------------------------------------------------------------------------------------\n",
    "    st.header(\"\")\n",
    "    st.markdown(\"## 📊 Clusters : \")\n",
    "    expander = st.expander(\"Clusters size :\", expanded=False)\n",
    "    with expander:\n",
    "    image = st.image(\"/content/drive/MyDrive/PPD 2022/Datasets/Covid19 & Severity & Asthma/clusters_size_asthma.png\")\n",
    "    selectedCluster = st.selectbox('Select the cluster number  :',('1', '2', '3','4','5','6','7','8','9'))\n",
    "    linkSimilarity = \"/content/drive/MyDrive/PPD 2022/Datasets/Covid19 & Severity & Asthma/clusters_size_asthma.png\"\n",
    "    linkNER = \"/content/drive/MyDrive/PPD 2022/Datasets/Covid19 & Severity & Asthma/clusters_size_asthma.png\"\n",
    "#--------------------------------------------------------------------------------------------------------------------------------\n",
    "#--------------------------------------------------------------------------------------------------------------------------------\n",
    "#----------------------------------------\"Covid19 & Severity & Cancer\"-----------------------------------------------------------\n",
    "#--------------------------------------------------------------------------------------------------------------------------------\n",
    "#--------------------------------------------------------------------------------------------------------------------------------  \n",
    "elif (option==\"Covid19 & Severity & Cancer\"):\n",
    "    df = pd.read_csv(\"/content/drive/MyDrive/PPD 2022/Datasets/Covid19 & Severity & Cancer/text_cleaned_cancer_alldf.csv\")  \n",
    "    linkTopWords = \"/content/drive/MyDrive/PPD 2022/Datasets/Covid19 & Severity & Cancer/top_words_cancer_cocluster_\"\n",
    "    nbClusters = 3\n",
    "    df.drop(columns=\"Unnamed: 0\",inplace=True)\n",
    "    expander = st.expander(\"See all articles :\", expanded=True)\n",
    "    with expander:\n",
    "    st.dataframe(df.head(nb))\n",
    "    #--------------------------------------------------------------------------------------------------------------------------------\n",
    "    st.header(\"\")\n",
    "    st.markdown(\"## 📊 Clusters : \")\n",
    "    expander = st.expander(\"Cluster sizes :\", expanded=False)\n",
    "    with expander:\n",
    "    image = st.image(\"/content/drive/MyDrive/PPD 2022/Datasets/Covid19 & Severity & Cancer/clusters_size_cancer.png\")\n",
    "    selectedCluster = st.selectbox('Select the cluster number  :',('1', '2', '3'))\n",
    "    linkSimilarity = \"/content/drive/MyDrive/PPD 2022/Datasets/Covid19 & Severity & Cancer/clusters_size_cancer.png\"\n",
    "    linkNER = \"/content/drive/MyDrive/PPD 2022/Datasets/Covid19 & Severity & Cancer/clusters_size_cancer.png\"\n",
    "\n",
    "#--------------------------------------------------------------------------------------------------------------------------------\n",
    "#--------------------------------------------------------------------------------------------------------------------------------\n",
    "#----------------------------------------\"Covid19 & Severity & Diabetes\"-----------------------------------------------------------\n",
    "#--------------------------------------------------------------------------------------------------------------------------------\n",
    "#-------------------------------------------------------------------------------------------------------------------------------- \n",
    "elif (option==\"Covid19 & Severity & Diabetes\"):\n",
    "    df = pd.read_csv(\"/content/drive/MyDrive/PPD 2022/Datasets/Covid19 & Severity & Diabetes/text_cleaned_diabetes_alldf.csv\")\n",
    "    linkTopWords = \"/content/drive/MyDrive/PPD 2022/Datasets/Covid19 & Severity & Diabetes/top_words_diabetes_cocluster_\"\n",
    "    nbClusters = 5  \n",
    "    df.drop(columns=\"Unnamed: 0\",inplace=True)\n",
    "    expander = st.expander(\"See all articles :\", expanded=True)\n",
    "    with expander:\n",
    "    st.dataframe(df.head(nb))\n",
    "    #--------------------------------------------------------------------------------------------------------------------------------\n",
    "    st.header(\"\")\n",
    "    st.markdown(\"## 📊 Clusters : \")\n",
    "    expander = st.expander(\"Cluster sizes :\", expanded=False)\n",
    "    with expander:\n",
    "    image = st.image(\"/content/drive/MyDrive/PPD 2022/Datasets/Covid19 & Severity & Diabetes/clusters_size_diabetes.png\")\n",
    "    selectedCluster = st.selectbox('Select the cluster number  :',('1', '2', '3','4','5'))\n",
    "    linkSimilarity = \"/content/drive/MyDrive/PPD 2022/Datasets/Covid19 & Severity & Diabetes/clusters_size_diabetes.png\"\n",
    "    linkNER =  \"/content/drive/MyDrive/PPD 2022/Datasets/Covid19 & Severity & Diabetes/clusters_size_diabetes.png\"\n",
    "\n",
    "#--------------------------------------------------------------------------------------------------------------------------------\n",
    "#--------------------------------------------------------------------------------------------------------------------------------\n",
    "#----------------------------------------\"Covid19 & Severity & Hypertension\"-----------------------------------------------------------\n",
    "#--------------------------------------------------------------------------------------------------------------------------------\n",
    "#--------------------------------------------------------------------------------------------------------------------------------\n",
    "elif (option==\"Covid19 & Severity & Hypertension\"):\n",
    "    df = pd.read_csv(\"/content/drive/MyDrive/PPD 2022/Datasets/Covid19 & Severity & Hypertension/text_cleaned_hypertension_alldf.csv\")\n",
    "    linkTopWords = \"/content/drive/MyDrive/PPD 2022/Datasets/Covid19 & Severity & Hypertension/top_words_hypertension_cocluster_\"\n",
    "    nbClusters = 5\n",
    "    df.drop(columns=\"Unnamed: 0\",inplace=True)\n",
    "    expander = st.expander(\"See all articles :\", expanded=True)\n",
    "    with expander:\n",
    "    st.dataframe(df.head(nb))\n",
    "    #--------------------------------------------------------------------------------------------------------------------------------\n",
    "    st.header(\"\")\n",
    "    st.markdown(\"## 📊 Clusters : \")\n",
    "    expander = st.expander(\"Cluster sizes :\", expanded=False)\n",
    "    with expander:\n",
    "    image = st.image(\"/content/drive/MyDrive/PPD 2022/Datasets/Covid19 & Severity & Hypertension/clusters_size_hypertension.png\")\n",
    "    selectedCluster = st.selectbox('Select the cluster number  :',('1', '2', '3','4','5'))\n",
    "    linkSimilarity = \"/content/drive/MyDrive/PPD 2022/Datasets/Covid19 & Severity & Hypertension/clusters_size_hypertension.png\"\n",
    "    linkNER = \"/content/drive/MyDrive/PPD 2022/Datasets/Covid19 & Severity & Hypertension/clusters_size_hypertension.png\"\n",
    "\n",
    "#--------------------------------------------------------------------------------------------------------------------------------\n",
    "#--------------------------------------------------------------------------------------------------------------------------------\n",
    "#----------------------------------------\"Covid19 & Severity & Obesity\"-----------------------------------------------------------\n",
    "#--------------------------------------------------------------------------------------------------------------------------------\n",
    "#--------------------------------------------------------------------------------------------------------------------------------  \n",
    "elif (option==\"Covid19 & Severity & Obesity\"):\n",
    "    df = pd.read_csv(\"/content/drive/MyDrive/PPD 2022/Datasets/Covid19 & Severity & Obesity/text_cleaned_obesity_alldf.csv\")  \n",
    "    linkTopWords = \"/content/drive/MyDrive/PPD 2022/Datasets/Covid19 & Severity & Obesity/top_words_obesity_cocluster_\"\n",
    "    nbClusters = 4\n",
    "    df.drop(columns=\"Unnamed: 0\",inplace=True)\n",
    "    expander = st.expander(\"See all articles :\", expanded=True)\n",
    "    with expander:\n",
    "    st.dataframe(df.head(nb))\n",
    "    #--------------------------------------------------------------------------------------------------------------------------------\n",
    "    st.header(\"\")\n",
    "    st.markdown(\"## 📊 Clusters : \")\n",
    "    expander = st.expander(\"Cluster sizes :\", expanded=False)\n",
    "    with expander:\n",
    "    image = st.image(\"/content/drive/MyDrive/PPD 2022/Datasets/Covid19 & Severity & Obesity/clusters_size_obesity.png\")\n",
    "    selectedCluster = st.selectbox('Select the cluster number  :',('1', '2', '3','4'))\n",
    "    linkSimilarity = \"/content/drive/MyDrive/PPD 2022/Datasets/Covid19 & Severity & Obesity/clusters_size_obesity.png\"\n",
    "    linkNER = \"/content/drive/MyDrive/PPD 2022/Datasets/Covid19 & Severity & Obesity/clusters_size_obesity.png\"\n",
    "\n",
    "#--------------------------------------------------------------------------------------------------------------------------------\n",
    "#--------------------------------------------------------------------------------------------------------------------------------\n",
    "#----------------------------------------\"Covid19 & Severity & Pneumonia\"-----------------------------------------------------------\n",
    "#--------------------------------------------------------------------------------------------------------------------------------\n",
    "#-------------------------------------------------------------------------------------------------------------------------------- \n",
    "elif (option==\"Covid19 & Severity & Pneumonia\"):\n",
    "    df = pd.read_csv(\"/content/drive/MyDrive/PPD 2022/Datasets/Covid19 & Severity & Pneumonia/text_cleaned_pneumonia_alldf.csv\")\n",
    "    linkTopWords = \"/content/drive/MyDrive/PPD 2022/Datasets/Covid19 & Severity & Pneumonia/top_words_pneumonia_cocluster_\"\n",
    "    nbClusters = 5  \n",
    "    df.drop(columns=\"Unnamed: 0\",inplace=True)\n",
    "    expander = st.expander(\"See all articles :\", expanded=True)\n",
    "    with expander:\n",
    "    st.dataframe(df.head(nb))\n",
    "    #--------------------------------------------------------------------------------------------------------------------------------\n",
    "    st.header(\"\")\n",
    "    st.markdown(\"## 📊 Clusters : \")\n",
    "    expander = st.expander(\"Cluster sizes :\", expanded=False)\n",
    "    with expander:\n",
    "    image = st.image(\"/content/drive/MyDrive/PPD 2022/Datasets/Covid19 & Severity & Pneumonia/clusters_size_pneumonia.png\")\n",
    "    selectedCluster = st.selectbox('Select the cluster number  :',('1', '2', '3','4','5'))\n",
    "    linkSimilarity = \"/content/drive/MyDrive/PPD 2022/Datasets/Covid19 & Severity & Pneumonia/clusters_size_pneumonia.png\"\n",
    "    linkNER = \"/content/drive/MyDrive/PPD 2022/Datasets/Covid19 & Severity & Pneumonia/clusters_size_pneumonia.png\"\n",
    "#----------------------------------------------------------------------------------------------------------------------------\n",
    "st.markdown(\"\")\n",
    "st.sidebar.write('You selected   :', option)\n",
    "#----------------------------------------------------------------------------------------------------------------------------\n",
    "c1, c2= st.columns([4,6])\n",
    "expander = st.expander(\"See plot :\")\n",
    "with expander:\n",
    "    link = linkTopWords+str(selectedCluster)+\".csv\"\n",
    "    cluster = pd.read_csv(link)\n",
    "    cluster = cluster.sort_values(by=['count'],ascending=False)\n",
    "    #---------------------------------------------------------\n",
    "    fig = plt.figure(figsize=(8, 2))\n",
    "    ax = sns.barplot(x=\"words\", y=\"count\", data=cluster.head(20), alpha=0.9)\n",
    "    ax.set_xticklabels(ax.get_xticklabels(),rotation = 90)\n",
    "    with expander:\n",
    "    c1.write(cluster)\n",
    "    with expander:\n",
    "    c2.pyplot(fig)\n",
    "#----------------------------------------------------------------------------------------------------------------------------\n",
    "st.header(\"\")\n",
    "st.markdown(\"## 🧬 Similarities : \")\n",
    "expander2 = st.expander(\"Similarities  :\", expanded=False)\n",
    "with expander2:\n",
    "    image2 = st.image(linkSimilarity)\n",
    "#----------------------------------------------------------------------------------------------------------------------------\n",
    "st.header(\"\")\n",
    "st.markdown(\"## 📌 NER Named Entity Recognition : \")\n",
    "expander3 = st.expander(\"Similarities  :\", expanded=False)\n",
    "with expander3:\n",
    "    image3 = st.image(linkNER)\n",
    "\n",
    "#----------------------------------------------------------------------------------------------------------------------------\n",
    "st.markdown(\"## 📥 Download Datasets and results :\")\n",
    "def convert_df(df):\n",
    "     # IMPORTANT: Cache the conversion to prevent computation on every rerun\n",
    "    return df.to_csv(sep=\";\").encode('utf-8')\n",
    "dfcsv = convert_df(df)\n",
    "clusterdf = convert_df(cluster)\n",
    "c1, c2= st.columns([6, 6])\n",
    "with c1:\n",
    "    st.header(\"Dataset :\")\n",
    "    result = st.download_button(\n",
    "      label=\"📥 Download (.csv)\",\n",
    "      data=dfcsv,\n",
    "      file_name=option+'_df.csv',\n",
    "      mime='text/csv',\n",
    "    )\n",
    "with c2:\n",
    "    st.header(\"Cluster :\")\n",
    "    dataset = st.download_button(\n",
    "      label=\"📥 Download(.csv)\",\n",
    "      data=clusterdf,\n",
    "      file_name=option+selectedCluster+'_df.csv',\n",
    "      mime='text_/csv',\n",
    "    )"
   ]
  },
  {
   "cell_type": "code",
   "execution_count": 1,
   "metadata": {
    "colab": {
     "base_uri": "https://localhost:8080/"
    },
    "id": "7j_l_fUlqFx-",
    "outputId": "35e3e807-454b-4e46-fb25-9ec8869dabff"
   },
   "outputs": [],
   "source": [
    "!streamlit run app.py & npx  localtunnel --port 8501"
   ]
  }
 ],
 "metadata": {
  "accelerator": "GPU",
  "colab": {
   "collapsed_sections": [
    "ogpQOKxMeIzn",
    "h5poRtkuGdWn",
    "wyhzey_1GdWq",
    "G4vZi8C1GdWs",
    "ftrYJq7xGdW0",
    "uyanCizrGdW2",
    "eQlh6HQWGdW2",
    "cXlRaj-3GdW3",
    "MFMzbLH4GdW4",
    "0Z6kHFa5GdW7",
    "U-brgMCWewo-"
   ],
   "include_colab_link": true,
   "name": "Copy of PPD_Fouille_de_texte_pour_lexploration_des_facteurs_de_sévérité_du_COVID19.ipynb",
   "provenance": []
  },
  "kernelspec": {
   "display_name": "Python 3",
   "language": "python",
   "name": "python3"
  },
  "language_info": {
   "codemirror_mode": {
    "name": "ipython",
    "version": 3
   },
   "file_extension": ".py",
   "mimetype": "text/x-python",
   "name": "python",
   "nbconvert_exporter": "python",
   "pygments_lexer": "ipython3",
   "version": "3.8.5"
  }
 },
 "nbformat": 4,
 "nbformat_minor": 1
}
